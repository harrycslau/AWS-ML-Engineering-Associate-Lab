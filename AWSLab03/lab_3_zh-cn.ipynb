{
 "cells": [
  {
   "cell_type": "markdown",
   "id": "669cd6bb",
   "metadata": {},
   "source": [
    "##任务 3：在 Amazon SageMaker 中部署模型\n",
    "\n",
    "在此任务中，您将使用 Amazon SageMaker 部署经过训练的机器学习模型来获得预测。首先，将模型构件导出到 Amazon S3 存储桶。然后，从模型构件创建 Sagemaker 模型对象。接下来，通过指定 Sagemaker 模型、要转换的数据的 S3 存储桶位置以及用于存储结果的 S3 存储桶位置来创建批量转换作业。然后，启动批量转换作业并监控其进度。最后，批量转换作业完成后，从指定的 S3 存储桶中检索结果。结果将包含经过训练的模型对输入数据所做的推理。"
   ]
  },
  {
   "cell_type": "markdown",
   "id": "052eb55a",
   "metadata": {},
   "source": [
    "**注意：**如果您在完成挑战时遇到任何问题，可在 Notebook 底部的<a href=\"#appendix\" target=\"_self\">**附录**</a>部分找到解决方案。"
   ]
  },
  {
   "cell_type": "markdown",
   "id": "frequent-booking",
   "metadata": {
    "papermill": {
     "duration": 0.018947,
     "end_time": "2021-06-01T00:12:50.309809",
     "exception": false,
     "start_time": "2021-06-01T00:12:50.290862",
     "status": "completed"
    },
    "tags": []
   },
   "source": [
    "###任务 3.1：设置环境\n",
    "\n",
    "这里的基本设置代码可以帮助您入门。请先查看并运行这些单元格，以安装程序包并创建变量。"
   ]
  },
  {
   "cell_type": "code",
   "execution_count": null,
   "id": "44983b4e",
   "metadata": {
    "tags": []
   },
   "outputs": [],
   "source": [
    "#import libraries and set variable values\n",
    "\n",
    "import sys\n",
    "import boto3\n",
    "import os\n",
    "import sagemaker\n",
    "import time\n",
    "\n",
    "sess = sagemaker.Session()\n",
    "\n",
    "bucket = sess.default_bucket()\n",
    "prefix = \"lab3/batch-transform\"\n",
    "bucket_path = \"s3://{}\".format(bucket)\n",
    "\n",
    "role = sagemaker.get_execution_role()\n",
    "\n",
    "region = boto3.Session().region_name\n"
   ]
  },
  {
   "cell_type": "markdown",
   "id": "d26e3138",
   "metadata": {},
   "source": [
    "###任务 3.2：创建模型\n",
    "\n",
    "在此任务中，您将获取预训练模型并将其上传到 S3。然后，在 SageMaker 中创建模型。接下来，使用 SageMaker 批量转换作业部署该模型。\n",
    "\n",
    "####要求和配置\n",
    "\n",
    "- 使用 **S3.Client.upload_file** API 将模型构件和测试数据上传到 S3 存储桶。"
   ]
  },
  {
   "cell_type": "markdown",
   "id": "42977436",
   "metadata": {},
   "source": [
    "有关使用 **upload_file** 方法的更多信息，请参阅 [将文件上传到 S3 对象] (https://boto3.amazonaws.com/v1/documentation/api/latest/reference/services/s3/client/upload_file.html#upload-file)。"
   ]
  },
  {
   "cell_type": "code",
   "execution_count": null,
   "id": "5603407e-39b8-4149-8d46-7f48602021f6",
   "metadata": {
    "tags": []
   },
   "outputs": [],
   "source": [
    "#将模型上传到 Amazon S3 存储桶\n",
    "from sagemaker.session import Session\n",
    "from sagemaker.image_uris import retrieve\n",
    "\n",
    "sagemaker = boto3.client('sagemaker')\n",
    "s3_client = boto3.client(\"s3\")\n",
    "\n",
    "#add_upload-model_code_here\n",
    "\n",
    "\n",
    "#add_upload-dataset_code_here\n"
   ]
  },
  {
   "cell_type": "markdown",
   "id": "a61c1f24",
   "metadata": {},
   "source": [
    "**注意：**有关如何将模型构件和测试数据上传到 S3 存储桶的详细代码，请参阅*附录*部分中的<a href=\"#task3-2-1\" target=\"_self\">**将模型和测试数据上传到 S3（任务 3.2）**</a>。"
   ]
  },
  {
   "cell_type": "markdown",
   "id": "e77c3e39",
   "metadata": {},
   "source": [
    "<a id=\"task3-2-continue\"></a>\n",
    "\n",
    "接下来，从上述模型构件在 SageMaker 中创建模型对象。\n",
    "\n",
    "####要求和配置\n",
    "\n",
    "- 使用 **SageMaker.Client.create_model** API 在 SageMaker 中创建模型。\n",
    "- 在 Request（请求）中，请使用以下选项：\n",
    "    - ModelName='telemarketing-model'\n",
    "    - ExecutionRoleArn=role (The IAM role create earlier that SageMaker uses)\n",
    "    - 对于主容器，请使用以下选项：\n",
    "        - Image= XGBoost container image URI (retrieve(framework='xgboost', region=boto3.Session().region_name, version='1.5-1'))\n",
    "        - ModelDataUrl=model_path (The S3 path where the model artifacts are uploaded earlier) \n",
    "\n",
    "有关使用 **SageMaker.Client.create_model** 方法的更多信息，请参阅 [在 SageMaker 中创建模型] (https://boto3.amazonaws.com/v1/documentation/api/latest/reference/services/sagemaker/client/create_model.html)。"
   ]
  },
  {
   "cell_type": "code",
   "execution_count": null,
   "id": "0075b3af-c958-4877-b104-90a11294d329",
   "metadata": {},
   "outputs": [],
   "source": [
    "sagemaker = boto3.client('sagemaker')\n",
    "\n",
    "#add_create-model_code_here"
   ]
  },
  {
   "cell_type": "markdown",
   "id": "f23b2fad",
   "metadata": {},
   "source": [
    "**注意：**有关如何创建模型的详细代码，请参阅*附录*部分中的<a href=\"#task3-2-2\" target=\"_self\">**在 SageMaker 中创建模型（任务 3.2）**</a>。"
   ]
  },
  {
   "cell_type": "markdown",
   "id": "f82b09c6",
   "metadata": {},
   "source": [
    "<a id=\"task3-3\"></a>\n",
    "\n",
    "###任务 3.3：创建批量转换器\n",
    "\n",
    "在此任务中，您将创建批量转换器。\n",
    "\n",
    "有关使用 **Transfomer API** 的更多信息，请参阅 [使用 Transformer API] (https://sagemaker.readthedocs.io/en/stable/api/inference/transformer.html#sagemaker.transformer.Transformer)。\n",
    "\n",
    "####要求和配置\n",
    "\n",
    "- 使用 **sagemaker.transformer.Transformer** API 在 SageMaker 中初始化转换器。\n",
    "- 在 Parameters（参数）部分中，请使用以下选项：\n",
    "    - model_name=\"telemarketing-model\"\n",
    "    - instance_type=\"ml.m4.xlarge\"\n",
    "    - instance_count=1\n",
    "    - assemble_with=\"Line\"\n",
    "    - strategy=\"MultiRecord\"\n",
    "    - accept=\"text/csv\"\n",
    "    - output_path=\"s3://{}/{}/batch-transform/test\".format(bucket, prefix)"
   ]
  },
  {
   "cell_type": "code",
   "execution_count": 7,
   "id": "075f1aaf",
   "metadata": {
    "tags": []
   },
   "outputs": [],
   "source": [
    "from sagemaker.transformer import Transformer\n",
    "\n",
    "#add_create-batch-transformer_code_here\n",
    "transformer = Transformer(\n",
    "    \n",
    ")"
   ]
  },
  {
   "cell_type": "markdown",
   "id": "498fa396",
   "metadata": {},
   "source": [
    "**注意：**有关如何创建转换器对象的详细代码，请参阅*附录*部分中的<a href=\"#task3-3-1\" target=\"_self\">**创建批量转换器对象（任务 3.3）**</a>。"
   ]
  },
  {
   "cell_type": "markdown",
   "id": "wrong-terror",
   "metadata": {
    "papermill": {
     "duration": 0.022031,
     "end_time": "2021-06-01T00:12:54.187737",
     "exception": false,
     "start_time": "2021-06-01T00:12:54.165706",
     "status": "completed"
    },
    "tags": []
   },
   "source": [
    "<a id=\"task3-4\"></a>\n",
    "\n",
    "###任务 3.4：运行批量转换作业\n",
    "\n",
    "在此任务中，您将运行转换作业。您将传递训练数据以从批量转换器获得预测。\n",
    "\n",
    "有关使用 **Transformer.transform** API 的更多信息，请参阅 [使用 Transform API] (https://sagemaker.readthedocs.io/en/stable/api/inference/transformer.html#sagemaker.transformer.Transformer.transform)。\n",
    "\n",
    "####要求和配置\n",
    "\n",
    "- 使用 **Transformer.transform** API 在 SageMaker 中初始化转换器。\n",
    "- 在 Parameters（参数）部分中，请使用以下选项：\n",
    "    - batch_path（Amazon S3 之前创建的输入数据位置）\n",
    "    - content_type=\"text/csv\"\n",
    "    - split_type=\"Line\"\n",
    "    - join_source=\"Input\""
   ]
  },
  {
   "cell_type": "code",
   "execution_count": null,
   "id": "237d4c62",
   "metadata": {
    "tags": []
   },
   "outputs": [],
   "source": [
    "transformer.transform(\n",
    " #add_run-batch-transform-job_code_here   \n",
    ")\n",
    "\n",
    "transformer.wait()"
   ]
  },
  {
   "cell_type": "markdown",
   "id": "325f61a3",
   "metadata": {},
   "source": [
    "**注意：**有关如何运行转换作业的详细代码，请参阅*附录*部分中的<a href=\"#task3-4-1\" target=\"_self\">**运行批量转换作业（任务 3.4）**</a>。"
   ]
  },
  {
   "cell_type": "markdown",
   "id": "ffbab2cb",
   "metadata": {},
   "source": [
    "<a id=\"task3-5\"></a>\n",
    "\n",
    "###任务 3.5：验证存储在 S3 存储桶中的输出\n",
    "\n",
    "在此任务中，您将在 S3 中提取批量转换作业的输出。应该会显示预测列表。"
   ]
  },
  {
   "cell_type": "code",
   "execution_count": null,
   "id": "5192e162",
   "metadata": {
    "tags": []
   },
   "outputs": [],
   "source": [
    "!aws s3 cp --recursive $transformer.output_path ./\n",
    "!head test_data.csv.out"
   ]
  },
  {
   "cell_type": "markdown",
   "id": "ccec8c09",
   "metadata": {},
   "source": [
    "恭喜！您已使用 Amazon SageMaker 成功部署了经过训练的机器学习模型来获得预测。\n",
    "\n",
    "###清理\n",
    "\n",
    "您已完成此 Notebook。要进入本实验的下一部分，请执行以下操作：\n",
    "\n",
    "- 关闭此 Notebook 文件。\n",
    "- 返回至实验会话并继续**总结**部分。"
   ]
  },
  {
   "cell_type": "markdown",
   "id": "d8edf86a",
   "metadata": {},
   "source": [
    "##其他资源\n",
    "\n",
    "- [部署模型进行推理](https://docs.aws.amazon.com/sagemaker/latest/dg/deploy-model.html)\n",
    "- [使用 SageMaker API](https://sagemaker.readthedocs.io/en/stable/api/inference/index.html)"
   ]
  },
  {
   "cell_type": "markdown",
   "id": "450fd095",
   "metadata": {},
   "source": [
    "<a name=\"appendix\" id=\"appendix\"></a>\n",
    "\n",
    "##附录\n"
   ]
  },
  {
   "cell_type": "markdown",
   "id": "70df7dff",
   "metadata": {},
   "source": [
    "<a name=\"task3-2-1\" id=\"task3-2-1\"></a>\n",
    "\n",
    "###将模型和测试数据上传到 S3（任务 3.2）"
   ]
  },
  {
   "cell_type": "code",
   "execution_count": null,
   "id": "e6657c73",
   "metadata": {},
   "outputs": [],
   "source": [
    "#将模型上传到 Amazon S3 存储桶\n",
    "from sagemaker.session import Session\n",
    "from sagemaker.image_uris import retrieve\n",
    "\n",
    "#session = boto3.Session()\n",
    "sagemaker = boto3.client('sagemaker')\n",
    "s3_client = boto3.client(\"s3\")\n",
    "\n",
    "#upload-model\n",
    "s3_client.upload_file(Filename=\"model.tar.gz\", Bucket=bucket, Key=f\"{prefix}/models/model.tar.gz\")  \n",
    "model_path = f\"s3://{bucket}/{prefix}/models/model.tar.gz\"\n",
    "print(model_path)\n",
    "\n",
    "#upload-dataset\n",
    "s3_client.upload_file(Filename=\"test_data.csv\", Bucket=bucket, Key=f\"{prefix}/test_data.csv\", ExtraArgs={\"ContentType\": \"text/csv;charset=utf-8\"})\n",
    "batch_path = f\"s3://{bucket}/{prefix}/test_data.csv\"\n",
    "print(batch_path)"
   ]
  },
  {
   "cell_type": "markdown",
   "id": "9cd62438",
   "metadata": {},
   "source": [
    "要继续本实验，请返回至<a href=\"#task3-2-continue\" target=\"_self\">任务 3.2</a>。"
   ]
  },
  {
   "cell_type": "markdown",
   "id": "258ed6c9",
   "metadata": {},
   "source": [
    "<a name=\"task3-2-2\" id=\"task3-2-2\"></a>\n",
    "\n",
    "###在 SageMaker 中创建模型（任务 3.2）"
   ]
  },
  {
   "cell_type": "code",
   "execution_count": null,
   "id": "4badb6bc",
   "metadata": {
    "tags": []
   },
   "outputs": [],
   "source": [
    "sagemaker = boto3.client('sagemaker')\n",
    "\n",
    "#检索容器映像\n",
    "image = retrieve(framework='xgboost', region=boto3.Session().region_name, version='1.5-1')\n",
    "\n",
    "primary_container = {\"Image\": image, \"ModelDataUrl\": model_path}\n",
    "\n",
    "#设置模型\n",
    "create_model_response = sagemaker.create_model(\n",
    "    ModelName='telemarketing-model', ExecutionRoleArn=role, PrimaryContainer=primary_container\n",
    ")\n",
    "\n",
    "print(create_model_response[\"ModelArn\"])"
   ]
  },
  {
   "cell_type": "markdown",
   "id": "2563d692",
   "metadata": {},
   "source": [
    "要继续本实验，请返回至<a href=\"#task3-3\" target=\"_self\">任务 3.3</a>。"
   ]
  },
  {
   "cell_type": "markdown",
   "id": "47a04458",
   "metadata": {},
   "source": [
    "<a name=\"task3-3-1\" id=\"task3-3-1\"></a>\n",
    "\n",
    "###创建批量转换器对象（任务 3.3）"
   ]
  },
  {
   "cell_type": "code",
   "execution_count": null,
   "id": "55bc4bbd",
   "metadata": {},
   "outputs": [],
   "source": [
    "from sagemaker.transformer import Transformer\n",
    "\n",
    "#create-batch-transformer\n",
    "transformer = Transformer(\n",
    "    model_name=\"telemarketing-model\",\n",
    "    instance_type=\"ml.m4.xlarge\",\n",
    "    instance_count=1,\n",
    "    assemble_with=\"Line\",\n",
    "    strategy=\"MultiRecord\",\n",
    "    accept=\"text/csv\",\n",
    "    output_path=\"s3://{}/{}/batch-transform/test\".format(bucket, prefix)\n",
    ")"
   ]
  },
  {
   "cell_type": "markdown",
   "id": "1518a7f2",
   "metadata": {},
   "source": [
    "要继续本实验，请返回至<a href=\"#task3-4\" target=\"_self\">任务 3.4</a>。"
   ]
  },
  {
   "cell_type": "markdown",
   "id": "81cbc760",
   "metadata": {},
   "source": [
    "<a name=\"task3-4-1\" id=\"task3-4-1\"></a>\n",
    "\n",
    "###运行批量转换作业（任务 3.4）\n"
   ]
  },
  {
   "cell_type": "code",
   "execution_count": null,
   "id": "d968864a-3346-4c86-84e3-19e1de190ecb",
   "metadata": {},
   "outputs": [],
   "source": [
    "#run-batch-transform-job\n",
    "transformer.transform(batch_path, content_type=\"text/csv\", split_type=\"Line\", join_source=\"Input\")\n",
    "\n",
    "transformer.wait()"
   ]
  },
  {
   "cell_type": "markdown",
   "id": "cd11c4fd",
   "metadata": {},
   "source": [
    "要继续本实验，请返回至<a href=\"#task3-5\" target=\"_self\">任务 3.5</a>。"
   ]
  }
 ],
 "metadata": {
  "availableInstances": [
   {
    "_defaultOrder": 0,
    "_isFastLaunch": true,
    "category": "General purpose",
    "gpuNum": 0,
    "hideHardwareSpecs": false,
    "memoryGiB": 4,
    "name": "ml.t3.medium",
    "vcpuNum": 2
   },
   {
    "_defaultOrder": 1,
    "_isFastLaunch": false,
    "category": "General purpose",
    "gpuNum": 0,
    "hideHardwareSpecs": false,
    "memoryGiB": 8,
    "name": "ml.t3.large",
    "vcpuNum": 2
   },
   {
    "_defaultOrder": 2,
    "_isFastLaunch": false,
    "category": "General purpose",
    "gpuNum": 0,
    "hideHardwareSpecs": false,
    "memoryGiB": 16,
    "name": "ml.t3.xlarge",
    "vcpuNum": 4
   },
   {
    "_defaultOrder": 3,
    "_isFastLaunch": false,
    "category": "General purpose",
    "gpuNum": 0,
    "hideHardwareSpecs": false,
    "memoryGiB": 32,
    "name": "ml.t3.2xlarge",
    "vcpuNum": 8
   },
   {
    "_defaultOrder": 4,
    "_isFastLaunch": true,
    "category": "General purpose",
    "gpuNum": 0,
    "hideHardwareSpecs": false,
    "memoryGiB": 8,
    "name": "ml.m5.large",
    "vcpuNum": 2
   },
   {
    "_defaultOrder": 5,
    "_isFastLaunch": false,
    "category": "General purpose",
    "gpuNum": 0,
    "hideHardwareSpecs": false,
    "memoryGiB": 16,
    "name": "ml.m5.xlarge",
    "vcpuNum": 4
   },
   {
    "_defaultOrder": 6,
    "_isFastLaunch": false,
    "category": "General purpose",
    "gpuNum": 0,
    "hideHardwareSpecs": false,
    "memoryGiB": 32,
    "name": "ml.m5.2xlarge",
    "vcpuNum": 8
   },
   {
    "_defaultOrder": 7,
    "_isFastLaunch": false,
    "category": "General purpose",
    "gpuNum": 0,
    "hideHardwareSpecs": false,
    "memoryGiB": 64,
    "name": "ml.m5.4xlarge",
    "vcpuNum": 16
   },
   {
    "_defaultOrder": 8,
    "_isFastLaunch": false,
    "category": "General purpose",
    "gpuNum": 0,
    "hideHardwareSpecs": false,
    "memoryGiB": 128,
    "name": "ml.m5.8xlarge",
    "vcpuNum": 32
   },
   {
    "_defaultOrder": 9,
    "_isFastLaunch": false,
    "category": "General purpose",
    "gpuNum": 0,
    "hideHardwareSpecs": false,
    "memoryGiB": 192,
    "name": "ml.m5.12xlarge",
    "vcpuNum": 48
   },
   {
    "_defaultOrder": 10,
    "_isFastLaunch": false,
    "category": "General purpose",
    "gpuNum": 0,
    "hideHardwareSpecs": false,
    "memoryGiB": 256,
    "name": "ml.m5.16xlarge",
    "vcpuNum": 64
   },
   {
    "_defaultOrder": 11,
    "_isFastLaunch": false,
    "category": "General purpose",
    "gpuNum": 0,
    "hideHardwareSpecs": false,
    "memoryGiB": 384,
    "name": "ml.m5.24xlarge",
    "vcpuNum": 96
   },
   {
    "_defaultOrder": 12,
    "_isFastLaunch": false,
    "category": "General purpose",
    "gpuNum": 0,
    "hideHardwareSpecs": false,
    "memoryGiB": 8,
    "name": "ml.m5d.large",
    "vcpuNum": 2
   },
   {
    "_defaultOrder": 13,
    "_isFastLaunch": false,
    "category": "General purpose",
    "gpuNum": 0,
    "hideHardwareSpecs": false,
    "memoryGiB": 16,
    "name": "ml.m5d.xlarge",
    "vcpuNum": 4
   },
   {
    "_defaultOrder": 14,
    "_isFastLaunch": false,
    "category": "General purpose",
    "gpuNum": 0,
    "hideHardwareSpecs": false,
    "memoryGiB": 32,
    "name": "ml.m5d.2xlarge",
    "vcpuNum": 8
   },
   {
    "_defaultOrder": 15,
    "_isFastLaunch": false,
    "category": "General purpose",
    "gpuNum": 0,
    "hideHardwareSpecs": false,
    "memoryGiB": 64,
    "name": "ml.m5d.4xlarge",
    "vcpuNum": 16
   },
   {
    "_defaultOrder": 16,
    "_isFastLaunch": false,
    "category": "General purpose",
    "gpuNum": 0,
    "hideHardwareSpecs": false,
    "memoryGiB": 128,
    "name": "ml.m5d.8xlarge",
    "vcpuNum": 32
   },
   {
    "_defaultOrder": 17,
    "_isFastLaunch": false,
    "category": "General purpose",
    "gpuNum": 0,
    "hideHardwareSpecs": false,
    "memoryGiB": 192,
    "name": "ml.m5d.12xlarge",
    "vcpuNum": 48
   },
   {
    "_defaultOrder": 18,
    "_isFastLaunch": false,
    "category": "General purpose",
    "gpuNum": 0,
    "hideHardwareSpecs": false,
    "memoryGiB": 256,
    "name": "ml.m5d.16xlarge",
    "vcpuNum": 64
   },
   {
    "_defaultOrder": 19,
    "_isFastLaunch": false,
    "category": "General purpose",
    "gpuNum": 0,
    "hideHardwareSpecs": false,
    "memoryGiB": 384,
    "name": "ml.m5d.24xlarge",
    "vcpuNum": 96
   },
   {
    "_defaultOrder": 20,
    "_isFastLaunch": false,
    "category": "General purpose",
    "gpuNum": 0,
    "hideHardwareSpecs": true,
    "memoryGiB": 0,
    "name": "ml.geospatial.interactive",
    "supportedImageNames": [
     "sagemaker-geospatial-v1-0"
    ],
    "vcpuNum": 0
   },
   {
    "_defaultOrder": 21,
    "_isFastLaunch": true,
    "category": "Compute optimized",
    "gpuNum": 0,
    "hideHardwareSpecs": false,
    "memoryGiB": 4,
    "name": "ml.c5.large",
    "vcpuNum": 2
   },
   {
    "_defaultOrder": 22,
    "_isFastLaunch": false,
    "category": "Compute optimized",
    "gpuNum": 0,
    "hideHardwareSpecs": false,
    "memoryGiB": 8,
    "name": "ml.c5.xlarge",
    "vcpuNum": 4
   },
   {
    "_defaultOrder": 23,
    "_isFastLaunch": false,
    "category": "Compute optimized",
    "gpuNum": 0,
    "hideHardwareSpecs": false,
    "memoryGiB": 16,
    "name": "ml.c5.2xlarge",
    "vcpuNum": 8
   },
   {
    "_defaultOrder": 24,
    "_isFastLaunch": false,
    "category": "Compute optimized",
    "gpuNum": 0,
    "hideHardwareSpecs": false,
    "memoryGiB": 32,
    "name": "ml.c5.4xlarge",
    "vcpuNum": 16
   },
   {
    "_defaultOrder": 25,
    "_isFastLaunch": false,
    "category": "Compute optimized",
    "gpuNum": 0,
    "hideHardwareSpecs": false,
    "memoryGiB": 72,
    "name": "ml.c5.9xlarge",
    "vcpuNum": 36
   },
   {
    "_defaultOrder": 26,
    "_isFastLaunch": false,
    "category": "Compute optimized",
    "gpuNum": 0,
    "hideHardwareSpecs": false,
    "memoryGiB": 96,
    "name": "ml.c5.12xlarge",
    "vcpuNum": 48
   },
   {
    "_defaultOrder": 27,
    "_isFastLaunch": false,
    "category": "Compute optimized",
    "gpuNum": 0,
    "hideHardwareSpecs": false,
    "memoryGiB": 144,
    "name": "ml.c5.18xlarge",
    "vcpuNum": 72
   },
   {
    "_defaultOrder": 28,
    "_isFastLaunch": false,
    "category": "Compute optimized",
    "gpuNum": 0,
    "hideHardwareSpecs": false,
    "memoryGiB": 192,
    "name": "ml.c5.24xlarge",
    "vcpuNum": 96
   },
   {
    "_defaultOrder": 29,
    "_isFastLaunch": true,
    "category": "Accelerated computing",
    "gpuNum": 1,
    "hideHardwareSpecs": false,
    "memoryGiB": 16,
    "name": "ml.g4dn.xlarge",
    "vcpuNum": 4
   },
   {
    "_defaultOrder": 30,
    "_isFastLaunch": false,
    "category": "Accelerated computing",
    "gpuNum": 1,
    "hideHardwareSpecs": false,
    "memoryGiB": 32,
    "name": "ml.g4dn.2xlarge",
    "vcpuNum": 8
   },
   {
    "_defaultOrder": 31,
    "_isFastLaunch": false,
    "category": "Accelerated computing",
    "gpuNum": 1,
    "hideHardwareSpecs": false,
    "memoryGiB": 64,
    "name": "ml.g4dn.4xlarge",
    "vcpuNum": 16
   },
   {
    "_defaultOrder": 32,
    "_isFastLaunch": false,
    "category": "Accelerated computing",
    "gpuNum": 1,
    "hideHardwareSpecs": false,
    "memoryGiB": 128,
    "name": "ml.g4dn.8xlarge",
    "vcpuNum": 32
   },
   {
    "_defaultOrder": 33,
    "_isFastLaunch": false,
    "category": "Accelerated computing",
    "gpuNum": 4,
    "hideHardwareSpecs": false,
    "memoryGiB": 192,
    "name": "ml.g4dn.12xlarge",
    "vcpuNum": 48
   },
   {
    "_defaultOrder": 34,
    "_isFastLaunch": false,
    "category": "Accelerated computing",
    "gpuNum": 1,
    "hideHardwareSpecs": false,
    "memoryGiB": 256,
    "name": "ml.g4dn.16xlarge",
    "vcpuNum": 64
   },
   {
    "_defaultOrder": 35,
    "_isFastLaunch": false,
    "category": "Accelerated computing",
    "gpuNum": 1,
    "hideHardwareSpecs": false,
    "memoryGiB": 61,
    "name": "ml.p3.2xlarge",
    "vcpuNum": 8
   },
   {
    "_defaultOrder": 36,
    "_isFastLaunch": false,
    "category": "Accelerated computing",
    "gpuNum": 4,
    "hideHardwareSpecs": false,
    "memoryGiB": 244,
    "name": "ml.p3.8xlarge",
    "vcpuNum": 32
   },
   {
    "_defaultOrder": 37,
    "_isFastLaunch": false,
    "category": "Accelerated computing",
    "gpuNum": 8,
    "hideHardwareSpecs": false,
    "memoryGiB": 488,
    "name": "ml.p3.16xlarge",
    "vcpuNum": 64
   },
   {
    "_defaultOrder": 38,
    "_isFastLaunch": false,
    "category": "Accelerated computing",
    "gpuNum": 8,
    "hideHardwareSpecs": false,
    "memoryGiB": 768,
    "name": "ml.p3dn.24xlarge",
    "vcpuNum": 96
   },
   {
    "_defaultOrder": 39,
    "_isFastLaunch": false,
    "category": "Memory Optimized",
    "gpuNum": 0,
    "hideHardwareSpecs": false,
    "memoryGiB": 16,
    "name": "ml.r5.large",
    "vcpuNum": 2
   },
   {
    "_defaultOrder": 40,
    "_isFastLaunch": false,
    "category": "Memory Optimized",
    "gpuNum": 0,
    "hideHardwareSpecs": false,
    "memoryGiB": 32,
    "name": "ml.r5.xlarge",
    "vcpuNum": 4
   },
   {
    "_defaultOrder": 41,
    "_isFastLaunch": false,
    "category": "Memory Optimized",
    "gpuNum": 0,
    "hideHardwareSpecs": false,
    "memoryGiB": 64,
    "name": "ml.r5.2xlarge",
    "vcpuNum": 8
   },
   {
    "_defaultOrder": 42,
    "_isFastLaunch": false,
    "category": "Memory Optimized",
    "gpuNum": 0,
    "hideHardwareSpecs": false,
    "memoryGiB": 128,
    "name": "ml.r5.4xlarge",
    "vcpuNum": 16
   },
   {
    "_defaultOrder": 43,
    "_isFastLaunch": false,
    "category": "Memory Optimized",
    "gpuNum": 0,
    "hideHardwareSpecs": false,
    "memoryGiB": 256,
    "name": "ml.r5.8xlarge",
    "vcpuNum": 32
   },
   {
    "_defaultOrder": 44,
    "_isFastLaunch": false,
    "category": "Memory Optimized",
    "gpuNum": 0,
    "hideHardwareSpecs": false,
    "memoryGiB": 384,
    "name": "ml.r5.12xlarge",
    "vcpuNum": 48
   },
   {
    "_defaultOrder": 45,
    "_isFastLaunch": false,
    "category": "Memory Optimized",
    "gpuNum": 0,
    "hideHardwareSpecs": false,
    "memoryGiB": 512,
    "name": "ml.r5.16xlarge",
    "vcpuNum": 64
   },
   {
    "_defaultOrder": 46,
    "_isFastLaunch": false,
    "category": "Memory Optimized",
    "gpuNum": 0,
    "hideHardwareSpecs": false,
    "memoryGiB": 768,
    "name": "ml.r5.24xlarge",
    "vcpuNum": 96
   },
   {
    "_defaultOrder": 47,
    "_isFastLaunch": false,
    "category": "Accelerated computing",
    "gpuNum": 1,
    "hideHardwareSpecs": false,
    "memoryGiB": 16,
    "name": "ml.g5.xlarge",
    "vcpuNum": 4
   },
   {
    "_defaultOrder": 48,
    "_isFastLaunch": false,
    "category": "Accelerated computing",
    "gpuNum": 1,
    "hideHardwareSpecs": false,
    "memoryGiB": 32,
    "name": "ml.g5.2xlarge",
    "vcpuNum": 8
   },
   {
    "_defaultOrder": 49,
    "_isFastLaunch": false,
    "category": "Accelerated computing",
    "gpuNum": 1,
    "hideHardwareSpecs": false,
    "memoryGiB": 64,
    "name": "ml.g5.4xlarge",
    "vcpuNum": 16
   },
   {
    "_defaultOrder": 50,
    "_isFastLaunch": false,
    "category": "Accelerated computing",
    "gpuNum": 1,
    "hideHardwareSpecs": false,
    "memoryGiB": 128,
    "name": "ml.g5.8xlarge",
    "vcpuNum": 32
   },
   {
    "_defaultOrder": 51,
    "_isFastLaunch": false,
    "category": "Accelerated computing",
    "gpuNum": 1,
    "hideHardwareSpecs": false,
    "memoryGiB": 256,
    "name": "ml.g5.16xlarge",
    "vcpuNum": 64
   },
   {
    "_defaultOrder": 52,
    "_isFastLaunch": false,
    "category": "Accelerated computing",
    "gpuNum": 4,
    "hideHardwareSpecs": false,
    "memoryGiB": 192,
    "name": "ml.g5.12xlarge",
    "vcpuNum": 48
   },
   {
    "_defaultOrder": 53,
    "_isFastLaunch": false,
    "category": "Accelerated computing",
    "gpuNum": 4,
    "hideHardwareSpecs": false,
    "memoryGiB": 384,
    "name": "ml.g5.24xlarge",
    "vcpuNum": 96
   },
   {
    "_defaultOrder": 54,
    "_isFastLaunch": false,
    "category": "Accelerated computing",
    "gpuNum": 8,
    "hideHardwareSpecs": false,
    "memoryGiB": 768,
    "name": "ml.g5.48xlarge",
    "vcpuNum": 192
   },
   {
    "_defaultOrder": 55,
    "_isFastLaunch": false,
    "category": "Accelerated computing",
    "gpuNum": 8,
    "hideHardwareSpecs": false,
    "memoryGiB": 1152,
    "name": "ml.p4d.24xlarge",
    "vcpuNum": 96
   },
   {
    "_defaultOrder": 56,
    "_isFastLaunch": false,
    "category": "Accelerated computing",
    "gpuNum": 8,
    "hideHardwareSpecs": false,
    "memoryGiB": 1152,
    "name": "ml.p4de.24xlarge",
    "vcpuNum": 96
   },
   {
    "_defaultOrder": 57,
    "_isFastLaunch": false,
    "category": "Accelerated computing",
    "gpuNum": 0,
    "hideHardwareSpecs": false,
    "memoryGiB": 32,
    "name": "ml.trn1.2xlarge",
    "vcpuNum": 8
   },
   {
    "_defaultOrder": 58,
    "_isFastLaunch": false,
    "category": "Accelerated computing",
    "gpuNum": 0,
    "hideHardwareSpecs": false,
    "memoryGiB": 512,
    "name": "ml.trn1.32xlarge",
    "vcpuNum": 128
   },
   {
    "_defaultOrder": 59,
    "_isFastLaunch": false,
    "category": "Accelerated computing",
    "gpuNum": 0,
    "hideHardwareSpecs": false,
    "memoryGiB": 512,
    "name": "ml.trn1n.32xlarge",
    "vcpuNum": 128
   }
  ],
  "instance_type": "ml.t3.medium",
  "kernelspec": {
   "display_name": "Python 3 (Data Science 3.0)",
   "language": "python",
   "name": "python3__SAGEMAKER_INTERNAL__arn:aws:sagemaker:us-west-2:236514542706:image/sagemaker-data-science-310-v1"
  },
  "language_info": {
   "codemirror_mode": {
    "name": "ipython",
    "version": 3
   },
   "file_extension": ".py",
   "mimetype": "text/x-python",
   "name": "python",
   "nbconvert_exporter": "python",
   "pygments_lexer": "ipython3",
   "version": "3.10.6"
  },
  "papermill": {
   "default_parameters": {},
   "duration": 239.460793,
   "end_time": "2021-06-01T00:16:48.734820",
   "environment_variables": {},
   "exception": true,
   "input_path": "pytorch_script_change_smdebug.ipynb",
   "output_path": "/opt/ml/processing/output/pytorch_script_change_smdebug-2021-06-01-00-08-41.ipynb",
   "parameters": {
    "kms_key": "arn:aws:kms:us-west-2:521695447989:key/6e9984db-50cf-4c7e-926c-877ec47a8b25"
   },
   "start_time": "2021-06-01T00:12:49.274027",
   "version": "2.3.3"
  },
  "vscode": {
   "interpreter": {
    "hash": "2e45558c452cedcb26631315a9b3b77e80a9c32d662ed25df58964b99bc5b9b9"
   }
  }
 },
 "nbformat": 4,
 "nbformat_minor": 5
}
