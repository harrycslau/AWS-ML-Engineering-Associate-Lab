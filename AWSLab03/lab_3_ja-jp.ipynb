{
 "cells": [
  {
   "cell_type": "markdown",
   "id": "669cd6bb",
   "metadata": {},
   "source": [
    "## タスク 3: Amazon SageMaker にモデルをデプロイする\n",
    "\n",
    "このタスクでは、Amazon SageMaker を使用してトレーニング済みの機械学習モデルをデプロイし、予測を取得します。まず、モデルアーティファクトを Amazon S3 バケットにエクスポートします。次に、モデルアーティファクトから SageMaker Model オブジェクトを作成します。次に、Sagemaker Model、変換するデータの S3 バケットの場所、および結果を保存する S3 バケットの場所を指定して、バッチ変換ジョブを作成します。次に、バッチ変換ジョブを開始し、その進行状況を監視します。最後に、バッチ変換ジョブが完了したら、指定した S3 バケットから結果を取得します。結果には、入力データに対してトレーニング済みのモデルが行った推論が含まれています。"
   ]
  },
  {
   "cell_type": "markdown",
   "id": "052eb55a",
   "metadata": {},
   "source": [
    "**注:** 課題を完了するのに問題が発生した場合は、ノートブックの下部にある<a href=\"#appendix\" target=\"_self\">**付録**</a>セクションにソリューションが用意されています。"
   ]
  },
  {
   "cell_type": "markdown",
   "id": "frequent-booking",
   "metadata": {
    "papermill": {
     "duration": 0.018947,
     "end_time": "2021-06-01T00:12:50.309809",
     "exception": false,
     "start_time": "2021-06-01T00:12:50.290862",
     "status": "completed"
    },
    "tags": []
   },
   "source": [
    "### タスク 3.1: 環境を設定する\n",
    "\n",
    "ラボの開始に必要となる、基本的な設定コードは以下に用意されています。パッケージのインストールと変数の作成のために、まずこれらのセルを読み込んで実行します。"
   ]
  },
  {
   "cell_type": "code",
   "execution_count": null,
   "id": "44983b4e",
   "metadata": {
    "tags": []
   },
   "outputs": [],
   "source": [
    "#ライブラリをインポートして変数値を設定する\n",
    "\n",
    "import sys\n",
    "import boto3\n",
    "import os\n",
    "import sagemaker\n",
    "import time\n",
    "\n",
    "sess = sagemaker.Session()\n",
    "\n",
    "bucket = sess.default_bucket()\n",
    "prefix = \"lab3/batch-transform\"\n",
    "bucket_path = \"s3://{}\".format(bucket)\n",
    "\n",
    "role = sagemaker.get_execution_role()\n",
    "\n",
    "region = boto3.Session().region_name\n"
   ]
  },
  {
   "cell_type": "markdown",
   "id": "d26e3138",
   "metadata": {},
   "source": [
    "### タスク 3.2: モデルを作成する\n",
    "\n",
    "このタスクでは、事前トレーニング済みのモデルを取得して S3 にアップロードします。次に、SageMaker でモデルを作成します。このモデルは後で SageMaker バッチ変換ジョブを使用してデプロイされます。\n",
    "\n",
    "#### 要件と設定\n",
    "\n",
    "- **S3.Client.upload_file** API を使用して、モデルアーティファクトとテストデータを S3 バケットにアップロードします。"
   ]
  },
  {
   "cell_type": "markdown",
   "id": "42977436",
   "metadata": {},
   "source": [
    "**upload_file** メソッドの使用方法の詳細については、[Upload a file to an S3 object](https://boto3.amazonaws.com/v1/documentation/api/latest/reference/services/s3/client/upload_file.html#upload-file) を参照してください。"
   ]
  },
  {
   "cell_type": "code",
   "execution_count": null,
   "id": "5603407e-39b8-4149-8d46-7f48602021f6",
   "metadata": {
    "tags": []
   },
   "outputs": [],
   "source": [
    "# モデルを Amazon S3 バケットにアップロードする\n",
    "from sagemaker.session import Session\n",
    "from sagemaker.image_uris import retrieve\n",
    "\n",
    "sagemaker = boto3.client('sagemaker')\n",
    "s3_client = boto3.client(\"s3\")\n",
    "\n",
    "#add_upload-model_code_here\n",
    "\n",
    "\n",
    "#add_upload-dataset_code_here\n"
   ]
  },
  {
   "cell_type": "markdown",
   "id": "a61c1f24",
   "metadata": {},
   "source": [
    "**注:** モデルアーティファクトとテストデータを S3 バケットにアップロードする方法の詳細なコードについては、「*付録*」セクションの<a href=\"#task3-2-1\" target=\"_self\">**モデルとテストデータを S3 にアップロードする (タスク 3.2)**</a> を参照してください。"
   ]
  },
  {
   "cell_type": "markdown",
   "id": "e77c3e39",
   "metadata": {},
   "source": [
    "<a id=\"task3-2-continue\"></a>\n",
    "\n",
    "次に、上記のモデルアーティファクトから SageMaker でモデルオブジェクトを作成します。\n",
    "\n",
    "#### 要件と設定\n",
    "\n",
    "- **SageMaker.Client.create_model** API を使用して SageMaker でモデルを作成します。\n",
    "- リクエストでは、次のオプションを使用します。\n",
    "    - ModelName='telemarketing-model'\n",
    "    - ExecutionRoleArn=role (SageMaker が使用する以前に作成された IAM ロール)\n",
    "    - プライマリコンテナには、次のオプションを使用します。\n",
    "        - Image= XGBoost container image URI (retrieve(framework='xgboost', region=boto3.Session().region_name, version='1.5-1'))\n",
    "        - ModelDataUrl=model_path (モデルアーティファクトが以前にアップロードされた S3 パス) \n",
    "\n",
    "**SageMaker.Client.create_model** メソッドの使用方法の詳細については、[Creating a model in SageMaker](https://boto3.amazonaws.com/v1/documentation/api/latest/reference/services/sagemaker/client/create_model.html) を参照してください。"
   ]
  },
  {
   "cell_type": "code",
   "execution_count": null,
   "id": "0075b3af-c958-4877-b104-90a11294d329",
   "metadata": {},
   "outputs": [],
   "source": [
    "sagemaker = boto3.client('sagemaker')\n",
    "\n",
    "#add_create-model_code_here"
   ]
  },
  {
   "cell_type": "markdown",
   "id": "f23b2fad",
   "metadata": {},
   "source": [
    "**注:** モデルの作成方法の詳細なコードについては、「*付録*」セクションの <a href=\"#task3-2-2\" target=\"_self\">**SageMaker でモデルを作成する (タスク 3.2)**</a> を参照してください。"
   ]
  },
  {
   "cell_type": "markdown",
   "id": "f82b09c6",
   "metadata": {},
   "source": [
    "<a id=\"task3-3\"></a>\n",
    "\n",
    "### タスク 3.3 バッチトランスフォーマーを作成する\n",
    "\n",
    "このタスクでは、バッチトランスフォーマーを作成します。\n",
    "\n",
    "**Transfomer** API の使用方法の詳細については、[Using Transformer API](https://sagemaker.readthedocs.io/en/stable/api/inference/transformer.html#sagemaker.transformer.Transformer) を参照してください。\n",
    "\n",
    "#### 要件と設定\n",
    "\n",
    "- **SageMaker.transformer.Transformer** API を使用して SageMaker でトランスフォーマーを初期化します。\n",
    "- Parameters セクションで、次のオプションを使用します。\n",
    "    - model_name=\"telemarketing-model\"\n",
    "    - instance_type=\"ml.m4.xlarge\"\n",
    "    - instance_count=1\n",
    "    - assemble_with=\"Line\"\n",
    "    - strategy=\"MultiRecord\"\n",
    "    - accept=\"text/csv\"\n",
    "    - output_path=\"s3://{}/{}/batch-transform/test\".format(bucket, prefix)"
   ]
  },
  {
   "cell_type": "code",
   "execution_count": 7,
   "id": "075f1aaf",
   "metadata": {
    "tags": []
   },
   "outputs": [],
   "source": [
    "from sagemaker.transformer import Transformer\n",
    "\n",
    "#add_create-batch-transformer_code_here\n",
    "transformer = Transformer(\n",
    "    \n",
    ")"
   ]
  },
  {
   "cell_type": "markdown",
   "id": "498fa396",
   "metadata": {},
   "source": [
    "**注:** Transformer オブジェクトを作成する方法の詳細なコードについては、「*付録*」セクションの<a href=\"#task3-3-1\" target=\"_self\">**バッチトランスフォーマーオブジェクトを作成する (タスク3.3)**</a> を参照してください。"
   ]
  },
  {
   "cell_type": "markdown",
   "id": "wrong-terror",
   "metadata": {
    "papermill": {
     "duration": 0.022031,
     "end_time": "2021-06-01T00:12:54.187737",
     "exception": false,
     "start_time": "2021-06-01T00:12:54.165706",
     "status": "completed"
    },
    "tags": []
   },
   "source": [
    "<a id=\"task3-4\"></a>\n",
    "\n",
    "### タスク 3.4: バッチ変換ジョブを実行する\n",
    "\n",
    "このタスクでは、変換ジョブを実行します。トレーニングデータを渡して、バッチトランスフォーマーから予測を取得します。\n",
    "\n",
    "**Transformer.transform** API の使用方法の詳細については、[Using Transform API](https://sagemaker.readthedocs.io/en/stable/api/inference/transformer.html#sagemaker.transformer.Transformer.transform) を参照してください。\n",
    "\n",
    "#### 要件と設定\n",
    "\n",
    "- **Transformer.transform** API を使用して SageMaker でトランスフォーマーを初期化します。\n",
    "- Parameters セクションで、次のオプションを使用します。\n",
    "    - batch_path (Amazon S3 で以前に作成した入力データの場所)\n",
    "    - content_type=\"text/csv\"\n",
    "    - split_type=\"Line\"\n",
    "    - join_source=\"Input\""
   ]
  },
  {
   "cell_type": "code",
   "execution_count": null,
   "id": "237d4c62",
   "metadata": {
    "tags": []
   },
   "outputs": [],
   "source": [
    "transformer.transform(\n",
    " #add_run-batch-transform-job_code_here   \n",
    ")\n",
    "\n",
    "transformer.wait()"
   ]
  },
  {
   "cell_type": "markdown",
   "id": "325f61a3",
   "metadata": {},
   "source": [
    "**注:** 変換ジョブの実行方法の詳細なコードについては、「*付録*」セクションの「<a href=\"#task3-4-1\" target=\"_self\">**バッチ変換ジョブを実行する (タスク 3.4)**</a> を参照してください。"
   ]
  },
  {
   "cell_type": "markdown",
   "id": "ffbab2cb",
   "metadata": {},
   "source": [
    "<a id=\"task3-5\"></a>\n",
    "\n",
    "### タスク 3.5: S3 バケットに保存されている出力を確認する\n",
    "\n",
    "このタスクでは、S3 のバッチ変換ジョブの出力を取得します。予測のリストが表示されるはずです。"
   ]
  },
  {
   "cell_type": "code",
   "execution_count": null,
   "id": "5192e162",
   "metadata": {
    "tags": []
   },
   "outputs": [],
   "source": [
    "!aws s3 cp --recursive $transformer.output_path ./\n",
    "!head test_data.csv.out"
   ]
  },
  {
   "cell_type": "markdown",
   "id": "ccec8c09",
   "metadata": {},
   "source": [
    "お疲れ様でした。Amazon SageMaker を使用してトレーニング済みの機械学習モデルをデプロイし、予測を取得できました。\n",
    "\n",
    "### クリーンアップ\n",
    "\n",
    "このノートブックを完了しました。ラボの次の部分に進むために、以下を実行してください。\n",
    "\n",
    "- このノートブックファイルを閉じる。\n",
    "- ラボのセッションに戻り、「**まとめ**」を続ける。"
   ]
  },
  {
   "cell_type": "markdown",
   "id": "d8edf86a",
   "metadata": {},
   "source": [
    "## その他のリソース\n",
    "\n",
    "- [Deploy models for inference](https://docs.aws.amazon.com/sagemaker/latest/dg/deploy-model.html)\n",
    "- [Using SageMaker APIs](https://sagemaker.readthedocs.io/en/stable/api/inference/index.html)"
   ]
  },
  {
   "cell_type": "markdown",
   "id": "450fd095",
   "metadata": {},
   "source": [
    "<a name=\"appendix\" id=\"appendix\"></a>\n",
    "\n",
    "## 付録\n"
   ]
  },
  {
   "cell_type": "markdown",
   "id": "70df7dff",
   "metadata": {},
   "source": [
    "<a name=\"task3-2-1\" id=\"task3-2-1\"></a>\n",
    "\n",
    "### モデルとテストデータを S3 にアップロードする (タスク 3.2)"
   ]
  },
  {
   "cell_type": "code",
   "execution_count": null,
   "id": "e6657c73",
   "metadata": {},
   "outputs": [],
   "source": [
    "# モデルを Amazon S3 バケットにアップロードする\n",
    "from sagemaker.session import Session\n",
    "from sagemaker.image_uris import retrieve\n",
    "\n",
    "#session = boto3.Session()\n",
    "sagemaker = boto3.client('sagemaker')\n",
    "s3_client = boto3.client(\"s3\")\n",
    "\n",
    "#upload-model\n",
    "s3_client.upload_file(Filename=\"model.tar.gz\", Bucket=bucket, Key=f\"{prefix}/models/model.tar.gz\")  \n",
    "model_path = f\"s3://{bucket}/{prefix}/models/model.tar.gz\"\n",
    "print(model_path)\n",
    "\n",
    "#upload-dataset\n",
    "s3_client.upload_file(Filename=\"test_data.csv\", Bucket=bucket, Key=f\"{prefix}/test_data.csv\", ExtraArgs={\"ContentType\": \"text/csv;charset=utf-8\"})\n",
    "batch_path = f\"s3://{bucket}/{prefix}/test_data.csv\"\n",
    "print(batch_path)"
   ]
  },
  {
   "cell_type": "markdown",
   "id": "9cd62438",
   "metadata": {},
   "source": [
    "このラボを続けるには、<a href=\"#task3-2-continue\" target=\"_self\">タスク 3.2</a> に戻ってください。"
   ]
  },
  {
   "cell_type": "markdown",
   "id": "258ed6c9",
   "metadata": {},
   "source": [
    "<a name=\"task3-2-2\" id=\"task3-2-2\"></a>\n",
    "\n",
    "### SageMaker でモデルを作成する (タスク 3.2)"
   ]
  },
  {
   "cell_type": "code",
   "execution_count": null,
   "id": "4badb6bc",
   "metadata": {
    "tags": []
   },
   "outputs": [],
   "source": [
    "sagemaker = boto3.client('sagemaker')\n",
    "\n",
    "# コンテナイメージを取得する\n",
    "image = retrieve(framework='xgboost', region=boto3.Session().region_name, version='1.5-1')\n",
    "\n",
    "primary_container = {\"Image\": image, \"ModelDataUrl\": model_path}\n",
    "\n",
    "# モデルを設定する\n",
    "create_model_response = sagemaker.create_model(\n",
    "    ModelName='telemarketing-model', ExecutionRoleArn=role, PrimaryContainer=primary_container\n",
    ")\n",
    "\n",
    "print(create_model_response[\"ModelArn\"])"
   ]
  },
  {
   "cell_type": "markdown",
   "id": "2563d692",
   "metadata": {},
   "source": [
    "<a href=\"#task3-3\" target=\"_self\">タスク 3.3</a> に戻って、このラボを続けます。"
   ]
  },
  {
   "cell_type": "markdown",
   "id": "47a04458",
   "metadata": {},
   "source": [
    "<a name=\"task3-3-1\" id=\"task3-3-1\"></a>\n",
    "\n",
    "### バッチトランスフォーマーオブジェクトを作成する (タスク 3.3)"
   ]
  },
  {
   "cell_type": "code",
   "execution_count": null,
   "id": "55bc4bbd",
   "metadata": {},
   "outputs": [],
   "source": [
    "from sagemaker.transformer import Transformer\n",
    "\n",
    "#create-batch-transformer\n",
    "transformer = Transformer(\n",
    "    model_name=\"telemarketing-model\",\n",
    "    instance_type=\"ml.m4.xlarge\",\n",
    "    instance_count=1,\n",
    "    assemble_with=\"Line\",\n",
    "    strategy=\"MultiRecord\",\n",
    "    accept=\"text/csv\",\n",
    "    output_path=\"s3://{}/{}/batch-transform/test\".format(bucket, prefix)\n",
    ")"
   ]
  },
  {
   "cell_type": "markdown",
   "id": "1518a7f2",
   "metadata": {},
   "source": [
    "<a href=\"#task3-4\" target=\"_self\">タスク 3.4</a> に戻って、このラボを続けます。"
   ]
  },
  {
   "cell_type": "markdown",
   "id": "81cbc760",
   "metadata": {},
   "source": [
    "<a name=\"task3-4-1\" id=\"task3-4-1\"></a>\n",
    "\n",
    "### バッチ変換ジョブを実行する (タスク 3.4)\n"
   ]
  },
  {
   "cell_type": "code",
   "execution_count": null,
   "id": "d968864a-3346-4c86-84e3-19e1de190ecb",
   "metadata": {},
   "outputs": [],
   "source": [
    "#run-batch-transform-job\n",
    "transformer.transform(batch_path, content_type=\"text/csv\", split_type=\"Line\", join_source=\"Input\")\n",
    "\n",
    "transformer.wait()"
   ]
  },
  {
   "cell_type": "markdown",
   "id": "cd11c4fd",
   "metadata": {},
   "source": [
    "<a href=\"#task3-5\" target=\"_self\">タスク 3.5</a> に戻って、このラボを続けます。"
   ]
  }
 ],
 "metadata": {
  "availableInstances": [
   {
    "_defaultOrder": 0,
    "_isFastLaunch": true,
    "category": "General purpose",
    "gpuNum": 0,
    "hideHardwareSpecs": false,
    "memoryGiB": 4,
    "name": "ml.t3.medium",
    "vcpuNum": 2
   },
   {
    "_defaultOrder": 1,
    "_isFastLaunch": false,
    "category": "General purpose",
    "gpuNum": 0,
    "hideHardwareSpecs": false,
    "memoryGiB": 8,
    "name": "ml.t3.large",
    "vcpuNum": 2
   },
   {
    "_defaultOrder": 2,
    "_isFastLaunch": false,
    "category": "General purpose",
    "gpuNum": 0,
    "hideHardwareSpecs": false,
    "memoryGiB": 16,
    "name": "ml.t3.xlarge",
    "vcpuNum": 4
   },
   {
    "_defaultOrder": 3,
    "_isFastLaunch": false,
    "category": "General purpose",
    "gpuNum": 0,
    "hideHardwareSpecs": false,
    "memoryGiB": 32,
    "name": "ml.t3.2xlarge",
    "vcpuNum": 8
   },
   {
    "_defaultOrder": 4,
    "_isFastLaunch": true,
    "category": "General purpose",
    "gpuNum": 0,
    "hideHardwareSpecs": false,
    "memoryGiB": 8,
    "name": "ml.m5.large",
    "vcpuNum": 2
   },
   {
    "_defaultOrder": 5,
    "_isFastLaunch": false,
    "category": "General purpose",
    "gpuNum": 0,
    "hideHardwareSpecs": false,
    "memoryGiB": 16,
    "name": "ml.m5.xlarge",
    "vcpuNum": 4
   },
   {
    "_defaultOrder": 6,
    "_isFastLaunch": false,
    "category": "General purpose",
    "gpuNum": 0,
    "hideHardwareSpecs": false,
    "memoryGiB": 32,
    "name": "ml.m5.2xlarge",
    "vcpuNum": 8
   },
   {
    "_defaultOrder": 7,
    "_isFastLaunch": false,
    "category": "General purpose",
    "gpuNum": 0,
    "hideHardwareSpecs": false,
    "memoryGiB": 64,
    "name": "ml.m5.4xlarge",
    "vcpuNum": 16
   },
   {
    "_defaultOrder": 8,
    "_isFastLaunch": false,
    "category": "General purpose",
    "gpuNum": 0,
    "hideHardwareSpecs": false,
    "memoryGiB": 128,
    "name": "ml.m5.8xlarge",
    "vcpuNum": 32
   },
   {
    "_defaultOrder": 9,
    "_isFastLaunch": false,
    "category": "General purpose",
    "gpuNum": 0,
    "hideHardwareSpecs": false,
    "memoryGiB": 192,
    "name": "ml.m5.12xlarge",
    "vcpuNum": 48
   },
   {
    "_defaultOrder": 10,
    "_isFastLaunch": false,
    "category": "General purpose",
    "gpuNum": 0,
    "hideHardwareSpecs": false,
    "memoryGiB": 256,
    "name": "ml.m5.16xlarge",
    "vcpuNum": 64
   },
   {
    "_defaultOrder": 11,
    "_isFastLaunch": false,
    "category": "General purpose",
    "gpuNum": 0,
    "hideHardwareSpecs": false,
    "memoryGiB": 384,
    "name": "ml.m5.24xlarge",
    "vcpuNum": 96
   },
   {
    "_defaultOrder": 12,
    "_isFastLaunch": false,
    "category": "General purpose",
    "gpuNum": 0,
    "hideHardwareSpecs": false,
    "memoryGiB": 8,
    "name": "ml.m5d.large",
    "vcpuNum": 2
   },
   {
    "_defaultOrder": 13,
    "_isFastLaunch": false,
    "category": "General purpose",
    "gpuNum": 0,
    "hideHardwareSpecs": false,
    "memoryGiB": 16,
    "name": "ml.m5d.xlarge",
    "vcpuNum": 4
   },
   {
    "_defaultOrder": 14,
    "_isFastLaunch": false,
    "category": "General purpose",
    "gpuNum": 0,
    "hideHardwareSpecs": false,
    "memoryGiB": 32,
    "name": "ml.m5d.2xlarge",
    "vcpuNum": 8
   },
   {
    "_defaultOrder": 15,
    "_isFastLaunch": false,
    "category": "General purpose",
    "gpuNum": 0,
    "hideHardwareSpecs": false,
    "memoryGiB": 64,
    "name": "ml.m5d.4xlarge",
    "vcpuNum": 16
   },
   {
    "_defaultOrder": 16,
    "_isFastLaunch": false,
    "category": "General purpose",
    "gpuNum": 0,
    "hideHardwareSpecs": false,
    "memoryGiB": 128,
    "name": "ml.m5d.8xlarge",
    "vcpuNum": 32
   },
   {
    "_defaultOrder": 17,
    "_isFastLaunch": false,
    "category": "General purpose",
    "gpuNum": 0,
    "hideHardwareSpecs": false,
    "memoryGiB": 192,
    "name": "ml.m5d.12xlarge",
    "vcpuNum": 48
   },
   {
    "_defaultOrder": 18,
    "_isFastLaunch": false,
    "category": "General purpose",
    "gpuNum": 0,
    "hideHardwareSpecs": false,
    "memoryGiB": 256,
    "name": "ml.m5d.16xlarge",
    "vcpuNum": 64
   },
   {
    "_defaultOrder": 19,
    "_isFastLaunch": false,
    "category": "General purpose",
    "gpuNum": 0,
    "hideHardwareSpecs": false,
    "memoryGiB": 384,
    "name": "ml.m5d.24xlarge",
    "vcpuNum": 96
   },
   {
    "_defaultOrder": 20,
    "_isFastLaunch": false,
    "category": "General purpose",
    "gpuNum": 0,
    "hideHardwareSpecs": true,
    "memoryGiB": 0,
    "name": "ml.geospatial.interactive",
    "supportedImageNames": [
     "sagemaker-geospatial-v1-0"
    ],
    "vcpuNum": 0
   },
   {
    "_defaultOrder": 21,
    "_isFastLaunch": true,
    "category": "Compute optimized",
    "gpuNum": 0,
    "hideHardwareSpecs": false,
    "memoryGiB": 4,
    "name": "ml.c5.large",
    "vcpuNum": 2
   },
   {
    "_defaultOrder": 22,
    "_isFastLaunch": false,
    "category": "Compute optimized",
    "gpuNum": 0,
    "hideHardwareSpecs": false,
    "memoryGiB": 8,
    "name": "ml.c5.xlarge",
    "vcpuNum": 4
   },
   {
    "_defaultOrder": 23,
    "_isFastLaunch": false,
    "category": "Compute optimized",
    "gpuNum": 0,
    "hideHardwareSpecs": false,
    "memoryGiB": 16,
    "name": "ml.c5.2xlarge",
    "vcpuNum": 8
   },
   {
    "_defaultOrder": 24,
    "_isFastLaunch": false,
    "category": "Compute optimized",
    "gpuNum": 0,
    "hideHardwareSpecs": false,
    "memoryGiB": 32,
    "name": "ml.c5.4xlarge",
    "vcpuNum": 16
   },
   {
    "_defaultOrder": 25,
    "_isFastLaunch": false,
    "category": "Compute optimized",
    "gpuNum": 0,
    "hideHardwareSpecs": false,
    "memoryGiB": 72,
    "name": "ml.c5.9xlarge",
    "vcpuNum": 36
   },
   {
    "_defaultOrder": 26,
    "_isFastLaunch": false,
    "category": "Compute optimized",
    "gpuNum": 0,
    "hideHardwareSpecs": false,
    "memoryGiB": 96,
    "name": "ml.c5.12xlarge",
    "vcpuNum": 48
   },
   {
    "_defaultOrder": 27,
    "_isFastLaunch": false,
    "category": "Compute optimized",
    "gpuNum": 0,
    "hideHardwareSpecs": false,
    "memoryGiB": 144,
    "name": "ml.c5.18xlarge",
    "vcpuNum": 72
   },
   {
    "_defaultOrder": 28,
    "_isFastLaunch": false,
    "category": "Compute optimized",
    "gpuNum": 0,
    "hideHardwareSpecs": false,
    "memoryGiB": 192,
    "name": "ml.c5.24xlarge",
    "vcpuNum": 96
   },
   {
    "_defaultOrder": 29,
    "_isFastLaunch": true,
    "category": "Accelerated computing",
    "gpuNum": 1,
    "hideHardwareSpecs": false,
    "memoryGiB": 16,
    "name": "ml.g4dn.xlarge",
    "vcpuNum": 4
   },
   {
    "_defaultOrder": 30,
    "_isFastLaunch": false,
    "category": "Accelerated computing",
    "gpuNum": 1,
    "hideHardwareSpecs": false,
    "memoryGiB": 32,
    "name": "ml.g4dn.2xlarge",
    "vcpuNum": 8
   },
   {
    "_defaultOrder": 31,
    "_isFastLaunch": false,
    "category": "Accelerated computing",
    "gpuNum": 1,
    "hideHardwareSpecs": false,
    "memoryGiB": 64,
    "name": "ml.g4dn.4xlarge",
    "vcpuNum": 16
   },
   {
    "_defaultOrder": 32,
    "_isFastLaunch": false,
    "category": "Accelerated computing",
    "gpuNum": 1,
    "hideHardwareSpecs": false,
    "memoryGiB": 128,
    "name": "ml.g4dn.8xlarge",
    "vcpuNum": 32
   },
   {
    "_defaultOrder": 33,
    "_isFastLaunch": false,
    "category": "Accelerated computing",
    "gpuNum": 4,
    "hideHardwareSpecs": false,
    "memoryGiB": 192,
    "name": "ml.g4dn.12xlarge",
    "vcpuNum": 48
   },
   {
    "_defaultOrder": 34,
    "_isFastLaunch": false,
    "category": "Accelerated computing",
    "gpuNum": 1,
    "hideHardwareSpecs": false,
    "memoryGiB": 256,
    "name": "ml.g4dn.16xlarge",
    "vcpuNum": 64
   },
   {
    "_defaultOrder": 35,
    "_isFastLaunch": false,
    "category": "Accelerated computing",
    "gpuNum": 1,
    "hideHardwareSpecs": false,
    "memoryGiB": 61,
    "name": "ml.p3.2xlarge",
    "vcpuNum": 8
   },
   {
    "_defaultOrder": 36,
    "_isFastLaunch": false,
    "category": "Accelerated computing",
    "gpuNum": 4,
    "hideHardwareSpecs": false,
    "memoryGiB": 244,
    "name": "ml.p3.8xlarge",
    "vcpuNum": 32
   },
   {
    "_defaultOrder": 37,
    "_isFastLaunch": false,
    "category": "Accelerated computing",
    "gpuNum": 8,
    "hideHardwareSpecs": false,
    "memoryGiB": 488,
    "name": "ml.p3.16xlarge",
    "vcpuNum": 64
   },
   {
    "_defaultOrder": 38,
    "_isFastLaunch": false,
    "category": "Accelerated computing",
    "gpuNum": 8,
    "hideHardwareSpecs": false,
    "memoryGiB": 768,
    "name": "ml.p3dn.24xlarge",
    "vcpuNum": 96
   },
   {
    "_defaultOrder": 39,
    "_isFastLaunch": false,
    "category": "Memory Optimized",
    "gpuNum": 0,
    "hideHardwareSpecs": false,
    "memoryGiB": 16,
    "name": "ml.r5.large",
    "vcpuNum": 2
   },
   {
    "_defaultOrder": 40,
    "_isFastLaunch": false,
    "category": "Memory Optimized",
    "gpuNum": 0,
    "hideHardwareSpecs": false,
    "memoryGiB": 32,
    "name": "ml.r5.xlarge",
    "vcpuNum": 4
   },
   {
    "_defaultOrder": 41,
    "_isFastLaunch": false,
    "category": "Memory Optimized",
    "gpuNum": 0,
    "hideHardwareSpecs": false,
    "memoryGiB": 64,
    "name": "ml.r5.2xlarge",
    "vcpuNum": 8
   },
   {
    "_defaultOrder": 42,
    "_isFastLaunch": false,
    "category": "Memory Optimized",
    "gpuNum": 0,
    "hideHardwareSpecs": false,
    "memoryGiB": 128,
    "name": "ml.r5.4xlarge",
    "vcpuNum": 16
   },
   {
    "_defaultOrder": 43,
    "_isFastLaunch": false,
    "category": "Memory Optimized",
    "gpuNum": 0,
    "hideHardwareSpecs": false,
    "memoryGiB": 256,
    "name": "ml.r5.8xlarge",
    "vcpuNum": 32
   },
   {
    "_defaultOrder": 44,
    "_isFastLaunch": false,
    "category": "Memory Optimized",
    "gpuNum": 0,
    "hideHardwareSpecs": false,
    "memoryGiB": 384,
    "name": "ml.r5.12xlarge",
    "vcpuNum": 48
   },
   {
    "_defaultOrder": 45,
    "_isFastLaunch": false,
    "category": "Memory Optimized",
    "gpuNum": 0,
    "hideHardwareSpecs": false,
    "memoryGiB": 512,
    "name": "ml.r5.16xlarge",
    "vcpuNum": 64
   },
   {
    "_defaultOrder": 46,
    "_isFastLaunch": false,
    "category": "Memory Optimized",
    "gpuNum": 0,
    "hideHardwareSpecs": false,
    "memoryGiB": 768,
    "name": "ml.r5.24xlarge",
    "vcpuNum": 96
   },
   {
    "_defaultOrder": 47,
    "_isFastLaunch": false,
    "category": "Accelerated computing",
    "gpuNum": 1,
    "hideHardwareSpecs": false,
    "memoryGiB": 16,
    "name": "ml.g5.xlarge",
    "vcpuNum": 4
   },
   {
    "_defaultOrder": 48,
    "_isFastLaunch": false,
    "category": "Accelerated computing",
    "gpuNum": 1,
    "hideHardwareSpecs": false,
    "memoryGiB": 32,
    "name": "ml.g5.2xlarge",
    "vcpuNum": 8
   },
   {
    "_defaultOrder": 49,
    "_isFastLaunch": false,
    "category": "Accelerated computing",
    "gpuNum": 1,
    "hideHardwareSpecs": false,
    "memoryGiB": 64,
    "name": "ml.g5.4xlarge",
    "vcpuNum": 16
   },
   {
    "_defaultOrder": 50,
    "_isFastLaunch": false,
    "category": "Accelerated computing",
    "gpuNum": 1,
    "hideHardwareSpecs": false,
    "memoryGiB": 128,
    "name": "ml.g5.8xlarge",
    "vcpuNum": 32
   },
   {
    "_defaultOrder": 51,
    "_isFastLaunch": false,
    "category": "Accelerated computing",
    "gpuNum": 1,
    "hideHardwareSpecs": false,
    "memoryGiB": 256,
    "name": "ml.g5.16xlarge",
    "vcpuNum": 64
   },
   {
    "_defaultOrder": 52,
    "_isFastLaunch": false,
    "category": "Accelerated computing",
    "gpuNum": 4,
    "hideHardwareSpecs": false,
    "memoryGiB": 192,
    "name": "ml.g5.12xlarge",
    "vcpuNum": 48
   },
   {
    "_defaultOrder": 53,
    "_isFastLaunch": false,
    "category": "Accelerated computing",
    "gpuNum": 4,
    "hideHardwareSpecs": false,
    "memoryGiB": 384,
    "name": "ml.g5.24xlarge",
    "vcpuNum": 96
   },
   {
    "_defaultOrder": 54,
    "_isFastLaunch": false,
    "category": "Accelerated computing",
    "gpuNum": 8,
    "hideHardwareSpecs": false,
    "memoryGiB": 768,
    "name": "ml.g5.48xlarge",
    "vcpuNum": 192
   },
   {
    "_defaultOrder": 55,
    "_isFastLaunch": false,
    "category": "Accelerated computing",
    "gpuNum": 8,
    "hideHardwareSpecs": false,
    "memoryGiB": 1152,
    "name": "ml.p4d.24xlarge",
    "vcpuNum": 96
   },
   {
    "_defaultOrder": 56,
    "_isFastLaunch": false,
    "category": "Accelerated computing",
    "gpuNum": 8,
    "hideHardwareSpecs": false,
    "memoryGiB": 1152,
    "name": "ml.p4de.24xlarge",
    "vcpuNum": 96
   },
   {
    "_defaultOrder": 57,
    "_isFastLaunch": false,
    "category": "Accelerated computing",
    "gpuNum": 0,
    "hideHardwareSpecs": false,
    "memoryGiB": 32,
    "name": "ml.trn1.2xlarge",
    "vcpuNum": 8
   },
   {
    "_defaultOrder": 58,
    "_isFastLaunch": false,
    "category": "Accelerated computing",
    "gpuNum": 0,
    "hideHardwareSpecs": false,
    "memoryGiB": 512,
    "name": "ml.trn1.32xlarge",
    "vcpuNum": 128
   },
   {
    "_defaultOrder": 59,
    "_isFastLaunch": false,
    "category": "Accelerated computing",
    "gpuNum": 0,
    "hideHardwareSpecs": false,
    "memoryGiB": 512,
    "name": "ml.trn1n.32xlarge",
    "vcpuNum": 128
   }
  ],
  "instance_type": "ml.t3.medium",
  "kernelspec": {
   "display_name": "Python 3 (Data Science 3.0)",
   "language": "python",
   "name": "python3__SAGEMAKER_INTERNAL__arn:aws:sagemaker:us-west-2:236514542706:image/sagemaker-data-science-310-v1"
  },
  "language_info": {
   "codemirror_mode": {
    "name": "ipython",
    "version": 3
   },
   "file_extension": ".py",
   "mimetype": "text/x-python",
   "name": "python",
   "nbconvert_exporter": "python",
   "pygments_lexer": "ipython3",
   "version": "3.10.6"
  },
  "papermill": {
   "default_parameters": {},
   "duration": 239.460793,
   "end_time": "2021-06-01T00:16:48.734820",
   "environment_variables": {},
   "exception": true,
   "input_path": "pytorch_script_change_smdebug.ipynb",
   "output_path": "/opt/ml/processing/output/pytorch_script_change_smdebug-2021-06-01-00-08-41.ipynb",
   "parameters": {
    "kms_key": "arn:aws:kms:us-west-2:521695447989:key/6e9984db-50cf-4c7e-926c-877ec47a8b25"
   },
   "start_time": "2021-06-01T00:12:49.274027",
   "version": "2.3.3"
  },
  "vscode": {
   "interpreter": {
    "hash": "2e45558c452cedcb26631315a9b3b77e80a9c32d662ed25df58964b99bc5b9b9"
   }
  }
 },
 "nbformat": 4,
 "nbformat_minor": 5
}
