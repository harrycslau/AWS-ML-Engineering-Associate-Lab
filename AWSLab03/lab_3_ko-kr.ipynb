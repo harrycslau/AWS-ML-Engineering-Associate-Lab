{
 "cells": [
  {
   "cell_type": "markdown",
   "id": "669cd6bb",
   "metadata": {},
   "source": [
    "## 태스크 3: Amazon SageMaker에 모델 배포\n",
    "\n",
    "이 태스크에서는 Amazon SageMaker를 사용하여 훈련된 기계 학습 모델을 배포하고 예측을 가져옵니다. 먼저 모델 아티팩트를 Amazon S3 버킷으로 내보냅니다. 그런 다음 모델 아티팩트에서 Sagemaker 모델 객체를 생성합니다. 다음으로 Sagemaker 모델, 변환할 데이터의 S3 버킷 위치, 결과를 저장할 S3 버킷 위치를 지정하여 배치 변환 작업을 생성합니다. 그런 다음 배치 변환 작업을 시작하고 진행 상황을 모니터링합니다. 마지막으로 배치 변환 작업이 완료되면 지정된 S3 버킷에서 결과를 검색합니다. 결과에는 훈련된 모델이 입력 데이터에 대해 수행한 추론이 포함됩니다."
   ]
  },
  {
   "cell_type": "markdown",
   "id": "052eb55a",
   "metadata": {},
   "source": [
    "**참고:** 도전 태스크를 완료하는 데 문제가 있는 경우 노트북 하단의 <a href=\"#appendix\" target=\"_self\">**부록**</a> 섹션에서 솔루션을 확인할 수 있습니다."
   ]
  },
  {
   "cell_type": "markdown",
   "id": "frequent-booking",
   "metadata": {
    "papermill": {
     "duration": 0.018947,
     "end_time": "2021-06-01T00:12:50.309809",
     "exception": false,
     "start_time": "2021-06-01T00:12:50.290862",
     "status": "completed"
    },
    "tags": []
   },
   "source": [
    "### 태스크 3.1: 환경 설정\n",
    "\n",
    "환경 설정을 쉽게 시작할 수 있도록 기본 설정 코드가 제공됩니다. 이러한 셀을 먼저 확인한 다음 실행하여 패키지를 설치하고 변수를 생성합니다."
   ]
  },
  {
   "cell_type": "code",
   "execution_count": null,
   "id": "44983b4e",
   "metadata": {
    "tags": []
   },
   "outputs": [],
   "source": [
    "#라이브러리 가져오기 및 변수 값 설정\n",
    "\n",
    "import sys\n",
    "import boto3\n",
    "import os\n",
    "import sagemaker\n",
    "import time\n",
    "\n",
    "sess = sagemaker.Session()\n",
    "\n",
    "bucket = sess.default_bucket()\n",
    "prefix = \"lab3/batch-transform\"\n",
    "bucket_path = \"s3://{}\".format(bucket)\n",
    "\n",
    "role = sagemaker.get_execution_role()\n",
    "\n",
    "region = boto3.Session().region_name\n"
   ]
  },
  {
   "cell_type": "markdown",
   "id": "d26e3138",
   "metadata": {},
   "source": [
    "### 태스크 3.2: 모델 생성\n",
    "\n",
    "이 태스크에서는 사전 훈련된 모델을 가져와 S3에 업로드합니다. 그런 다음 SageMaker에서 모델을 생성합니다. 모델은 나중에 SageMaker 배치 변환 작업을 사용하여 배포됩니다.\n",
    "\n",
    "#### 요구 사항 및 구성\n",
    "\n",
    "- **S3.Client.upload_file** API를 사용하여 모델 아티팩트와 테스트 데이터를 S3 버킷에 업로드합니다."
   ]
  },
  {
   "cell_type": "markdown",
   "id": "42977436",
   "metadata": {},
   "source": [
    "**upload_file** 메서드 사용에 대한 자세한 내용은 [Upload a file to an S3 object](https://boto3.amazonaws.com/v1/documentation/api/latest/reference/services/s3/client/upload_file.html#upload-file)를 참조하십시오."
   ]
  },
  {
   "cell_type": "code",
   "execution_count": null,
   "id": "5603407e-39b8-4149-8d46-7f48602021f6",
   "metadata": {
    "tags": []
   },
   "outputs": [],
   "source": [
    "# Amazon S3 버킷에 모델 업로드\n",
    "from sagemaker.session import Session\n",
    "from sagemaker.image_uris import retrieve\n",
    "\n",
    "sagemaker = boto3.client('sagemaker')\n",
    "s3_client = boto3.client(\"s3\")\n",
    "\n",
    "#add_upload-model_code_here\n",
    "\n",
    "\n",
    "#add_upload-dataset_code_here\n"
   ]
  },
  {
   "cell_type": "markdown",
   "id": "a61c1f24",
   "metadata": {},
   "source": [
    "**참고:** 모델 아티팩트와 테스트 데이터를 S3 버킷에 업로드하는 자세한 코드는 *부록* 섹션의 <a href=\"#task3-2-1\" target=\"_self\">**S3에 모델 및 테스트 데이터 업로드(태스크 3.2)**</a>를 참조하십시오. "
   ]
  },
  {
   "cell_type": "markdown",
   "id": "e77c3e39",
   "metadata": {},
   "source": [
    "<a id=\"task3-2-continue\"></a>\n",
    "\n",
    "다음으로 위의 모델 아티팩트를 사용하여 SageMaker에서 모델 객체를 생성합니다.\n",
    "\n",
    "#### 요구 사항 및 구성\n",
    "\n",
    "- **SageMaker.Client.create_model** API를 사용하여 SageMaker에서 모델을 생성합니다.\n",
    "- Request에서 다음 옵션을 사용하십시오.\n",
    "    - ModelName='telemarketing-model'\n",
    "    - ExecutionRoleArn=role (SageMaker가 사용하는 이전에 생성된 IAM 역할)\n",
    "    - 기본 컨테이너의 경우 다음 옵션을 사용하십시오.\n",
    "        - Image= XGBoost container image URI (retrieve(framework='xgboost', region=boto3.Session().region_name, version='1.5-1'))\n",
    "        - ModelDataUrl=model_path (The S3 path where the model artifacts are uploaded earlier) \n",
    "\n",
    "**SageMaker.Client.create_model** 메서드 사용에 대한 자세한 내용은 [Creating a model in SageMaker](https://boto3.amazonaws.com/v1/documentation/api/latest/reference/services/sagemaker/client/create_model.html)를 참조하십시오."
   ]
  },
  {
   "cell_type": "code",
   "execution_count": null,
   "id": "0075b3af-c958-4877-b104-90a11294d329",
   "metadata": {},
   "outputs": [],
   "source": [
    "sagemaker = boto3.client('sagemaker')\n",
    "\n",
    "#add_create-model_code_here"
   ]
  },
  {
   "cell_type": "markdown",
   "id": "f23b2fad",
   "metadata": {},
   "source": [
    "**참고:** 모델 생성 방법에 대한 자세한 코드는 *부록* 섹션의 <a href=\"#task3-2-2\" target=\"_self\">**SageMaker에서 모델 생성(태스크 3.2)**</a>을 참조하십시오. "
   ]
  },
  {
   "cell_type": "markdown",
   "id": "f82b09c6",
   "metadata": {},
   "source": [
    "<a id=\"task3-3\"></a>\n",
    "\n",
    "### 태스크 3.3: 배치 변환기 생성\n",
    "\n",
    "이 태스크에서는 배치 변환기를 생성합니다.\n",
    "\n",
    "**Transfomer** API 사용에 대한 자세한 내용은 [Using Transformer API](https://sagemaker.readthedocs.io/en/stable/api/inference/transformer.html#sagemaker.transformer.Transformer)를 참조하십시오.\n",
    "\n",
    "#### 요구 사항 및 구성\n",
    "\n",
    "- **sagemaker.transformer.Transformer** API를 사용하여 SageMaker에서 변환기를 초기화합니다.\n",
    "- Parameters 섹션에서 다음 옵션을 사용합니다.\n",
    "    - model_name=\"telemarketing-model\"\n",
    "    - instance_type=\"ml.m4.xlarge\"\n",
    "    - instance_count=1\n",
    "    - assemble_with=\"Line\"\n",
    "    - strategy=\"MultiRecord\"\n",
    "    - accept=\"text/csv\"\n",
    "    - output_path=\"s3://{}/{}/batch-transform/test\".format(bucket, prefix)"
   ]
  },
  {
   "cell_type": "code",
   "execution_count": 7,
   "id": "075f1aaf",
   "metadata": {
    "tags": []
   },
   "outputs": [],
   "source": [
    "from sagemaker.transformer import Transformer\n",
    "\n",
    "#add_create-batch-transformer_code_here\n",
    "transformer = Transformer(\n",
    "    \n",
    ")"
   ]
  },
  {
   "cell_type": "markdown",
   "id": "498fa396",
   "metadata": {},
   "source": [
    "**참고:** Transformer 객체를 생성하는 방법에 대한 자세한 코드는 *부록* 섹션의 <a href=\"#task3-3-1\" target=\"_self\">**배치 변환기 객체 생성(태스크 3.3)**</a>을 참조하십시오. "
   ]
  },
  {
   "cell_type": "markdown",
   "id": "wrong-terror",
   "metadata": {
    "papermill": {
     "duration": 0.022031,
     "end_time": "2021-06-01T00:12:54.187737",
     "exception": false,
     "start_time": "2021-06-01T00:12:54.165706",
     "status": "completed"
    },
    "tags": []
   },
   "source": [
    "<a id=\"task3-4\"></a>\n",
    "\n",
    "### 태스크 3.4: 배치 변환 작업 실행\n",
    "\n",
    "이 태스크에서는 변환 작업을 실행합니다. 훈련 데이터를 전달하여 배치 변환기에서 예측을 가져옵니다.\n",
    "\n",
    "**Transformer.transform** API 사용에 대한 자세한 내용은 [Using Transform API](https://sagemaker.readthedocs.io/en/stable/api/inference/transformer.html#sagemaker.transformer.Transformer.transform)를 참조하십시오.\n",
    "\n",
    "#### 요구 사항 및 구성\n",
    "\n",
    "- **Transformer.transform** API를 사용하여 SageMaker에서 변환기를 초기화합니다.\n",
    "- Parameters 섹션에서 다음 옵션을 사용합니다.\n",
    "    - batch_path(Amazon S3가 이전에 생성한 입력 데이터 위치)\n",
    "    - content_type=\"text/csv\"\n",
    "    - split_type=\"Line\"\n",
    "    - join_source=\"Input\""
   ]
  },
  {
   "cell_type": "code",
   "execution_count": null,
   "id": "237d4c62",
   "metadata": {
    "tags": []
   },
   "outputs": [],
   "source": [
    "transformer.transform(\n",
    " #add_run-batch-transform-job_code_here   \n",
    ")\n",
    "\n",
    "transformer.wait()"
   ]
  },
  {
   "cell_type": "markdown",
   "id": "325f61a3",
   "metadata": {},
   "source": [
    "**참고:** 변환 작업을 실행하는 방법에 대한 자세한 코드는 *부록* 섹션의 <a href=\"#task3-4-1\" target=\"_self\">**배치 변환 작업 실행(태스크 3.4)**</a>을 참조하십시오. "
   ]
  },
  {
   "cell_type": "markdown",
   "id": "ffbab2cb",
   "metadata": {},
   "source": [
    "<a id=\"task3-5\"></a>\n",
    "\n",
    "### 태스크 3.5: S3 버킷에 저장된 출력 확인\n",
    "\n",
    "이 태스크에서는 S3에 있는 배치 변환 작업의 출력을 끌어옵니다. 예측 목록이 표시되어야 합니다."
   ]
  },
  {
   "cell_type": "code",
   "execution_count": null,
   "id": "5192e162",
   "metadata": {
    "tags": []
   },
   "outputs": [],
   "source": [
    "!aws s3 cp --recursive $transformer.output_path ./\n",
    "!head test_data.csv.out"
   ]
  },
  {
   "cell_type": "markdown",
   "id": "ccec8c09",
   "metadata": {},
   "source": [
    "축하합니다! Amazon SageMaker를 사용하여 훈련된 기계 학습 모델을 성공적으로 배포하고 예측을 가져왔습니다.\n",
    "\n",
    "### 정리\n",
    "\n",
    "이 노트북을 완료했습니다. 실습의 다음 부분으로 이동하려면 다음을 수행합니다.\n",
    "\n",
    "- 노트북 파일을 닫습니다.\n",
    "- 실습 세션으로 돌아가 **결론**을 계속 진행합니다."
   ]
  },
  {
   "cell_type": "markdown",
   "id": "d8edf86a",
   "metadata": {},
   "source": [
    "## 추가 리소스\n",
    "\n",
    "- [Deploy models for inference](https://docs.aws.amazon.com/sagemaker/latest/dg/deploy-model.html)\n",
    "- [Using SageMaker APIs](https://sagemaker.readthedocs.io/en/stable/api/inference/index.html)"
   ]
  },
  {
   "cell_type": "markdown",
   "id": "450fd095",
   "metadata": {},
   "source": [
    "<a name=\"appendix\" id=\"appendix\"></a>\n",
    "\n",
    "## 부록\n"
   ]
  },
  {
   "cell_type": "markdown",
   "id": "70df7dff",
   "metadata": {},
   "source": [
    "<a name=\"task3-2-1\" id=\"task3-2-1\"></a>\n",
    "\n",
    "### S3에 모델 및 테스트 데이터 업로드(태스크 3.2)"
   ]
  },
  {
   "cell_type": "code",
   "execution_count": null,
   "id": "e6657c73",
   "metadata": {},
   "outputs": [],
   "source": [
    "# Amazon S3 버킷에 모델 업로드\n",
    "from sagemaker.session import Session\n",
    "from sagemaker.image_uris import retrieve\n",
    "\n",
    "#session = boto3.Session()\n",
    "sagemaker = boto3.client('sagemaker')\n",
    "s3_client = boto3.client(\"s3\")\n",
    "\n",
    "#upload-model\n",
    "s3_client.upload_file(Filename=\"model.tar.gz\", Bucket=bucket, Key=f\"{prefix}/models/model.tar.gz\")  \n",
    "model_path = f\"s3://{bucket}/{prefix}/models/model.tar.gz\"\n",
    "print(model_path)\n",
    "\n",
    "#upload-dataset\n",
    "s3_client.upload_file(Filename=\"test_data.csv\", Bucket=bucket, Key=f\"{prefix}/test_data.csv\", ExtraArgs={\"ContentType\": \"text/csv;charset=utf-8\"})\n",
    "batch_path = f\"s3://{bucket}/{prefix}/test_data.csv\"\n",
    "print(batch_path)"
   ]
  },
  {
   "cell_type": "markdown",
   "id": "9cd62438",
   "metadata": {},
   "source": [
    "이 실습을 계속 진행하려면 <a href=\"#task3-2-continue\" target=\"_self\">태스크 3.2</a>로 돌아갑니다."
   ]
  },
  {
   "cell_type": "markdown",
   "id": "258ed6c9",
   "metadata": {},
   "source": [
    "<a name=\"task3-2-2\" id=\"task3-2-2\"></a>\n",
    "\n",
    "### SageMaker에서 모델 생성(태스크 3.2)"
   ]
  },
  {
   "cell_type": "code",
   "execution_count": null,
   "id": "4badb6bc",
   "metadata": {
    "tags": []
   },
   "outputs": [],
   "source": [
    "sagemaker = boto3.client('sagemaker')\n",
    "\n",
    "# 컨테이너 이미지 검색\n",
    "image = retrieve(framework='xgboost', region=boto3.Session().region_name, version='1.5-1')\n",
    "\n",
    "primary_container = {\"Image\": image, \"ModelDataUrl\": model_path}\n",
    "\n",
    "# 모델 설정\n",
    "create_model_response = sagemaker.create_model(\n",
    "    ModelName='telemarketing-model', ExecutionRoleArn=role, PrimaryContainer=primary_container\n",
    ")\n",
    "\n",
    "print(create_model_response[\"ModelArn\"])"
   ]
  },
  {
   "cell_type": "markdown",
   "id": "2563d692",
   "metadata": {},
   "source": [
    "이 실습을 계속 진행하려면 <a href=\"#task3-3\" target=\"_self\">태스크 3.3</a>으로 돌아갑니다."
   ]
  },
  {
   "cell_type": "markdown",
   "id": "47a04458",
   "metadata": {},
   "source": [
    "<a name=\"task3-3-1\" id=\"task3-3-1\"></a>\n",
    "\n",
    "### 배치 변환기 객체 생성(태스크 3.3)"
   ]
  },
  {
   "cell_type": "code",
   "execution_count": null,
   "id": "55bc4bbd",
   "metadata": {},
   "outputs": [],
   "source": [
    "from sagemaker.transformer import Transformer\n",
    "\n",
    "#create-batch-transformer\n",
    "transformer = Transformer(\n",
    "    model_name=\"telemarketing-model\",\n",
    "    instance_type=\"ml.m4.xlarge\",\n",
    "    instance_count=1,\n",
    "    assemble_with=\"Line\",\n",
    "    strategy=\"MultiRecord\",\n",
    "    accept=\"text/csv\",\n",
    "    output_path=\"s3://{}/{}/batch-transform/test\".format(bucket, prefix)\n",
    ")"
   ]
  },
  {
   "cell_type": "markdown",
   "id": "1518a7f2",
   "metadata": {},
   "source": [
    "이 실습을 계속 진행하려면 <a href=\"#task3-4\" target=\"_self\">태스크 3.4</a>로 돌아갑니다."
   ]
  },
  {
   "cell_type": "markdown",
   "id": "81cbc760",
   "metadata": {},
   "source": [
    "<a name=\"task3-4-1\" id=\"task3-4-1\"></a>\n",
    "\n",
    "### 배치 변환 작업 실행(태스크 3.4)\n"
   ]
  },
  {
   "cell_type": "code",
   "execution_count": null,
   "id": "d968864a-3346-4c86-84e3-19e1de190ecb",
   "metadata": {},
   "outputs": [],
   "source": [
    "#run-batch-transform-job\n",
    "transformer.transform(batch_path, content_type=\"text/csv\", split_type=\"Line\", join_source=\"Input\")\n",
    "\n",
    "transformer.wait()"
   ]
  },
  {
   "cell_type": "markdown",
   "id": "cd11c4fd",
   "metadata": {},
   "source": [
    "이 실습을 계속 진행하려면 <a href=\"#task3-5\" target=\"_self\">태스크 3.5</a>로 돌아갑니다."
   ]
  }
 ],
 "metadata": {
  "availableInstances": [
   {
    "_defaultOrder": 0,
    "_isFastLaunch": true,
    "category": "General purpose",
    "gpuNum": 0,
    "hideHardwareSpecs": false,
    "memoryGiB": 4,
    "name": "ml.t3.medium",
    "vcpuNum": 2
   },
   {
    "_defaultOrder": 1,
    "_isFastLaunch": false,
    "category": "General purpose",
    "gpuNum": 0,
    "hideHardwareSpecs": false,
    "memoryGiB": 8,
    "name": "ml.t3.large",
    "vcpuNum": 2
   },
   {
    "_defaultOrder": 2,
    "_isFastLaunch": false,
    "category": "General purpose",
    "gpuNum": 0,
    "hideHardwareSpecs": false,
    "memoryGiB": 16,
    "name": "ml.t3.xlarge",
    "vcpuNum": 4
   },
   {
    "_defaultOrder": 3,
    "_isFastLaunch": false,
    "category": "General purpose",
    "gpuNum": 0,
    "hideHardwareSpecs": false,
    "memoryGiB": 32,
    "name": "ml.t3.2xlarge",
    "vcpuNum": 8
   },
   {
    "_defaultOrder": 4,
    "_isFastLaunch": true,
    "category": "General purpose",
    "gpuNum": 0,
    "hideHardwareSpecs": false,
    "memoryGiB": 8,
    "name": "ml.m5.large",
    "vcpuNum": 2
   },
   {
    "_defaultOrder": 5,
    "_isFastLaunch": false,
    "category": "General purpose",
    "gpuNum": 0,
    "hideHardwareSpecs": false,
    "memoryGiB": 16,
    "name": "ml.m5.xlarge",
    "vcpuNum": 4
   },
   {
    "_defaultOrder": 6,
    "_isFastLaunch": false,
    "category": "General purpose",
    "gpuNum": 0,
    "hideHardwareSpecs": false,
    "memoryGiB": 32,
    "name": "ml.m5.2xlarge",
    "vcpuNum": 8
   },
   {
    "_defaultOrder": 7,
    "_isFastLaunch": false,
    "category": "General purpose",
    "gpuNum": 0,
    "hideHardwareSpecs": false,
    "memoryGiB": 64,
    "name": "ml.m5.4xlarge",
    "vcpuNum": 16
   },
   {
    "_defaultOrder": 8,
    "_isFastLaunch": false,
    "category": "General purpose",
    "gpuNum": 0,
    "hideHardwareSpecs": false,
    "memoryGiB": 128,
    "name": "ml.m5.8xlarge",
    "vcpuNum": 32
   },
   {
    "_defaultOrder": 9,
    "_isFastLaunch": false,
    "category": "General purpose",
    "gpuNum": 0,
    "hideHardwareSpecs": false,
    "memoryGiB": 192,
    "name": "ml.m5.12xlarge",
    "vcpuNum": 48
   },
   {
    "_defaultOrder": 10,
    "_isFastLaunch": false,
    "category": "General purpose",
    "gpuNum": 0,
    "hideHardwareSpecs": false,
    "memoryGiB": 256,
    "name": "ml.m5.16xlarge",
    "vcpuNum": 64
   },
   {
    "_defaultOrder": 11,
    "_isFastLaunch": false,
    "category": "General purpose",
    "gpuNum": 0,
    "hideHardwareSpecs": false,
    "memoryGiB": 384,
    "name": "ml.m5.24xlarge",
    "vcpuNum": 96
   },
   {
    "_defaultOrder": 12,
    "_isFastLaunch": false,
    "category": "General purpose",
    "gpuNum": 0,
    "hideHardwareSpecs": false,
    "memoryGiB": 8,
    "name": "ml.m5d.large",
    "vcpuNum": 2
   },
   {
    "_defaultOrder": 13,
    "_isFastLaunch": false,
    "category": "General purpose",
    "gpuNum": 0,
    "hideHardwareSpecs": false,
    "memoryGiB": 16,
    "name": "ml.m5d.xlarge",
    "vcpuNum": 4
   },
   {
    "_defaultOrder": 14,
    "_isFastLaunch": false,
    "category": "General purpose",
    "gpuNum": 0,
    "hideHardwareSpecs": false,
    "memoryGiB": 32,
    "name": "ml.m5d.2xlarge",
    "vcpuNum": 8
   },
   {
    "_defaultOrder": 15,
    "_isFastLaunch": false,
    "category": "General purpose",
    "gpuNum": 0,
    "hideHardwareSpecs": false,
    "memoryGiB": 64,
    "name": "ml.m5d.4xlarge",
    "vcpuNum": 16
   },
   {
    "_defaultOrder": 16,
    "_isFastLaunch": false,
    "category": "General purpose",
    "gpuNum": 0,
    "hideHardwareSpecs": false,
    "memoryGiB": 128,
    "name": "ml.m5d.8xlarge",
    "vcpuNum": 32
   },
   {
    "_defaultOrder": 17,
    "_isFastLaunch": false,
    "category": "General purpose",
    "gpuNum": 0,
    "hideHardwareSpecs": false,
    "memoryGiB": 192,
    "name": "ml.m5d.12xlarge",
    "vcpuNum": 48
   },
   {
    "_defaultOrder": 18,
    "_isFastLaunch": false,
    "category": "General purpose",
    "gpuNum": 0,
    "hideHardwareSpecs": false,
    "memoryGiB": 256,
    "name": "ml.m5d.16xlarge",
    "vcpuNum": 64
   },
   {
    "_defaultOrder": 19,
    "_isFastLaunch": false,
    "category": "General purpose",
    "gpuNum": 0,
    "hideHardwareSpecs": false,
    "memoryGiB": 384,
    "name": "ml.m5d.24xlarge",
    "vcpuNum": 96
   },
   {
    "_defaultOrder": 20,
    "_isFastLaunch": false,
    "category": "General purpose",
    "gpuNum": 0,
    "hideHardwareSpecs": true,
    "memoryGiB": 0,
    "name": "ml.geospatial.interactive",
    "supportedImageNames": [
     "sagemaker-geospatial-v1-0"
    ],
    "vcpuNum": 0
   },
   {
    "_defaultOrder": 21,
    "_isFastLaunch": true,
    "category": "Compute optimized",
    "gpuNum": 0,
    "hideHardwareSpecs": false,
    "memoryGiB": 4,
    "name": "ml.c5.large",
    "vcpuNum": 2
   },
   {
    "_defaultOrder": 22,
    "_isFastLaunch": false,
    "category": "Compute optimized",
    "gpuNum": 0,
    "hideHardwareSpecs": false,
    "memoryGiB": 8,
    "name": "ml.c5.xlarge",
    "vcpuNum": 4
   },
   {
    "_defaultOrder": 23,
    "_isFastLaunch": false,
    "category": "Compute optimized",
    "gpuNum": 0,
    "hideHardwareSpecs": false,
    "memoryGiB": 16,
    "name": "ml.c5.2xlarge",
    "vcpuNum": 8
   },
   {
    "_defaultOrder": 24,
    "_isFastLaunch": false,
    "category": "Compute optimized",
    "gpuNum": 0,
    "hideHardwareSpecs": false,
    "memoryGiB": 32,
    "name": "ml.c5.4xlarge",
    "vcpuNum": 16
   },
   {
    "_defaultOrder": 25,
    "_isFastLaunch": false,
    "category": "Compute optimized",
    "gpuNum": 0,
    "hideHardwareSpecs": false,
    "memoryGiB": 72,
    "name": "ml.c5.9xlarge",
    "vcpuNum": 36
   },
   {
    "_defaultOrder": 26,
    "_isFastLaunch": false,
    "category": "Compute optimized",
    "gpuNum": 0,
    "hideHardwareSpecs": false,
    "memoryGiB": 96,
    "name": "ml.c5.12xlarge",
    "vcpuNum": 48
   },
   {
    "_defaultOrder": 27,
    "_isFastLaunch": false,
    "category": "Compute optimized",
    "gpuNum": 0,
    "hideHardwareSpecs": false,
    "memoryGiB": 144,
    "name": "ml.c5.18xlarge",
    "vcpuNum": 72
   },
   {
    "_defaultOrder": 28,
    "_isFastLaunch": false,
    "category": "Compute optimized",
    "gpuNum": 0,
    "hideHardwareSpecs": false,
    "memoryGiB": 192,
    "name": "ml.c5.24xlarge",
    "vcpuNum": 96
   },
   {
    "_defaultOrder": 29,
    "_isFastLaunch": true,
    "category": "Accelerated computing",
    "gpuNum": 1,
    "hideHardwareSpecs": false,
    "memoryGiB": 16,
    "name": "ml.g4dn.xlarge",
    "vcpuNum": 4
   },
   {
    "_defaultOrder": 30,
    "_isFastLaunch": false,
    "category": "Accelerated computing",
    "gpuNum": 1,
    "hideHardwareSpecs": false,
    "memoryGiB": 32,
    "name": "ml.g4dn.2xlarge",
    "vcpuNum": 8
   },
   {
    "_defaultOrder": 31,
    "_isFastLaunch": false,
    "category": "Accelerated computing",
    "gpuNum": 1,
    "hideHardwareSpecs": false,
    "memoryGiB": 64,
    "name": "ml.g4dn.4xlarge",
    "vcpuNum": 16
   },
   {
    "_defaultOrder": 32,
    "_isFastLaunch": false,
    "category": "Accelerated computing",
    "gpuNum": 1,
    "hideHardwareSpecs": false,
    "memoryGiB": 128,
    "name": "ml.g4dn.8xlarge",
    "vcpuNum": 32
   },
   {
    "_defaultOrder": 33,
    "_isFastLaunch": false,
    "category": "Accelerated computing",
    "gpuNum": 4,
    "hideHardwareSpecs": false,
    "memoryGiB": 192,
    "name": "ml.g4dn.12xlarge",
    "vcpuNum": 48
   },
   {
    "_defaultOrder": 34,
    "_isFastLaunch": false,
    "category": "Accelerated computing",
    "gpuNum": 1,
    "hideHardwareSpecs": false,
    "memoryGiB": 256,
    "name": "ml.g4dn.16xlarge",
    "vcpuNum": 64
   },
   {
    "_defaultOrder": 35,
    "_isFastLaunch": false,
    "category": "Accelerated computing",
    "gpuNum": 1,
    "hideHardwareSpecs": false,
    "memoryGiB": 61,
    "name": "ml.p3.2xlarge",
    "vcpuNum": 8
   },
   {
    "_defaultOrder": 36,
    "_isFastLaunch": false,
    "category": "Accelerated computing",
    "gpuNum": 4,
    "hideHardwareSpecs": false,
    "memoryGiB": 244,
    "name": "ml.p3.8xlarge",
    "vcpuNum": 32
   },
   {
    "_defaultOrder": 37,
    "_isFastLaunch": false,
    "category": "Accelerated computing",
    "gpuNum": 8,
    "hideHardwareSpecs": false,
    "memoryGiB": 488,
    "name": "ml.p3.16xlarge",
    "vcpuNum": 64
   },
   {
    "_defaultOrder": 38,
    "_isFastLaunch": false,
    "category": "Accelerated computing",
    "gpuNum": 8,
    "hideHardwareSpecs": false,
    "memoryGiB": 768,
    "name": "ml.p3dn.24xlarge",
    "vcpuNum": 96
   },
   {
    "_defaultOrder": 39,
    "_isFastLaunch": false,
    "category": "Memory Optimized",
    "gpuNum": 0,
    "hideHardwareSpecs": false,
    "memoryGiB": 16,
    "name": "ml.r5.large",
    "vcpuNum": 2
   },
   {
    "_defaultOrder": 40,
    "_isFastLaunch": false,
    "category": "Memory Optimized",
    "gpuNum": 0,
    "hideHardwareSpecs": false,
    "memoryGiB": 32,
    "name": "ml.r5.xlarge",
    "vcpuNum": 4
   },
   {
    "_defaultOrder": 41,
    "_isFastLaunch": false,
    "category": "Memory Optimized",
    "gpuNum": 0,
    "hideHardwareSpecs": false,
    "memoryGiB": 64,
    "name": "ml.r5.2xlarge",
    "vcpuNum": 8
   },
   {
    "_defaultOrder": 42,
    "_isFastLaunch": false,
    "category": "Memory Optimized",
    "gpuNum": 0,
    "hideHardwareSpecs": false,
    "memoryGiB": 128,
    "name": "ml.r5.4xlarge",
    "vcpuNum": 16
   },
   {
    "_defaultOrder": 43,
    "_isFastLaunch": false,
    "category": "Memory Optimized",
    "gpuNum": 0,
    "hideHardwareSpecs": false,
    "memoryGiB": 256,
    "name": "ml.r5.8xlarge",
    "vcpuNum": 32
   },
   {
    "_defaultOrder": 44,
    "_isFastLaunch": false,
    "category": "Memory Optimized",
    "gpuNum": 0,
    "hideHardwareSpecs": false,
    "memoryGiB": 384,
    "name": "ml.r5.12xlarge",
    "vcpuNum": 48
   },
   {
    "_defaultOrder": 45,
    "_isFastLaunch": false,
    "category": "Memory Optimized",
    "gpuNum": 0,
    "hideHardwareSpecs": false,
    "memoryGiB": 512,
    "name": "ml.r5.16xlarge",
    "vcpuNum": 64
   },
   {
    "_defaultOrder": 46,
    "_isFastLaunch": false,
    "category": "Memory Optimized",
    "gpuNum": 0,
    "hideHardwareSpecs": false,
    "memoryGiB": 768,
    "name": "ml.r5.24xlarge",
    "vcpuNum": 96
   },
   {
    "_defaultOrder": 47,
    "_isFastLaunch": false,
    "category": "Accelerated computing",
    "gpuNum": 1,
    "hideHardwareSpecs": false,
    "memoryGiB": 16,
    "name": "ml.g5.xlarge",
    "vcpuNum": 4
   },
   {
    "_defaultOrder": 48,
    "_isFastLaunch": false,
    "category": "Accelerated computing",
    "gpuNum": 1,
    "hideHardwareSpecs": false,
    "memoryGiB": 32,
    "name": "ml.g5.2xlarge",
    "vcpuNum": 8
   },
   {
    "_defaultOrder": 49,
    "_isFastLaunch": false,
    "category": "Accelerated computing",
    "gpuNum": 1,
    "hideHardwareSpecs": false,
    "memoryGiB": 64,
    "name": "ml.g5.4xlarge",
    "vcpuNum": 16
   },
   {
    "_defaultOrder": 50,
    "_isFastLaunch": false,
    "category": "Accelerated computing",
    "gpuNum": 1,
    "hideHardwareSpecs": false,
    "memoryGiB": 128,
    "name": "ml.g5.8xlarge",
    "vcpuNum": 32
   },
   {
    "_defaultOrder": 51,
    "_isFastLaunch": false,
    "category": "Accelerated computing",
    "gpuNum": 1,
    "hideHardwareSpecs": false,
    "memoryGiB": 256,
    "name": "ml.g5.16xlarge",
    "vcpuNum": 64
   },
   {
    "_defaultOrder": 52,
    "_isFastLaunch": false,
    "category": "Accelerated computing",
    "gpuNum": 4,
    "hideHardwareSpecs": false,
    "memoryGiB": 192,
    "name": "ml.g5.12xlarge",
    "vcpuNum": 48
   },
   {
    "_defaultOrder": 53,
    "_isFastLaunch": false,
    "category": "Accelerated computing",
    "gpuNum": 4,
    "hideHardwareSpecs": false,
    "memoryGiB": 384,
    "name": "ml.g5.24xlarge",
    "vcpuNum": 96
   },
   {
    "_defaultOrder": 54,
    "_isFastLaunch": false,
    "category": "Accelerated computing",
    "gpuNum": 8,
    "hideHardwareSpecs": false,
    "memoryGiB": 768,
    "name": "ml.g5.48xlarge",
    "vcpuNum": 192
   },
   {
    "_defaultOrder": 55,
    "_isFastLaunch": false,
    "category": "Accelerated computing",
    "gpuNum": 8,
    "hideHardwareSpecs": false,
    "memoryGiB": 1152,
    "name": "ml.p4d.24xlarge",
    "vcpuNum": 96
   },
   {
    "_defaultOrder": 56,
    "_isFastLaunch": false,
    "category": "Accelerated computing",
    "gpuNum": 8,
    "hideHardwareSpecs": false,
    "memoryGiB": 1152,
    "name": "ml.p4de.24xlarge",
    "vcpuNum": 96
   },
   {
    "_defaultOrder": 57,
    "_isFastLaunch": false,
    "category": "Accelerated computing",
    "gpuNum": 0,
    "hideHardwareSpecs": false,
    "memoryGiB": 32,
    "name": "ml.trn1.2xlarge",
    "vcpuNum": 8
   },
   {
    "_defaultOrder": 58,
    "_isFastLaunch": false,
    "category": "Accelerated computing",
    "gpuNum": 0,
    "hideHardwareSpecs": false,
    "memoryGiB": 512,
    "name": "ml.trn1.32xlarge",
    "vcpuNum": 128
   },
   {
    "_defaultOrder": 59,
    "_isFastLaunch": false,
    "category": "Accelerated computing",
    "gpuNum": 0,
    "hideHardwareSpecs": false,
    "memoryGiB": 512,
    "name": "ml.trn1n.32xlarge",
    "vcpuNum": 128
   }
  ],
  "instance_type": "ml.t3.medium",
  "kernelspec": {
   "display_name": "Python 3 (Data Science 3.0)",
   "language": "python",
   "name": "python3__SAGEMAKER_INTERNAL__arn:aws:sagemaker:us-west-2:236514542706:image/sagemaker-data-science-310-v1"
  },
  "language_info": {
   "codemirror_mode": {
    "name": "ipython",
    "version": 3
   },
   "file_extension": ".py",
   "mimetype": "text/x-python",
   "name": "python",
   "nbconvert_exporter": "python",
   "pygments_lexer": "ipython3",
   "version": "3.10.6"
  },
  "papermill": {
   "default_parameters": {},
   "duration": 239.460793,
   "end_time": "2021-06-01T00:16:48.734820",
   "environment_variables": {},
   "exception": true,
   "input_path": "pytorch_script_change_smdebug.ipynb",
   "output_path": "/opt/ml/processing/output/pytorch_script_change_smdebug-2021-06-01-00-08-41.ipynb",
   "parameters": {
    "kms_key": "arn:aws:kms:us-west-2:521695447989:key/6e9984db-50cf-4c7e-926c-877ec47a8b25"
   },
   "start_time": "2021-06-01T00:12:49.274027",
   "version": "2.3.3"
  },
  "vscode": {
   "interpreter": {
    "hash": "2e45558c452cedcb26631315a9b3b77e80a9c32d662ed25df58964b99bc5b9b9"
   }
  }
 },
 "nbformat": 4,
 "nbformat_minor": 5
}
