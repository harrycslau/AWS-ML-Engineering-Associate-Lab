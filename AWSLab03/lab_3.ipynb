{
 "cells": [
  {
   "cell_type": "markdown",
   "id": "669cd6bb",
   "metadata": {},
   "source": [
    "## Task 3: Deploy a Model in Amazon SageMaker\n",
    "\n",
    "In this task, you deploy the trained machine learning model using Amazon SageMaker to get predictions. You first export the model artifact to an Amazon S3 bucket. You then create a Sagemaker Model object from model artifact. Next, you create a batch transform job by specifying the Sagemaker Model, the S3 bucket location of the data to be transformed and the S3 bucket location to store the results. You then start the batch transform job and monitor its progress. Finally, once the batch transform job is complete, you retrieve the results from the specified S3 bucket. The results will contain the inferences made by the trained model on the input data."
   ]
  },
  {
   "cell_type": "markdown",
   "id": "052eb55a",
   "metadata": {},
   "source": [
    "**Note:** Solutions are available in the <a href=\"#appendix\" target=\"_self\">**Appendix**</a> section at the bottom of the notebook if you experience any issues completing the challenges."
   ]
  },
  {
   "cell_type": "markdown",
   "id": "frequent-booking",
   "metadata": {
    "papermill": {
     "duration": 0.018947,
     "end_time": "2021-06-01T00:12:50.309809",
     "exception": false,
     "start_time": "2021-06-01T00:12:50.290862",
     "status": "completed"
    },
    "tags": []
   },
   "source": [
    "### Task 3.1 Set up the environment\n",
    "\n",
    "This basic setup code has been included to help you get started. Read and run these cells first to get packages installed and variables created."
   ]
  },
  {
   "cell_type": "code",
   "execution_count": 2,
   "id": "44983b4e",
   "metadata": {
    "tags": []
   },
   "outputs": [
    {
     "name": "stdout",
     "output_type": "stream",
     "text": [
      "sagemaker.config INFO - Not applying SDK defaults from location: /etc/xdg/sagemaker/config.yaml\n",
      "sagemaker.config INFO - Not applying SDK defaults from location: /root/.config/sagemaker/config.yaml\n"
     ]
    }
   ],
   "source": [
    "#import libraries and set variable values\n",
    "\n",
    "import sys\n",
    "import boto3\n",
    "import os\n",
    "import sagemaker\n",
    "import time\n",
    "\n",
    "sess = sagemaker.Session()\n",
    "\n",
    "bucket = sess.default_bucket()\n",
    "prefix = \"lab3/batch-transform\"\n",
    "bucket_path = \"s3://{}\".format(bucket)\n",
    "\n",
    "role = sagemaker.get_execution_role()\n",
    "\n",
    "region = boto3.Session().region_name\n"
   ]
  },
  {
   "cell_type": "markdown",
   "id": "d26e3138",
   "metadata": {},
   "source": [
    "### Task 3.2 Create a model\n",
    "\n",
    "In this task, you take the pretrained model and upload it to S3. You then create a model in SageMaker. The model will later be deployed using the SageMaker Batch Transform job.\n",
    "\n",
    "#### Requirements and Configuration\n",
    "\n",
    "- Use **S3.Client.upload_file** API to upload the model artifact and test data to an S3 bucket."
   ]
  },
  {
   "cell_type": "markdown",
   "id": "42977436",
   "metadata": {},
   "source": [
    "Refer to [Upload a file to an S3 object](https://boto3.amazonaws.com/v1/documentation/api/latest/reference/services/s3/client/upload_file.html#upload-file) for more information about using the **upload_file** method."
   ]
  },
  {
   "cell_type": "code",
   "execution_count": 4,
   "id": "5603407e-39b8-4149-8d46-7f48602021f6",
   "metadata": {
    "tags": []
   },
   "outputs": [
    {
     "name": "stdout",
     "output_type": "stream",
     "text": [
      "s3://sagemaker-us-east-1-333900834230/lab3/batch-transform/models/model.tar.gz\n",
      "s3://sagemaker-us-east-1-333900834230/lab3/batch-transform/test_data.csv\n"
     ]
    }
   ],
   "source": [
    "# Upload the model to the Amazon S3 bucket\n",
    "from sagemaker.session import Session\n",
    "from sagemaker.image_uris import retrieve\n",
    "\n",
    "sagemaker = boto3.client('sagemaker')\n",
    "s3_client = boto3.client(\"s3\")\n",
    "\n",
    "#add_upload-model_code_here\n",
    "s3_client.upload_file(Filename=\"model.tar.gz\", Bucket=bucket, Key=f\"{prefix}/models/model.tar.gz\") \n",
    "model_path = f\"s3://{bucket}/{prefix}/models/model.tar.gz\"\n",
    "print(model_path)\n",
    "\n",
    "#add_upload-dataset_code_here\n",
    "s3_client.upload_file(Filename=\"test_data.csv\", Bucket=bucket, Key=f\"{prefix}/test_data.csv\", ExtraArgs={\"ContentType\": \"text/csv;charset=utf-8\"})\n",
    "batch_path = f\"s3://{bucket}/{prefix}/test_data.csv\"\n",
    "print(batch_path)"
   ]
  },
  {
   "cell_type": "markdown",
   "id": "a61c1f24",
   "metadata": {},
   "source": [
    "**Note:** For detailed code on how to upload the model artifact and test data to an S3 bucket, refer to <a href=\"#task3-2-1\" target=\"_self\">**Upload model and test data to S3 (Task 3.2)**</a> in the *Appendix* section. "
   ]
  },
  {
   "cell_type": "markdown",
   "id": "e77c3e39",
   "metadata": {},
   "source": [
    "<a id=\"task3-2-continue\"></a>\n",
    "\n",
    "Next, create a model object in SageMaker from model artifacts above.\n",
    "\n",
    "#### Requirements and Configuration\n",
    "\n",
    "- Use **SageMaker.Client.create_model** API to create a model in SageMaker.\n",
    "- In the Request, use the following options:\n",
    "    - ModelName='telemarketing-model'\n",
    "    - ExecutionRoleArn=role (The IAM role create earlier that SageMaker uses)\n",
    "    - For the primary container, use the following options:\n",
    "        - Image= XGBoost container image URI (retrieve(framework='xgboost', region=boto3.Session().region_name, version='1.5-1'))\n",
    "        - ModelDataUrl=model_path (The S3 path where the model artifacts are uploaded earlier) \n",
    "\n",
    "Refer to [Creating a model in SageMaker](https://boto3.amazonaws.com/v1/documentation/api/latest/reference/services/sagemaker/client/create_model.html) for more information about using the **SageMaker.Client.create_model** method."
   ]
  },
  {
   "cell_type": "code",
   "execution_count": 5,
   "id": "0075b3af-c958-4877-b104-90a11294d329",
   "metadata": {
    "tags": []
   },
   "outputs": [
    {
     "name": "stdout",
     "output_type": "stream",
     "text": [
      "arn:aws:sagemaker:us-east-1:333900834230:model/telemarketing-model\n"
     ]
    }
   ],
   "source": [
    "sagemaker = boto3.client('sagemaker')\n",
    "\n",
    "#add_create-model_code_here\n",
    "\n",
    "# Retrieve the container imagez\n",
    "image = retrieve(framework='xgboost', region=boto3.Session().region_name, version='1.5-1')\n",
    "\n",
    "primary_container = {\"Image\": image, \"ModelDataUrl\": model_path}\n",
    "\n",
    "# Set up the model\n",
    "create_model_response = sagemaker.create_model(\n",
    "    ModelName='telemarketing-model', ExecutionRoleArn=role, PrimaryContainer=primary_container\n",
    ")\n",
    "\n",
    "print(create_model_response[\"ModelArn\"])"
   ]
  },
  {
   "cell_type": "markdown",
   "id": "f23b2fad",
   "metadata": {},
   "source": [
    "**Note:** For detailed code on how to create a model, refer to <a href=\"#task3-2-2\" target=\"_self\">**Create a model in SageMaker (Task 3.2)**</a> in the *Appendix* section. "
   ]
  },
  {
   "cell_type": "markdown",
   "id": "f82b09c6",
   "metadata": {},
   "source": [
    "<a id=\"task3-3\"></a>\n",
    "\n",
    "### Task 3.3 Create a batch transformer\n",
    "\n",
    "In this task, you create a batch transformer.\n",
    "\n",
    "Refer to [Using Transformer API](https://sagemaker.readthedocs.io/en/stable/api/inference/transformer.html#sagemaker.transformer.Transformer) for more information about using the **Transfomer** API.\n",
    "\n",
    "#### Requirements and Configuration\n",
    "\n",
    "- Use **sagemaker.transformer.Transformer** API to initialize a transformer in SageMaker.\n",
    "- In the Parameters section, use the following options:\n",
    "    - model_name=\"telemarketing-model\"\n",
    "    - instance_type=\"ml.m4.xlarge\"\n",
    "    - instance_count=1\n",
    "    - assemble_with=\"Line\"\n",
    "    - strategy=\"MultiRecord\"\n",
    "    - accept=\"text/csv\"\n",
    "    - output_path=\"s3://{}/{}/batch-transform/test\".format(bucket, prefix)"
   ]
  },
  {
   "cell_type": "code",
   "execution_count": 6,
   "id": "075f1aaf",
   "metadata": {
    "tags": []
   },
   "outputs": [],
   "source": [
    "from sagemaker.transformer import Transformer\n",
    "\n",
    "#add_create-batch-transformer_code_here\n",
    "transformer = Transformer(\n",
    "    model_name=\"telemarketing-model\",\n",
    "    instance_type=\"ml.m4.xlarge\",\n",
    "    instance_count=1,\n",
    "    assemble_with=\"Line\",\n",
    "    strategy=\"MultiRecord\",\n",
    "    accept=\"text/csv\",\n",
    "    output_path=\"s3://{}/{}/batch-transform/test\".format(bucket, prefix)\n",
    ")"
   ]
  },
  {
   "cell_type": "markdown",
   "id": "498fa396",
   "metadata": {},
   "source": [
    "**Note:** For detailed code on how to create a Transformer object, refer to <a href=\"#task3-3-1\" target=\"_self\">**Create a Batch Transformer Object (Task 3.3)**</a> in the *Appendix* section. "
   ]
  },
  {
   "cell_type": "markdown",
   "id": "wrong-terror",
   "metadata": {
    "papermill": {
     "duration": 0.022031,
     "end_time": "2021-06-01T00:12:54.187737",
     "exception": false,
     "start_time": "2021-06-01T00:12:54.165706",
     "status": "completed"
    },
    "tags": []
   },
   "source": [
    "<a id=\"task3-4\"></a>\n",
    "\n",
    "### Task 3.4: Run the batch transform job\n",
    "\n",
    "In this task, you run the transform job. You will pass the training data in to get predictions from the batch transformer.\n",
    "\n",
    "Refer to [Using Transform API](https://sagemaker.readthedocs.io/en/stable/api/inference/transformer.html#sagemaker.transformer.Transformer.transform) for more information about using the **Transformer.transform** API.\n",
    "\n",
    "#### Requirements and Configuration\n",
    "\n",
    "- Use **Transformer.transform** API to initialize a transformer in SageMaker.\n",
    "- In the Parameters section, use the following options:\n",
    "    - batch_path (Input data location that Amazon S3 created earlier)\n",
    "    - content_type=\"text/csv\"\n",
    "    - split_type=\"Line\"\n",
    "    - join_source=\"Input\""
   ]
  },
  {
   "cell_type": "code",
   "execution_count": 7,
   "id": "237d4c62",
   "metadata": {
    "tags": []
   },
   "outputs": [
    {
     "name": "stderr",
     "output_type": "stream",
     "text": [
      "INFO:sagemaker:Creating transform job with name: sagemaker-xgboost-2024-10-26-14-27-52-112\n"
     ]
    },
    {
     "name": "stdout",
     "output_type": "stream",
     "text": [
      "..........................................\n",
      "..."
     ]
    }
   ],
   "source": [
    "#run-batch-transform-job\n",
    "transformer.transform(batch_path, content_type=\"text/csv\", split_type=\"Line\", join_source=\"Input\")\n",
    "\n",
    "transformer.wait()"
   ]
  },
  {
   "cell_type": "markdown",
   "id": "325f61a3",
   "metadata": {},
   "source": [
    "**Note:** For detailed code on how to run a transform job, refer to <a href=\"#task3-4-1\" target=\"_self\">**Run a batch transform job (Task 3.4)**</a> in the *Appendix* section. "
   ]
  },
  {
   "cell_type": "markdown",
   "id": "ffbab2cb",
   "metadata": {},
   "source": [
    "<a id=\"task3-5\"></a>\n",
    "\n",
    "### Task 3.5: Verify the output stored in an S3 bucket\n",
    "\n",
    "In this task, you pull the the output of the Batch Transform job in S3. It should show the list of predictions."
   ]
  },
  {
   "cell_type": "code",
   "execution_count": 8,
   "id": "5192e162",
   "metadata": {
    "tags": []
   },
   "outputs": [
    {
     "name": "stdout",
     "output_type": "stream",
     "text": [
      "download: s3://sagemaker-us-east-1-333900834230/lab3/batch-transform/batch-transform/test/test_data.csv.out to ./test_data.csv.out\n",
      "56,1,966,11,5,505,2,-1,0,0,0,0,0,0,0,1,0,0,0,0,0,0,1,1,0,1,0,1,0,1,0,0.2391170859336853\n",
      "50,1,2564,21,11,124,4,113,8,0,1,0,0,0,0,0,0,0,0,0,0,0,1,1,0,1,0,1,0,1,0,0.0140683026984334\n",
      "34,1,-28,16,7,574,1,-1,0,0,0,0,0,0,0,0,1,0,0,0,1,0,0,1,0,1,0,1,0,1,0,0.22969332337379456\n",
      "36,2,91,7,5,371,2,-1,0,0,0,0,1,0,0,0,0,0,0,0,0,1,0,0,0,1,0,1,0,1,0,0.012043386697769165\n",
      "46,0,2215,6,6,222,2,-1,0,0,0,0,0,1,0,0,0,0,0,0,1,0,0,0,0,1,0,0,1,1,0,0.014749388210475445\n",
      "55,1,154,11,5,70,2,367,3,0,1,0,0,0,0,0,0,0,0,0,1,0,0,0,1,1,0,0,1,1,0,0.002062760293483734\n",
      "37,0,681,5,2,187,1,8,1,0,0,0,0,0,0,0,0,0,0,1,0,1,0,1,0,1,0,0,1,1,0,0.14288154244422913\n",
      "60,0,860,12,5,318,1,-1,0,0,0,0,1,0,0,0,0,0,0,0,0,1,0,1,0,1,0,1,0,1,0,0.19637687504291534\n",
      "54,1,0,18,5,17,11,-1,0,0,1,0,0,0,0,0,0,0,0,0,0,0,1,0,1,1,0,1,0,1,0,0.0006146965897642076\n",
      "31,0,213,20,5,74,2,-1,0,1,0,0,0,0,0,0,0,0,0,0,1,0,0,0,0,1,0,1,0,1,0,0.001415897044353187\n"
     ]
    }
   ],
   "source": [
    "!aws s3 cp --recursive $transformer.output_path ./\n",
    "!head test_data.csv.out"
   ]
  },
  {
   "cell_type": "markdown",
   "id": "ccec8c09",
   "metadata": {},
   "source": [
    "Congratulations! you have successfully deployed the trained machine learning model using Amazon SageMaker to get predictions.\n",
    "\n",
    "### Cleanup\n",
    "\n",
    "You have completed this notebook. To move to the next part of the lab, do the following:\n",
    "\n",
    "- Close this notebook file.\n",
    "- Return to the lab session and continue with the **Conclusion**."
   ]
  },
  {
   "cell_type": "markdown",
   "id": "d8edf86a",
   "metadata": {},
   "source": [
    "## Additional resources\n",
    "\n",
    "- [Deploy models for inference](https://docs.aws.amazon.com/sagemaker/latest/dg/deploy-model.html)\n",
    "- [Using SageMaker APIs](https://sagemaker.readthedocs.io/en/stable/api/inference/index.html)"
   ]
  },
  {
   "cell_type": "markdown",
   "id": "450fd095",
   "metadata": {},
   "source": [
    "<a name=\"appendix\" id=\"appendix\"></a>\n",
    "\n",
    "## Appendix\n"
   ]
  },
  {
   "cell_type": "markdown",
   "id": "70df7dff",
   "metadata": {},
   "source": [
    "<a name=\"task3-2-1\" id=\"task3-2-1\"></a>\n",
    "\n",
    "### Upload model and test data to S3 (Task 3.2)"
   ]
  },
  {
   "cell_type": "code",
   "execution_count": null,
   "id": "e6657c73",
   "metadata": {},
   "outputs": [],
   "source": [
    "# Upload the model to the Amazon S3 bucket\n",
    "from sagemaker.session import Session\n",
    "from sagemaker.image_uris import retrieve\n",
    "\n",
    "#session = boto3.Session()\n",
    "sagemaker = boto3.client('sagemaker')\n",
    "s3_client = boto3.client(\"s3\")\n",
    "\n",
    "#upload-model\n",
    "s3_client.upload_file(Filename=\"model.tar.gz\", Bucket=bucket, Key=f\"{prefix}/models/model.tar.gz\")  \n",
    "model_path = f\"s3://{bucket}/{prefix}/models/model.tar.gz\"\n",
    "print(model_path)\n",
    "\n",
    "#upload-dataset\n",
    "s3_client.upload_file(Filename=\"test_data.csv\", Bucket=bucket, Key=f\"{prefix}/test_data.csv\", ExtraArgs={\"ContentType\": \"text/csv;charset=utf-8\"})\n",
    "batch_path = f\"s3://{bucket}/{prefix}/test_data.csv\"\n",
    "print(batch_path)"
   ]
  },
  {
   "cell_type": "markdown",
   "id": "9cd62438",
   "metadata": {},
   "source": [
    "To continue this lab, return to <a href=\"#task3-2-continue\" target=\"_self\">Task 3.2</a>."
   ]
  },
  {
   "cell_type": "markdown",
   "id": "258ed6c9",
   "metadata": {},
   "source": [
    "<a name=\"task3-2-2\" id=\"task3-2-2\"></a>\n",
    "\n",
    "### Create a model in SageMaker (Task 3.2)"
   ]
  },
  {
   "cell_type": "code",
   "execution_count": null,
   "id": "4badb6bc",
   "metadata": {
    "tags": []
   },
   "outputs": [],
   "source": [
    "sagemaker = boto3.client('sagemaker')\n",
    "\n",
    "# Retrieve the container imagez\n",
    "image = retrieve(framework='xgboost', region=boto3.Session().region_name, version='1.5-1')\n",
    "\n",
    "primary_container = {\"Image\": image, \"ModelDataUrl\": model_path}\n",
    "\n",
    "# Set up the model\n",
    "create_model_response = sagemaker.create_model(\n",
    "    ModelName='telemarketing-model', ExecutionRoleArn=role, PrimaryContainer=primary_container\n",
    ")\n",
    "\n",
    "print(create_model_response[\"ModelArn\"])"
   ]
  },
  {
   "cell_type": "markdown",
   "id": "2563d692",
   "metadata": {},
   "source": [
    "To continue this lab, return to <a href=\"#task3-3\" target=\"_self\">Task 3.3</a>."
   ]
  },
  {
   "cell_type": "markdown",
   "id": "47a04458",
   "metadata": {},
   "source": [
    "<a name=\"task3-3-1\" id=\"task3-3-1\"></a>\n",
    "\n",
    "### Create a Batch Transformer Object (Task 3.3)"
   ]
  },
  {
   "cell_type": "code",
   "execution_count": null,
   "id": "55bc4bbd",
   "metadata": {},
   "outputs": [],
   "source": [
    "from sagemaker.transformer import Transformer\n",
    "\n",
    "#create-batch-transformer\n",
    "transformer = Transformer(\n",
    "    model_name=\"telemarketing-model\",\n",
    "    instance_type=\"ml.m4.xlarge\",\n",
    "    instance_count=1,\n",
    "    assemble_with=\"Line\",\n",
    "    strategy=\"MultiRecord\",\n",
    "    accept=\"text/csv\",\n",
    "    output_path=\"s3://{}/{}/batch-transform/test\".format(bucket, prefix)\n",
    ")"
   ]
  },
  {
   "cell_type": "markdown",
   "id": "1518a7f2",
   "metadata": {},
   "source": [
    "To continue this lab, return to <a href=\"#task3-4\" target=\"_self\">Task 3.4</a>."
   ]
  },
  {
   "cell_type": "markdown",
   "id": "81cbc760",
   "metadata": {},
   "source": [
    "<a name=\"task3-4-1\" id=\"task3-4-1\"></a>\n",
    "\n",
    "### Run a batch transform job (Task 3.4)\n"
   ]
  },
  {
   "cell_type": "code",
   "execution_count": null,
   "id": "d968864a-3346-4c86-84e3-19e1de190ecb",
   "metadata": {},
   "outputs": [],
   "source": [
    "#run-batch-transform-job\n",
    "transformer.transform(batch_path, content_type=\"text/csv\", split_type=\"Line\", join_source=\"Input\")\n",
    "\n",
    "transformer.wait()"
   ]
  },
  {
   "cell_type": "markdown",
   "id": "cd11c4fd",
   "metadata": {},
   "source": [
    "To continue this lab, return to <a href=\"#task3-5\" target=\"_self\">Task 3.5</a>."
   ]
  }
 ],
 "metadata": {
  "availableInstances": [
   {
    "_defaultOrder": 0,
    "_isFastLaunch": true,
    "category": "General purpose",
    "gpuNum": 0,
    "hideHardwareSpecs": false,
    "memoryGiB": 4,
    "name": "ml.t3.medium",
    "vcpuNum": 2
   },
   {
    "_defaultOrder": 1,
    "_isFastLaunch": false,
    "category": "General purpose",
    "gpuNum": 0,
    "hideHardwareSpecs": false,
    "memoryGiB": 8,
    "name": "ml.t3.large",
    "vcpuNum": 2
   },
   {
    "_defaultOrder": 2,
    "_isFastLaunch": false,
    "category": "General purpose",
    "gpuNum": 0,
    "hideHardwareSpecs": false,
    "memoryGiB": 16,
    "name": "ml.t3.xlarge",
    "vcpuNum": 4
   },
   {
    "_defaultOrder": 3,
    "_isFastLaunch": false,
    "category": "General purpose",
    "gpuNum": 0,
    "hideHardwareSpecs": false,
    "memoryGiB": 32,
    "name": "ml.t3.2xlarge",
    "vcpuNum": 8
   },
   {
    "_defaultOrder": 4,
    "_isFastLaunch": true,
    "category": "General purpose",
    "gpuNum": 0,
    "hideHardwareSpecs": false,
    "memoryGiB": 8,
    "name": "ml.m5.large",
    "vcpuNum": 2
   },
   {
    "_defaultOrder": 5,
    "_isFastLaunch": false,
    "category": "General purpose",
    "gpuNum": 0,
    "hideHardwareSpecs": false,
    "memoryGiB": 16,
    "name": "ml.m5.xlarge",
    "vcpuNum": 4
   },
   {
    "_defaultOrder": 6,
    "_isFastLaunch": false,
    "category": "General purpose",
    "gpuNum": 0,
    "hideHardwareSpecs": false,
    "memoryGiB": 32,
    "name": "ml.m5.2xlarge",
    "vcpuNum": 8
   },
   {
    "_defaultOrder": 7,
    "_isFastLaunch": false,
    "category": "General purpose",
    "gpuNum": 0,
    "hideHardwareSpecs": false,
    "memoryGiB": 64,
    "name": "ml.m5.4xlarge",
    "vcpuNum": 16
   },
   {
    "_defaultOrder": 8,
    "_isFastLaunch": false,
    "category": "General purpose",
    "gpuNum": 0,
    "hideHardwareSpecs": false,
    "memoryGiB": 128,
    "name": "ml.m5.8xlarge",
    "vcpuNum": 32
   },
   {
    "_defaultOrder": 9,
    "_isFastLaunch": false,
    "category": "General purpose",
    "gpuNum": 0,
    "hideHardwareSpecs": false,
    "memoryGiB": 192,
    "name": "ml.m5.12xlarge",
    "vcpuNum": 48
   },
   {
    "_defaultOrder": 10,
    "_isFastLaunch": false,
    "category": "General purpose",
    "gpuNum": 0,
    "hideHardwareSpecs": false,
    "memoryGiB": 256,
    "name": "ml.m5.16xlarge",
    "vcpuNum": 64
   },
   {
    "_defaultOrder": 11,
    "_isFastLaunch": false,
    "category": "General purpose",
    "gpuNum": 0,
    "hideHardwareSpecs": false,
    "memoryGiB": 384,
    "name": "ml.m5.24xlarge",
    "vcpuNum": 96
   },
   {
    "_defaultOrder": 12,
    "_isFastLaunch": false,
    "category": "General purpose",
    "gpuNum": 0,
    "hideHardwareSpecs": false,
    "memoryGiB": 8,
    "name": "ml.m5d.large",
    "vcpuNum": 2
   },
   {
    "_defaultOrder": 13,
    "_isFastLaunch": false,
    "category": "General purpose",
    "gpuNum": 0,
    "hideHardwareSpecs": false,
    "memoryGiB": 16,
    "name": "ml.m5d.xlarge",
    "vcpuNum": 4
   },
   {
    "_defaultOrder": 14,
    "_isFastLaunch": false,
    "category": "General purpose",
    "gpuNum": 0,
    "hideHardwareSpecs": false,
    "memoryGiB": 32,
    "name": "ml.m5d.2xlarge",
    "vcpuNum": 8
   },
   {
    "_defaultOrder": 15,
    "_isFastLaunch": false,
    "category": "General purpose",
    "gpuNum": 0,
    "hideHardwareSpecs": false,
    "memoryGiB": 64,
    "name": "ml.m5d.4xlarge",
    "vcpuNum": 16
   },
   {
    "_defaultOrder": 16,
    "_isFastLaunch": false,
    "category": "General purpose",
    "gpuNum": 0,
    "hideHardwareSpecs": false,
    "memoryGiB": 128,
    "name": "ml.m5d.8xlarge",
    "vcpuNum": 32
   },
   {
    "_defaultOrder": 17,
    "_isFastLaunch": false,
    "category": "General purpose",
    "gpuNum": 0,
    "hideHardwareSpecs": false,
    "memoryGiB": 192,
    "name": "ml.m5d.12xlarge",
    "vcpuNum": 48
   },
   {
    "_defaultOrder": 18,
    "_isFastLaunch": false,
    "category": "General purpose",
    "gpuNum": 0,
    "hideHardwareSpecs": false,
    "memoryGiB": 256,
    "name": "ml.m5d.16xlarge",
    "vcpuNum": 64
   },
   {
    "_defaultOrder": 19,
    "_isFastLaunch": false,
    "category": "General purpose",
    "gpuNum": 0,
    "hideHardwareSpecs": false,
    "memoryGiB": 384,
    "name": "ml.m5d.24xlarge",
    "vcpuNum": 96
   },
   {
    "_defaultOrder": 20,
    "_isFastLaunch": false,
    "category": "General purpose",
    "gpuNum": 0,
    "hideHardwareSpecs": true,
    "memoryGiB": 0,
    "name": "ml.geospatial.interactive",
    "supportedImageNames": [
     "sagemaker-geospatial-v1-0"
    ],
    "vcpuNum": 0
   },
   {
    "_defaultOrder": 21,
    "_isFastLaunch": true,
    "category": "Compute optimized",
    "gpuNum": 0,
    "hideHardwareSpecs": false,
    "memoryGiB": 4,
    "name": "ml.c5.large",
    "vcpuNum": 2
   },
   {
    "_defaultOrder": 22,
    "_isFastLaunch": false,
    "category": "Compute optimized",
    "gpuNum": 0,
    "hideHardwareSpecs": false,
    "memoryGiB": 8,
    "name": "ml.c5.xlarge",
    "vcpuNum": 4
   },
   {
    "_defaultOrder": 23,
    "_isFastLaunch": false,
    "category": "Compute optimized",
    "gpuNum": 0,
    "hideHardwareSpecs": false,
    "memoryGiB": 16,
    "name": "ml.c5.2xlarge",
    "vcpuNum": 8
   },
   {
    "_defaultOrder": 24,
    "_isFastLaunch": false,
    "category": "Compute optimized",
    "gpuNum": 0,
    "hideHardwareSpecs": false,
    "memoryGiB": 32,
    "name": "ml.c5.4xlarge",
    "vcpuNum": 16
   },
   {
    "_defaultOrder": 25,
    "_isFastLaunch": false,
    "category": "Compute optimized",
    "gpuNum": 0,
    "hideHardwareSpecs": false,
    "memoryGiB": 72,
    "name": "ml.c5.9xlarge",
    "vcpuNum": 36
   },
   {
    "_defaultOrder": 26,
    "_isFastLaunch": false,
    "category": "Compute optimized",
    "gpuNum": 0,
    "hideHardwareSpecs": false,
    "memoryGiB": 96,
    "name": "ml.c5.12xlarge",
    "vcpuNum": 48
   },
   {
    "_defaultOrder": 27,
    "_isFastLaunch": false,
    "category": "Compute optimized",
    "gpuNum": 0,
    "hideHardwareSpecs": false,
    "memoryGiB": 144,
    "name": "ml.c5.18xlarge",
    "vcpuNum": 72
   },
   {
    "_defaultOrder": 28,
    "_isFastLaunch": false,
    "category": "Compute optimized",
    "gpuNum": 0,
    "hideHardwareSpecs": false,
    "memoryGiB": 192,
    "name": "ml.c5.24xlarge",
    "vcpuNum": 96
   },
   {
    "_defaultOrder": 29,
    "_isFastLaunch": true,
    "category": "Accelerated computing",
    "gpuNum": 1,
    "hideHardwareSpecs": false,
    "memoryGiB": 16,
    "name": "ml.g4dn.xlarge",
    "vcpuNum": 4
   },
   {
    "_defaultOrder": 30,
    "_isFastLaunch": false,
    "category": "Accelerated computing",
    "gpuNum": 1,
    "hideHardwareSpecs": false,
    "memoryGiB": 32,
    "name": "ml.g4dn.2xlarge",
    "vcpuNum": 8
   },
   {
    "_defaultOrder": 31,
    "_isFastLaunch": false,
    "category": "Accelerated computing",
    "gpuNum": 1,
    "hideHardwareSpecs": false,
    "memoryGiB": 64,
    "name": "ml.g4dn.4xlarge",
    "vcpuNum": 16
   },
   {
    "_defaultOrder": 32,
    "_isFastLaunch": false,
    "category": "Accelerated computing",
    "gpuNum": 1,
    "hideHardwareSpecs": false,
    "memoryGiB": 128,
    "name": "ml.g4dn.8xlarge",
    "vcpuNum": 32
   },
   {
    "_defaultOrder": 33,
    "_isFastLaunch": false,
    "category": "Accelerated computing",
    "gpuNum": 4,
    "hideHardwareSpecs": false,
    "memoryGiB": 192,
    "name": "ml.g4dn.12xlarge",
    "vcpuNum": 48
   },
   {
    "_defaultOrder": 34,
    "_isFastLaunch": false,
    "category": "Accelerated computing",
    "gpuNum": 1,
    "hideHardwareSpecs": false,
    "memoryGiB": 256,
    "name": "ml.g4dn.16xlarge",
    "vcpuNum": 64
   },
   {
    "_defaultOrder": 35,
    "_isFastLaunch": false,
    "category": "Accelerated computing",
    "gpuNum": 1,
    "hideHardwareSpecs": false,
    "memoryGiB": 61,
    "name": "ml.p3.2xlarge",
    "vcpuNum": 8
   },
   {
    "_defaultOrder": 36,
    "_isFastLaunch": false,
    "category": "Accelerated computing",
    "gpuNum": 4,
    "hideHardwareSpecs": false,
    "memoryGiB": 244,
    "name": "ml.p3.8xlarge",
    "vcpuNum": 32
   },
   {
    "_defaultOrder": 37,
    "_isFastLaunch": false,
    "category": "Accelerated computing",
    "gpuNum": 8,
    "hideHardwareSpecs": false,
    "memoryGiB": 488,
    "name": "ml.p3.16xlarge",
    "vcpuNum": 64
   },
   {
    "_defaultOrder": 38,
    "_isFastLaunch": false,
    "category": "Accelerated computing",
    "gpuNum": 8,
    "hideHardwareSpecs": false,
    "memoryGiB": 768,
    "name": "ml.p3dn.24xlarge",
    "vcpuNum": 96
   },
   {
    "_defaultOrder": 39,
    "_isFastLaunch": false,
    "category": "Memory Optimized",
    "gpuNum": 0,
    "hideHardwareSpecs": false,
    "memoryGiB": 16,
    "name": "ml.r5.large",
    "vcpuNum": 2
   },
   {
    "_defaultOrder": 40,
    "_isFastLaunch": false,
    "category": "Memory Optimized",
    "gpuNum": 0,
    "hideHardwareSpecs": false,
    "memoryGiB": 32,
    "name": "ml.r5.xlarge",
    "vcpuNum": 4
   },
   {
    "_defaultOrder": 41,
    "_isFastLaunch": false,
    "category": "Memory Optimized",
    "gpuNum": 0,
    "hideHardwareSpecs": false,
    "memoryGiB": 64,
    "name": "ml.r5.2xlarge",
    "vcpuNum": 8
   },
   {
    "_defaultOrder": 42,
    "_isFastLaunch": false,
    "category": "Memory Optimized",
    "gpuNum": 0,
    "hideHardwareSpecs": false,
    "memoryGiB": 128,
    "name": "ml.r5.4xlarge",
    "vcpuNum": 16
   },
   {
    "_defaultOrder": 43,
    "_isFastLaunch": false,
    "category": "Memory Optimized",
    "gpuNum": 0,
    "hideHardwareSpecs": false,
    "memoryGiB": 256,
    "name": "ml.r5.8xlarge",
    "vcpuNum": 32
   },
   {
    "_defaultOrder": 44,
    "_isFastLaunch": false,
    "category": "Memory Optimized",
    "gpuNum": 0,
    "hideHardwareSpecs": false,
    "memoryGiB": 384,
    "name": "ml.r5.12xlarge",
    "vcpuNum": 48
   },
   {
    "_defaultOrder": 45,
    "_isFastLaunch": false,
    "category": "Memory Optimized",
    "gpuNum": 0,
    "hideHardwareSpecs": false,
    "memoryGiB": 512,
    "name": "ml.r5.16xlarge",
    "vcpuNum": 64
   },
   {
    "_defaultOrder": 46,
    "_isFastLaunch": false,
    "category": "Memory Optimized",
    "gpuNum": 0,
    "hideHardwareSpecs": false,
    "memoryGiB": 768,
    "name": "ml.r5.24xlarge",
    "vcpuNum": 96
   },
   {
    "_defaultOrder": 47,
    "_isFastLaunch": false,
    "category": "Accelerated computing",
    "gpuNum": 1,
    "hideHardwareSpecs": false,
    "memoryGiB": 16,
    "name": "ml.g5.xlarge",
    "vcpuNum": 4
   },
   {
    "_defaultOrder": 48,
    "_isFastLaunch": false,
    "category": "Accelerated computing",
    "gpuNum": 1,
    "hideHardwareSpecs": false,
    "memoryGiB": 32,
    "name": "ml.g5.2xlarge",
    "vcpuNum": 8
   },
   {
    "_defaultOrder": 49,
    "_isFastLaunch": false,
    "category": "Accelerated computing",
    "gpuNum": 1,
    "hideHardwareSpecs": false,
    "memoryGiB": 64,
    "name": "ml.g5.4xlarge",
    "vcpuNum": 16
   },
   {
    "_defaultOrder": 50,
    "_isFastLaunch": false,
    "category": "Accelerated computing",
    "gpuNum": 1,
    "hideHardwareSpecs": false,
    "memoryGiB": 128,
    "name": "ml.g5.8xlarge",
    "vcpuNum": 32
   },
   {
    "_defaultOrder": 51,
    "_isFastLaunch": false,
    "category": "Accelerated computing",
    "gpuNum": 1,
    "hideHardwareSpecs": false,
    "memoryGiB": 256,
    "name": "ml.g5.16xlarge",
    "vcpuNum": 64
   },
   {
    "_defaultOrder": 52,
    "_isFastLaunch": false,
    "category": "Accelerated computing",
    "gpuNum": 4,
    "hideHardwareSpecs": false,
    "memoryGiB": 192,
    "name": "ml.g5.12xlarge",
    "vcpuNum": 48
   },
   {
    "_defaultOrder": 53,
    "_isFastLaunch": false,
    "category": "Accelerated computing",
    "gpuNum": 4,
    "hideHardwareSpecs": false,
    "memoryGiB": 384,
    "name": "ml.g5.24xlarge",
    "vcpuNum": 96
   },
   {
    "_defaultOrder": 54,
    "_isFastLaunch": false,
    "category": "Accelerated computing",
    "gpuNum": 8,
    "hideHardwareSpecs": false,
    "memoryGiB": 768,
    "name": "ml.g5.48xlarge",
    "vcpuNum": 192
   },
   {
    "_defaultOrder": 55,
    "_isFastLaunch": false,
    "category": "Accelerated computing",
    "gpuNum": 8,
    "hideHardwareSpecs": false,
    "memoryGiB": 1152,
    "name": "ml.p4d.24xlarge",
    "vcpuNum": 96
   },
   {
    "_defaultOrder": 56,
    "_isFastLaunch": false,
    "category": "Accelerated computing",
    "gpuNum": 8,
    "hideHardwareSpecs": false,
    "memoryGiB": 1152,
    "name": "ml.p4de.24xlarge",
    "vcpuNum": 96
   },
   {
    "_defaultOrder": 57,
    "_isFastLaunch": false,
    "category": "Accelerated computing",
    "gpuNum": 0,
    "hideHardwareSpecs": false,
    "memoryGiB": 32,
    "name": "ml.trn1.2xlarge",
    "vcpuNum": 8
   },
   {
    "_defaultOrder": 58,
    "_isFastLaunch": false,
    "category": "Accelerated computing",
    "gpuNum": 0,
    "hideHardwareSpecs": false,
    "memoryGiB": 512,
    "name": "ml.trn1.32xlarge",
    "vcpuNum": 128
   },
   {
    "_defaultOrder": 59,
    "_isFastLaunch": false,
    "category": "Accelerated computing",
    "gpuNum": 0,
    "hideHardwareSpecs": false,
    "memoryGiB": 512,
    "name": "ml.trn1n.32xlarge",
    "vcpuNum": 128
   }
  ],
  "instance_type": "ml.t3.medium",
  "kernelspec": {
   "display_name": "Python 3 (Data Science 3.0)",
   "language": "python",
   "name": "python3__SAGEMAKER_INTERNAL__arn:aws:sagemaker:us-east-1:081325390199:image/sagemaker-data-science-310-v1"
  },
  "language_info": {
   "codemirror_mode": {
    "name": "ipython",
    "version": 3
   },
   "file_extension": ".py",
   "mimetype": "text/x-python",
   "name": "python",
   "nbconvert_exporter": "python",
   "pygments_lexer": "ipython3",
   "version": "3.10.6"
  },
  "papermill": {
   "default_parameters": {},
   "duration": 239.460793,
   "end_time": "2021-06-01T00:16:48.734820",
   "environment_variables": {},
   "exception": true,
   "input_path": "pytorch_script_change_smdebug.ipynb",
   "output_path": "/opt/ml/processing/output/pytorch_script_change_smdebug-2021-06-01-00-08-41.ipynb",
   "parameters": {
    "kms_key": "arn:aws:kms:us-west-2:521695447989:key/6e9984db-50cf-4c7e-926c-877ec47a8b25"
   },
   "start_time": "2021-06-01T00:12:49.274027",
   "version": "2.3.3"
  },
  "vscode": {
   "interpreter": {
    "hash": "2e45558c452cedcb26631315a9b3b77e80a9c32d662ed25df58964b99bc5b9b9"
   }
  }
 },
 "nbformat": 4,
 "nbformat_minor": 5
}
