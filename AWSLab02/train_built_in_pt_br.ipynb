{
 "cells": [
  {
   "attachments": {},
   "cell_type": "markdown",
   "metadata": {},
   "source": [
    "## Tarefa 1: Treinar um modelo\n",
    "\n",
    "O processo de criação de um modelo de machine learning (ML) começa com o processamento de dados. Após a conclusão do processamento de dados, você escolhe um algoritmo de ML para treinar seu modelo. O objetivo do treinamento do modelo é criar um modelo que você possa usar para fazer previsões com dados futuros. Seus dados processados devem conter um destino, mas seus dados futuros não contêm um destino (eles não estão rotulados). O algoritmo encontra padrões nos dados de treinamento que mapeiam os atributos dos dados de entrada para o destino. O algoritmo então gera um modelo de ML que captura esses padrões. Quando você tem um modelo, pode fazer previsões sobre novos dados que não contenham o valor de destino.\n",
    "\n",
    "Por exemplo, caso queira treinar um modelo de ML para prever se um e-mail é spam ou não, forneça ao seu modelo dados de treinamento que contenham e-mails cujo destino você conhece (nesse caso, um rótulo que informa se um e-mail é spam ou não). Usando esses dados, o algoritmo cria um modelo que prevê se um e-mail é spam ou não. Você pode usar esse modelo para prever rótulos de e-mail futuros.\n",
    "\n",
    "Nesta tarefa, você está prevendo se alguém tem menos de USD 50 mil ou não. Seu modelo está sendo treinado para se otimizar para poder prever se alguém tem menos de USD 50 mil com a maior precisão possível. O treinamento do modelo requer alguma configuração, incluindo o tipo de algoritmo que você deseja usar para treinar. Nesta tarefa, você usa o algoritmo XGBoost (eXtreme Gradient Boosting). Ao treinar um modelo, você também precisa configurar seus hiperparâmetros. Hiperparâmetros são parâmetros que controlam o processo de trabalho de treinamento. Eles podem ser ajustados para alterar diversas etapas do trabalho de treinamento. Selecionar o conjunto certo de hiperparâmetros é importante em termos de desempenho e acurácia do modelo. Depois de treinar o modelo, você vai avaliá-lo e visualizar os artefatos dele."
   ]
  },
  {
   "attachments": {},
   "cell_type": "markdown",
   "metadata": {},
   "source": [
    "### Tarefa 1.1: Configurar o ambiente\n",
    "\n",
    "Antes de iniciar o treinamento do modelo, instale todas as dependências necessárias."
   ]
  },
  {
   "cell_type": "code",
   "execution_count": null,
   "metadata": {
    "tags": []
   },
   "outputs": [],
   "source": [
    "#Install matplotlib and restart kernel\n",
    "%pip install matplotlib\n",
    "%pip uninstall bokeh -y\n",
    "%pip install bokeh==2.4.2\n",
    "%reset -f\n",
    "\n",
    "# Install dependencies\n",
    "import boto3\n",
    "import io\n",
    "import json\n",
    "import math\n",
    "import matplotlib.pyplot as plt\n",
    "import os\n",
    "import pandas as pd\n",
    "import re\n",
    "import sagemaker\n",
    "import sys\n",
    "import time\n",
    "import zipfile\n",
    "\n",
    "from sagemaker.debugger import Rule, rule_configs\n",
    "from IPython.display import FileLink, FileLinks\n",
    "from sagemaker import image_uris\n",
    "from IPython.display import display\n",
    "from IPython.display import Image\n",
    "from sagemaker.analytics import ExperimentAnalytics\n",
    "from sagemaker.inputs import TrainingInput\n",
    "from sagemaker.session import Session\n",
    "from sagemaker.tuner import IntegerParameter, CategoricalParameter, ContinuousParameter, HyperparameterTuner\n",
    "from sagemaker.xgboost.estimator import XGBoost\n",
    "from time import gmtime, strftime\n",
    "from pathlib import Path\n",
    "\n",
    "sagemaker_session = sagemaker.Session()\n",
    "role = sagemaker.get_execution_role()\n",
    "region = boto3.Session().region_name\n",
    "sess = boto3.Session()\n",
    "sm = sess.client('sagemaker')"
   ]
  },
  {
   "cell_type": "markdown",
   "metadata": {},
   "source": [
    "Observação: caso seja exibido o erro na saída “ERROR: pip's dependency resolver does not currently take into account all the packages that are installed” (ERRO: o solucionador de dependência de pip não considera todos os pacotes instalados no momento), você pode ignorar o erro de dependência do pacote e prosseguir com as próximas etapas."
   ]
  },
  {
   "attachments": {},
   "cell_type": "markdown",
   "metadata": {},
   "source": [
    "Depois, importe o conjunto de dados. Para este exercício, suponha que alguém tenha exportado os arquivos de dados do Amazon SageMaker Data Wrangler para um bucket do Amazon Simple Storage Service (Amazon S3). Você vai dividir o conjunto de dados nos seguintes conjuntos de dados: treinamento (70%), validação (20%) e teste (10%). Os conjuntos de dados de treinamento e validação são usados durante o treinamento. O conjunto de dados de teste é usado na avaliação do modelo após a implantação.\n",
    "\n",
    "Para treinar usando o Amazon SageMaker, os conjuntos de dados devem estar no formato libSVM ou CSV. Este laboratório usa o formato CSV para o treinamento. \n",
    "\n",
    "Para visualizar os arquivos do conjunto de dados criados no laboratório anterior, siga estas etapas abaixo:\n",
    "\n",
    "1. Escolha o ícone do bucket na barra de menu à esquerda.\n",
    "\n",
    "1. Na lista de buckets, selecione o bucket do Amazon S3 que contém **labdatabucket** em seu nome.\n",
    "\n",
    "Abrir os arquivos .csv abre novas guias no SageMaker Studio. Para seguir essas orientações, escolha uma das seguintes opções:\n",
    "- **Opção 1:** visualizar as abas lado a lado. Para criar uma visualização de tela dividida por meio da janela principal do SageMaker Studio, arraste a aba **lab_2.ipynb** para a lateral ou selecione a aba **lab_2.ipynb** e, na barra de ferramentas, escolha **Arquivo** e **New View for Notebook** (Nova visualização do bloco de anotações). Agora, as orientações ficam visíveis enquanto você explora os arquivos .csv.\n",
    "- **Opção 2:** alternar entre as abas do SageMaker Studio para seguir essas instruções. Ao terminar de explorar os arquivos .csv, retorne ao bloco de anotações selecionando a aba **lab_2.ipynb**.\n",
    "\n",
    "1. Escolha (clique duas vezes) a pasta **scripts**, escolha (clique duas vezes) a pasta **data** (dados), escolha (clique duas vezes) a pasta **train** (treinar) e escolha (clique duas vezes) o arquivo **adult_data_processed_train.csv** para visualizar seu conteúdo.\n",
    "\n",
    "1. No painel à esquerda, escolha **data** (dados) no link de navegação estrutural <i aria-hidden=\"true\" class=\"fas fa-folder\" style=\"color:white\"></i> **/ ... /data/train/**.\n",
    "\n",
    "1. Escolha (clique duas vezes) a pasta **validation** (validação) e, em seguida, escolha (clique duas vezes) o arquivo **adult_data_processed_validation.csv** para visualizar seu conteúdo.\n",
    "\n",
    "Você visualizou os arquivos do conjunto de dados. Agora, configure os caminhos de treinamento e validação que seu trabalho de treinamento usa como entrada."
   ]
  },
  {
   "cell_type": "code",
   "execution_count": null,
   "metadata": {
    "tags": []
   },
   "outputs": [],
   "source": [
    "# Import the datasets\n",
    "s3 = boto3.resource('s3')\n",
    "for buckets in s3.buckets.all():\n",
    "    if 'labdatabucket' in buckets.name:\n",
    "        bucket = buckets.name\n",
    "print(\"Bucket: \", bucket)\n",
    "prefix = 'scripts/data'\n",
    "output_path = 's3://{}/{}/output'.format(bucket, prefix)\n",
    "\n",
    "# Configure the training paths\n",
    "train_path = f\"s3://{bucket}/{prefix}/train/adult_data_processed_train.csv\"\n",
    "validation_path = f\"s3://{bucket}/{prefix}/validation/adult_data_processed_validation.csv\"\n",
    "\n",
    "# Set up the TrainingInput objects\n",
    "train_input = TrainingInput(train_path, content_type='text/csv')\n",
    "validation_input = TrainingInput(validation_path, content_type='text/csv')\n",
    "\n",
    "# Print the training and validation paths\n",
    "print(f'Training path: {train_path}')\n",
    "print(f'Validation path: {validation_path}')\n",
    "\n",
    "# Set the container, name, and tags\n",
    "create_date = strftime(\"%m%d%H%M\")\n",
    "container = image_uris.retrieve(framework='xgboost',region=boto3.Session().region_name,version='1.5-1')\n",
    "run_name = 'lab-2-run-{}'.format(create_date)"
   ]
  },
  {
   "cell_type": "markdown",
   "metadata": {},
   "source": [
    "### Tarefa 1.2: Configurar um objeto estimador\n",
    "\n",
    "Um estimador é uma interface de alto nível para treinamento do SageMaker. Você cria um objeto estimador fornecendo os parâmetros necessários, como a função do AWS Identity and Access Management (AWS IAM), a contagem e o tipo de instâncias de computação e o caminho de saída do Amazon S3. Este laboratório usa o algoritmo integrado XGBoost para o estimador genérico SageMaker. O XGBoost é uma conhecida e eficiente implementação de código aberto do algoritmo baseado em árvores com aumento de gradiente. O aumento de gradiente é um algoritmo de aprendizado supervisionado que tenta prever com precisão uma variável de destino. Para isso, combina um grupo de estimativas de um conjunto de modelos mais simples e mais fracos. O algoritmo XGBoost tem um bom desempenho no tratamento de uma variedade de tipos de dados, relacionamentos, distribuições e uma variedade de hiperparâmetros que você pode ajustar. Você pode usar o XGBoost para problemas de regressão, classificação (binária e multiclasse) e classificação. Neste caso, você está usando o XGBoost para resolver um problema de classificação (se alguém ganha menos de USD 50 mil ou não).\n",
    "\n",
    "Neste laboratório, você vai criar um estimador XGBoost usando a classe *sagemaker.estimator.Estimator*. No código de exemplo a seguir, o estimador XGBoost é denominado *xgb_model*. Para criar o estimador do SageMaker, especifique os seguintes parâmetros:\n",
    "\n",
    "- **image_uri**: o URI da imagem do contêiner de treinamento. Neste exemplo, o URI do contêiner de treinamento de XGBoost do SageMaker é especificado usando *image_uris.retrieve*.\n",
    "- **função**: o perfil do IAM que o SageMaker usa para executar tarefas em seu nome (por exemplo, ler resultados de treinamento, chamar artefatos de modelo do Amazon S3 e gravar resultados de treinamento no Amazon S3). \n",
    "- **instance_count e instance_type**: o tipo e o número de instâncias de computação de ML do o Amazon EC2 a serem usadas para treinamento de modelo. Neste laboratório, você vai usar uma única instância ml.m5.xlarge, que tem 4 CPUs, 16 GB de memória, armazenamento Amazon Elastic Block Store (Amazon EBS) e alto desempenho de rede.\n",
    "- **output_path**: o caminho para o bucket do S3 onde o SageMaker armazena o artefato do modelo e os resultados do treinamento.\n",
    "- **sagemaker_session**: o objeto de sessão que gerencia interações com operações de API do SageMaker e outros serviços da AWS usados pelo trabalho de treinamento.\n",
    "- **regras**: uma lista de regras integradas do Amazon SageMaker Debugger. Neste exemplo, a regra create_xgboost_report() cria um relatório XGBoost que fornece informações sobre o progresso e os resultados do treinamento."
   ]
  },
  {
   "cell_type": "code",
   "execution_count": null,
   "metadata": {},
   "outputs": [],
   "source": [
    "xgb_model = sagemaker.estimator.Estimator(\n",
    "    image_uri = container,\n",
    "    role = role, \n",
    "    instance_count = 1, \n",
    "    instance_type ='ml.m5.xlarge',\n",
    "    output_path = output_path,\n",
    "    sagemaker_session = sagemaker_session,\n",
    "    rules=[\n",
    "        Rule.sagemaker(rule_configs.create_xgboost_report())\n",
    "    ]\n",
    ")"
   ]
  },
  {
   "attachments": {},
   "cell_type": "markdown",
   "metadata": {},
   "source": [
    "### Tarefa 1.3: Configurar hiperparâmetros\n",
    "\n",
    "Os hiperparâmetros controlam diretamente a estrutura, a função e o desempenho do modelo. O ajuste de hiperparâmetros permite que os data scientists ajustem o desempenho do modelo para obter resultados ideais. Esse processo é uma parte essencial do machine learning, e a escolha de valores de hiperparâmetros apropriados é crucial para o sucesso.\n",
    "\n",
    "Você pode definir hiperparâmetros para o algoritmo XGBoost chamando o método *set_hyperparameters* do estimador.\n",
    "\n",
    "Consulte [XGBoost hyperparameters](https://docs.aws.amazon.com/sagemaker/latest/dg/xgboost_hyperparameters.html) (Hiperparâmetros do XGBoost) para saber mais sobre os hiperparâmetros do XGBoost."
   ]
  },
  {
   "cell_type": "code",
   "execution_count": null,
   "metadata": {},
   "outputs": [],
   "source": [
    "xgb_model.set_hyperparameters(\n",
    "    max_depth = 5,\n",
    "    eta = 0.2,\n",
    "    gamma = 4,\n",
    "    min_child_weight = 6,\n",
    "    subsample = 0.7,\n",
    "    verbosity = 0,\n",
    "    objective = 'binary:logistic',\n",
    "    num_round = 800\n",
    ")"
   ]
  },
  {
   "attachments": {},
   "cell_type": "markdown",
   "metadata": {},
   "source": [
    "### Tarefa 1.4: Executar um trabalho de treinamento do SageMaker\n",
    "\n",
    "Agora que configurou o objeto estimador e os hiperparâmetros, você pode começar a treinar o modelo. O método fit() inicia o script de treinamento. Para iniciar o treinamento do modelo, chame o método fit() do estimador com os conjuntos de dados de treinamento e de validação. Se você definir “wait=True”, o método fit() vai exibir logs de progresso e aguardar até que o treinamento seja concluído."
   ]
  },
  {
   "cell_type": "code",
   "execution_count": null,
   "metadata": {},
   "outputs": [],
   "source": [
    "xgb_model.fit(\n",
    "    {\n",
    "        \"train\": train_input,\n",
    "        \"validation\": validation_input\n",
    "    },\n",
    "    wait=True\n",
    ")"
   ]
  },
  {
   "cell_type": "markdown",
   "metadata": {},
   "source": [
    "<i aria-hidden=\"true\" class=\"fas fa-clipboard-check\" style=\"color:#18ab4b\"></i> **Saída esperada:** caso a configuração do estimador e do hiperparâmetro esteja correta e o trabalho de treinamento tenha sido iniciado corretamente, você deve ver a seguinte saída:\n",
    "\n",
    "```plain\n",
    "************************\n",
    "**** EXEMPLO DE SAÍDA ****\n",
    "************************\n",
    "\n",
    "INFO:sagemaker:Criando training-job com o nome: sagemaker-xgboost-2023-08-09-20-09-56-628\n",
    "2023-08-09 20:09:56 Iniciando: iniciando o trabalho de treinamento...\n",
    "2023-08-09 20:10:19 Iniciando: preparando as instâncias para trainingCreateXgboostReport: InProgress\n",
    "......\n",
    "2023-08-09 20:11:21 Baixando: baixando dados de entrada...\n",
    "2023-08-09 20:11:55 Treinamento: baixando a imagem do treinamento...\n",
    "2023-08-09 20:12:20 Treinamento: download da imagem de treinamento concluído. Treinamento em andamento...\n",
    "2023-08-09 20:12:56 Upload: fazendo upload do modelo de treinamento gerado...\n",
    "2023-08-09 20:13:20 Concluído: trabalho de treinamento concluído\n",
    "..Segundos de treinamento: 107\n",
    "Segundos faturáveis: 107\n",
    "```\n",
    "\n",
    "<i aria-hidden=\"true\" class=\"fas fa-sticky-note\" style=\"color:#ff6633\"></i> **Observação:** o treinamento leva de três a quatro minutos para ser executado."
   ]
  },
  {
   "cell_type": "markdown",
   "metadata": {},
   "source": [
    "### Tarefa 1.5: Avaliar um modelo\n",
    "\n",
    "Após a conclusão do trabalho de treinamento, você pode baixar um relatório de treinamento XGBoost gerado pelo SageMaker Debugger. O relatório de treinamento XGBoost oferece informações sobre o progresso e os resultados do treinamento, como a função de perda em relação à iteração, a importância do recurso, a matriz de confusão, as curvas de acurácia e outros resultados estatísticos do treinamento. \n",
    "\n",
    "Para trabalhos de treinamento do SageMaker XGBoost, use a regra “CreateXgboostReport” do Debugger para obter um relatório de treinamento abrangente sobre o progresso e os resultados do treinamento.\n",
    "\n",
    "<i aria-hidden=\"true\" class=\"fas fa-sticky-note\" style=\"color:#ff6633\"></i> **Observação:** o relatório leva de cinco a dez minutos para ser finalizado. No bloco de código a seguir, é verificado se o relatório final está presente. Se ainda não existir um relatório, o sistema vai esperar 30 segundos, copiar todos os novos arquivos da pasta de saída para o caminho local e verificar novamente até que o relatório fique disponível."
   ]
  },
  {
   "cell_type": "code",
   "execution_count": null,
   "metadata": {
    "tags": []
   },
   "outputs": [],
   "source": [
    "%%capture\n",
    "the_file = Path(\"CreateXgboostReport/xgboost_report.ipynb\")\n",
    "notexists = True\n",
    "while notexists:\n",
    "    if the_file.is_file():\n",
    "        notexists = False\n",
    "    else:\n",
    "        time.sleep(30)\n",
    "        rule_output_path = xgb_model.output_path + \"/\" + xgb_model.latest_training_job.job_name + \"/rule-output\"\n",
    "        ! aws s3 ls {rule_output_path} --recursive\n",
    "        ! aws s3 cp {rule_output_path} ./ --recursive"
   ]
  },
  {
   "cell_type": "markdown",
   "metadata": {},
   "source": [
    "O link na saída da próxima célula abre uma nova guia no SageMaker Studio. Para seguir essas orientações, escolha uma das seguintes opções:\n",
    "- **Opção 1:** visualizar as abas lado a lado. Para criar uma visualização de tela dividida por meio da janela principal do SageMaker Studio, arraste a aba **lab_2.ipynb** para a lateral ou selecione a aba **lab_2.ipynb** e, na barra de ferramentas, escolha **Arquivo** e **New View for Notebook** (Nova visualização do bloco de anotações). Agora, as orientações ficam visíveis enquanto você explora o relatório XGBoost.\n",
    "- **Opção 2:** alternar entre as abas do SageMaker Studio para seguir essas instruções. Ao terminar de explorar o relatório XGBoost, volte para o bloco de anotações selecionando a aba **lab_2.ipynb**."
   ]
  },
  {
   "cell_type": "code",
   "execution_count": null,
   "metadata": {},
   "outputs": [],
   "source": [
    "display(\"Click link below to view the XGBoost Training notebook\", FileLink(\"CreateXgboostReport/xgboost_report.ipynb\"))"
   ]
  },
  {
   "cell_type": "markdown",
   "metadata": {},
   "source": [
    "<i aria-hidden=\"true\" class=\"fas fa-sticky-note\" style=\"color:#ff6633\"></i> **Observação:** depois da execução deste código, você deve ver a seguinte saída: **“Click link below to view the XGBoost Training notebook”** (Clique no link abaixo para visualizar o bloco de anotações do treinamento XGBoost) <span style=\"ssb_sm_blue\">CreateXgboostReport/xgboost_report.ipynb</span>**\n",
    "\n",
    "Para abrir o bloco de anotações em uma nova guia, selecione o link. Quando o bloco de anotações abrir, na janela **Set up notebook environment** (Configurar o ambiente do bloco de anotações), configure o seguinte:\n",
    "\n",
    "- Para **Imagem**, selecione **Data Science 3.0**.\n",
    "- Para **Kernel**, selecione **Python 3**.\n",
    "- Escolha **Selecionar**.\n",
    "\n",
    "Na parte superior da guia **xgboost_report.ipynb**, selecione o botão <i aria-hidden=\"true\" class=\"fas fa-forward\"></i> **Restart Kernel and Run All Cells** (Reiniciar Kernel e executar todas as células). Quando for perguntado **Restart Kernel?** (Reiniciar Kernel?), selecione **Restart** (Reiniciar)\n",
    "\n",
    "<i aria-hidden=\"true\" class=\"fas fa-sticky-note\" style=\"color:#ff6633\"></i> **Observação:** leva aproximadamente de dois a três minutos para executar todas as células.\n",
    "\n",
    "Após todas as células serem executadas, role para baixo até chegar a **Confusion Matrix** (Matriz de confusão). A matriz de confusão ilustra em uma tabela o número de previsões corretas e incorretas para cada classe, comparando a classe prevista de uma observação e sua classe verdadeira. Ao acessar o diagrama, você vê valores **verdadeiro positivo (TP)**, **verdadeiro negativo (TN)**, **falso positivo (FP)** e **falso negativo (FN)**.\n",
    "\n",
    "- **Verdadeiro positivo:** se a classificação real for positiva e a classificação prevista for positiva (1,1), isso é chamado de resultado **verdadeiro positivo (TP)**, porque a amostra positiva foi identificada corretamente pelo classificador. \n",
    "- **Falso negativo:** se a classificação real for positiva e a classificação prevista for negativa (1,0), isso é chamado de resultado de **falso negativo (FN)**, porque a amostra positiva é identificada incorretamente pelo classificador como sendo negativa. \n",
    "- **Falso positivo:** se a classificação real for negativa e a classificação prevista for positiva (0,1), isso é chamado de resultado de **falso positivo (FP)**, porque a amostra negativa é identificada incorretamente pelo classificador como sendo positiva. \n",
    "- **Verdadeiro negativo**: se a classificação real for negativa e a classificação prevista for negativa (0,0), isso é chamado de resultado **verdadeiro negativo (TN)**, porque a amostra negativa é identificada corretamente pelo classificador.\n",
    "\n",
    "Em seguida, role para baixo até **Avaliação da matriz de confusão** e dê uma olhada mais de perto no **Relatório de classificação** para entender o resumo da precisão, o recall e a pontuação F1 de cada classe.\n",
    "\n",
    "- **Precisão**: mede a fração de positivos reais que foram previstos como positivos entre todos os previstos como positivos. O intervalo é de 0 a 1 e um valor maior indica melhor acurácia. A precisão expressa a proporção de pontos de dados que seu modelo diz serem relevantes e que eram realmente relevantes. A precisão é uma boa medida a considerar, especialmente quando os custos de PF são elevados.\n",
    "- **Recall/sensibilidade/taxa de verdadeiro positivo (TPR)**: mede a fração de positivos reais que foram previstos como positivos. O intervalo também é de 0 a 1, e um valor maior indica uma melhor acurácia preditiva. Isso também é conhecido como Recall/sensibilidade. Essa medida expressa a capacidade de encontrar todas as instâncias relevantes em um conjunto de dados.\n",
    "- **Pontuação F1**: demonstra sua métrica-alvo, que é a média harmônica de precisão e recall. A F1 leva em consideração os FP e os FN para dar o mesmo peso à precisão e ao recall.\n",
    "\n",
    "Você está tentando prever se as pessoas ganham menos de USD 50 mil para poder promover serviços de assistência governamental a cidadãos qualificados. Nesse caso, a pontuação F1 é uma boa medida a ser usada, porque leva em consideração os FP (pessoas que ganham mais de USD 50 mil e que foram rotuladas como ganhando menos de USD 50 mil) e os FN (pessoas que ganham menos de USD 50 mil e que foram rotuladas como ganhando mais de USD 50 mil) em conta. Você quer ter certeza de que sua precisão e recall são altos, e a pontuação F1 leva ambas as medidas em consideração. No próximo laboratório, você vai otimizar o modelo ajustando os hiperparâmetros para ver se consegue uma pontuação F1 mais alta.\n",
    "\n",
    "Quais são a **Precisão**, **Recall**, **Pontuação F1** e **Acurácia geral** para este modelo?\n",
    "\n",
    "<i aria-hidden=\"true\" class=\"far fa-comment\" style=\"color:#008296\"></i> **Considere:** verifique os outros gráficos que estão inclusos no bloco de anotações. Que tipo de informação você vê? O que pode ser útil para você enquanto treina seus próprios modelos?"
   ]
  },
  {
   "attachments": {},
   "cell_type": "markdown",
   "metadata": {},
   "source": [
    "### Tarefa 1.6: Visualizar os artefatos do modelo\n",
    "\n",
    "O SageMaker armazena o artefato do modelo em seu bucket do S3. Para encontrar a localização do artefato do modelo, siga estas etapas:\n",
    "\n",
    "1. Escolha o ícone do bucket na barra de menu à esquerda.\n",
    "\n",
    "1. Na lista de buckets, abra o bucket do Amazon S3 que contém **labdatabucket** em seu nome.\n",
    "\n",
    "1. Navegue até a subpasta **scripts/data/output/ sagemaker-xgboost-.../output**. \n",
    "\n",
    "Você vai ver o artefato do modelo **model.tar.gz** na subpasta. Esse é o modelo que você criou com seu SageMaker Estimator chamando o método fit().\n",
    "\n",
    "Você visualizou os artefatos do modelo, incluindo o arquivo model.tar.gz. "
   ]
  },
  {
   "attachments": {},
   "cell_type": "markdown",
   "metadata": {},
   "source": [
    "### Limpeza\n",
    "\n",
    "Você concluiu este caderno. Passe para a próxima parte do laboratório da seguinte forma:\n",
    "\n",
    "– Feche este arquivo do caderno.\n",
    "– Retorne à sessão de laboratório e prossiga para a tarefa 2."
   ]
  }
 ],
 "metadata": {
  "availableInstances": [
   {
    "_defaultOrder": 0,
    "_isFastLaunch": true,
    "category": "General purpose",
    "gpuNum": 0,
    "hideHardwareSpecs": false,
    "memoryGiB": 4,
    "name": "ml.t3.medium",
    "vcpuNum": 2
   },
   {
    "_defaultOrder": 1,
    "_isFastLaunch": false,
    "category": "General purpose",
    "gpuNum": 0,
    "hideHardwareSpecs": false,
    "memoryGiB": 8,
    "name": "ml.t3.large",
    "vcpuNum": 2
   },
   {
    "_defaultOrder": 2,
    "_isFastLaunch": false,
    "category": "General purpose",
    "gpuNum": 0,
    "hideHardwareSpecs": false,
    "memoryGiB": 16,
    "name": "ml.t3.xlarge",
    "vcpuNum": 4
   },
   {
    "_defaultOrder": 3,
    "_isFastLaunch": false,
    "category": "General purpose",
    "gpuNum": 0,
    "hideHardwareSpecs": false,
    "memoryGiB": 32,
    "name": "ml.t3.2xlarge",
    "vcpuNum": 8
   },
   {
    "_defaultOrder": 4,
    "_isFastLaunch": true,
    "category": "General purpose",
    "gpuNum": 0,
    "hideHardwareSpecs": false,
    "memoryGiB": 8,
    "name": "ml.m5.large",
    "vcpuNum": 2
   },
   {
    "_defaultOrder": 5,
    "_isFastLaunch": false,
    "category": "General purpose",
    "gpuNum": 0,
    "hideHardwareSpecs": false,
    "memoryGiB": 16,
    "name": "ml.m5.xlarge",
    "vcpuNum": 4
   },
   {
    "_defaultOrder": 6,
    "_isFastLaunch": false,
    "category": "General purpose",
    "gpuNum": 0,
    "hideHardwareSpecs": false,
    "memoryGiB": 32,
    "name": "ml.m5.2xlarge",
    "vcpuNum": 8
   },
   {
    "_defaultOrder": 7,
    "_isFastLaunch": false,
    "category": "General purpose",
    "gpuNum": 0,
    "hideHardwareSpecs": false,
    "memoryGiB": 64,
    "name": "ml.m5.4xlarge",
    "vcpuNum": 16
   },
   {
    "_defaultOrder": 8,
    "_isFastLaunch": false,
    "category": "General purpose",
    "gpuNum": 0,
    "hideHardwareSpecs": false,
    "memoryGiB": 128,
    "name": "ml.m5.8xlarge",
    "vcpuNum": 32
   },
   {
    "_defaultOrder": 9,
    "_isFastLaunch": false,
    "category": "General purpose",
    "gpuNum": 0,
    "hideHardwareSpecs": false,
    "memoryGiB": 192,
    "name": "ml.m5.12xlarge",
    "vcpuNum": 48
   },
   {
    "_defaultOrder": 10,
    "_isFastLaunch": false,
    "category": "General purpose",
    "gpuNum": 0,
    "hideHardwareSpecs": false,
    "memoryGiB": 256,
    "name": "ml.m5.16xlarge",
    "vcpuNum": 64
   },
   {
    "_defaultOrder": 11,
    "_isFastLaunch": false,
    "category": "General purpose",
    "gpuNum": 0,
    "hideHardwareSpecs": false,
    "memoryGiB": 384,
    "name": "ml.m5.24xlarge",
    "vcpuNum": 96
   },
   {
    "_defaultOrder": 12,
    "_isFastLaunch": false,
    "category": "General purpose",
    "gpuNum": 0,
    "hideHardwareSpecs": false,
    "memoryGiB": 8,
    "name": "ml.m5d.large",
    "vcpuNum": 2
   },
   {
    "_defaultOrder": 13,
    "_isFastLaunch": false,
    "category": "General purpose",
    "gpuNum": 0,
    "hideHardwareSpecs": false,
    "memoryGiB": 16,
    "name": "ml.m5d.xlarge",
    "vcpuNum": 4
   },
   {
    "_defaultOrder": 14,
    "_isFastLaunch": false,
    "category": "General purpose",
    "gpuNum": 0,
    "hideHardwareSpecs": false,
    "memoryGiB": 32,
    "name": "ml.m5d.2xlarge",
    "vcpuNum": 8
   },
   {
    "_defaultOrder": 15,
    "_isFastLaunch": false,
    "category": "General purpose",
    "gpuNum": 0,
    "hideHardwareSpecs": false,
    "memoryGiB": 64,
    "name": "ml.m5d.4xlarge",
    "vcpuNum": 16
   },
   {
    "_defaultOrder": 16,
    "_isFastLaunch": false,
    "category": "General purpose",
    "gpuNum": 0,
    "hideHardwareSpecs": false,
    "memoryGiB": 128,
    "name": "ml.m5d.8xlarge",
    "vcpuNum": 32
   },
   {
    "_defaultOrder": 17,
    "_isFastLaunch": false,
    "category": "General purpose",
    "gpuNum": 0,
    "hideHardwareSpecs": false,
    "memoryGiB": 192,
    "name": "ml.m5d.12xlarge",
    "vcpuNum": 48
   },
   {
    "_defaultOrder": 18,
    "_isFastLaunch": false,
    "category": "General purpose",
    "gpuNum": 0,
    "hideHardwareSpecs": false,
    "memoryGiB": 256,
    "name": "ml.m5d.16xlarge",
    "vcpuNum": 64
   },
   {
    "_defaultOrder": 19,
    "_isFastLaunch": false,
    "category": "General purpose",
    "gpuNum": 0,
    "hideHardwareSpecs": false,
    "memoryGiB": 384,
    "name": "ml.m5d.24xlarge",
    "vcpuNum": 96
   },
   {
    "_defaultOrder": 20,
    "_isFastLaunch": false,
    "category": "General purpose",
    "gpuNum": 0,
    "hideHardwareSpecs": true,
    "memoryGiB": 0,
    "name": "ml.geospatial.interactive",
    "supportedImageNames": [
     "sagemaker-geospatial-v1-0"
    ],
    "vcpuNum": 0
   },
   {
    "_defaultOrder": 21,
    "_isFastLaunch": true,
    "category": "Compute optimized",
    "gpuNum": 0,
    "hideHardwareSpecs": false,
    "memoryGiB": 4,
    "name": "ml.c5.large",
    "vcpuNum": 2
   },
   {
    "_defaultOrder": 22,
    "_isFastLaunch": false,
    "category": "Compute optimized",
    "gpuNum": 0,
    "hideHardwareSpecs": false,
    "memoryGiB": 8,
    "name": "ml.c5.xlarge",
    "vcpuNum": 4
   },
   {
    "_defaultOrder": 23,
    "_isFastLaunch": false,
    "category": "Compute optimized",
    "gpuNum": 0,
    "hideHardwareSpecs": false,
    "memoryGiB": 16,
    "name": "ml.c5.2xlarge",
    "vcpuNum": 8
   },
   {
    "_defaultOrder": 24,
    "_isFastLaunch": false,
    "category": "Compute optimized",
    "gpuNum": 0,
    "hideHardwareSpecs": false,
    "memoryGiB": 32,
    "name": "ml.c5.4xlarge",
    "vcpuNum": 16
   },
   {
    "_defaultOrder": 25,
    "_isFastLaunch": false,
    "category": "Compute optimized",
    "gpuNum": 0,
    "hideHardwareSpecs": false,
    "memoryGiB": 72,
    "name": "ml.c5.9xlarge",
    "vcpuNum": 36
   },
   {
    "_defaultOrder": 26,
    "_isFastLaunch": false,
    "category": "Compute optimized",
    "gpuNum": 0,
    "hideHardwareSpecs": false,
    "memoryGiB": 96,
    "name": "ml.c5.12xlarge",
    "vcpuNum": 48
   },
   {
    "_defaultOrder": 27,
    "_isFastLaunch": false,
    "category": "Compute optimized",
    "gpuNum": 0,
    "hideHardwareSpecs": false,
    "memoryGiB": 144,
    "name": "ml.c5.18xlarge",
    "vcpuNum": 72
   },
   {
    "_defaultOrder": 28,
    "_isFastLaunch": false,
    "category": "Compute optimized",
    "gpuNum": 0,
    "hideHardwareSpecs": false,
    "memoryGiB": 192,
    "name": "ml.c5.24xlarge",
    "vcpuNum": 96
   },
   {
    "_defaultOrder": 29,
    "_isFastLaunch": true,
    "category": "Accelerated computing",
    "gpuNum": 1,
    "hideHardwareSpecs": false,
    "memoryGiB": 16,
    "name": "ml.g4dn.xlarge",
    "vcpuNum": 4
   },
   {
    "_defaultOrder": 30,
    "_isFastLaunch": false,
    "category": "Accelerated computing",
    "gpuNum": 1,
    "hideHardwareSpecs": false,
    "memoryGiB": 32,
    "name": "ml.g4dn.2xlarge",
    "vcpuNum": 8
   },
   {
    "_defaultOrder": 31,
    "_isFastLaunch": false,
    "category": "Accelerated computing",
    "gpuNum": 1,
    "hideHardwareSpecs": false,
    "memoryGiB": 64,
    "name": "ml.g4dn.4xlarge",
    "vcpuNum": 16
   },
   {
    "_defaultOrder": 32,
    "_isFastLaunch": false,
    "category": "Accelerated computing",
    "gpuNum": 1,
    "hideHardwareSpecs": false,
    "memoryGiB": 128,
    "name": "ml.g4dn.8xlarge",
    "vcpuNum": 32
   },
   {
    "_defaultOrder": 33,
    "_isFastLaunch": false,
    "category": "Accelerated computing",
    "gpuNum": 4,
    "hideHardwareSpecs": false,
    "memoryGiB": 192,
    "name": "ml.g4dn.12xlarge",
    "vcpuNum": 48
   },
   {
    "_defaultOrder": 34,
    "_isFastLaunch": false,
    "category": "Accelerated computing",
    "gpuNum": 1,
    "hideHardwareSpecs": false,
    "memoryGiB": 256,
    "name": "ml.g4dn.16xlarge",
    "vcpuNum": 64
   },
   {
    "_defaultOrder": 35,
    "_isFastLaunch": false,
    "category": "Accelerated computing",
    "gpuNum": 1,
    "hideHardwareSpecs": false,
    "memoryGiB": 61,
    "name": "ml.p3.2xlarge",
    "vcpuNum": 8
   },
   {
    "_defaultOrder": 36,
    "_isFastLaunch": false,
    "category": "Accelerated computing",
    "gpuNum": 4,
    "hideHardwareSpecs": false,
    "memoryGiB": 244,
    "name": "ml.p3.8xlarge",
    "vcpuNum": 32
   },
   {
    "_defaultOrder": 37,
    "_isFastLaunch": false,
    "category": "Accelerated computing",
    "gpuNum": 8,
    "hideHardwareSpecs": false,
    "memoryGiB": 488,
    "name": "ml.p3.16xlarge",
    "vcpuNum": 64
   },
   {
    "_defaultOrder": 38,
    "_isFastLaunch": false,
    "category": "Accelerated computing",
    "gpuNum": 8,
    "hideHardwareSpecs": false,
    "memoryGiB": 768,
    "name": "ml.p3dn.24xlarge",
    "vcpuNum": 96
   },
   {
    "_defaultOrder": 39,
    "_isFastLaunch": false,
    "category": "Memory Optimized",
    "gpuNum": 0,
    "hideHardwareSpecs": false,
    "memoryGiB": 16,
    "name": "ml.r5.large",
    "vcpuNum": 2
   },
   {
    "_defaultOrder": 40,
    "_isFastLaunch": false,
    "category": "Memory Optimized",
    "gpuNum": 0,
    "hideHardwareSpecs": false,
    "memoryGiB": 32,
    "name": "ml.r5.xlarge",
    "vcpuNum": 4
   },
   {
    "_defaultOrder": 41,
    "_isFastLaunch": false,
    "category": "Memory Optimized",
    "gpuNum": 0,
    "hideHardwareSpecs": false,
    "memoryGiB": 64,
    "name": "ml.r5.2xlarge",
    "vcpuNum": 8
   },
   {
    "_defaultOrder": 42,
    "_isFastLaunch": false,
    "category": "Memory Optimized",
    "gpuNum": 0,
    "hideHardwareSpecs": false,
    "memoryGiB": 128,
    "name": "ml.r5.4xlarge",
    "vcpuNum": 16
   },
   {
    "_defaultOrder": 43,
    "_isFastLaunch": false,
    "category": "Memory Optimized",
    "gpuNum": 0,
    "hideHardwareSpecs": false,
    "memoryGiB": 256,
    "name": "ml.r5.8xlarge",
    "vcpuNum": 32
   },
   {
    "_defaultOrder": 44,
    "_isFastLaunch": false,
    "category": "Memory Optimized",
    "gpuNum": 0,
    "hideHardwareSpecs": false,
    "memoryGiB": 384,
    "name": "ml.r5.12xlarge",
    "vcpuNum": 48
   },
   {
    "_defaultOrder": 45,
    "_isFastLaunch": false,
    "category": "Memory Optimized",
    "gpuNum": 0,
    "hideHardwareSpecs": false,
    "memoryGiB": 512,
    "name": "ml.r5.16xlarge",
    "vcpuNum": 64
   },
   {
    "_defaultOrder": 46,
    "_isFastLaunch": false,
    "category": "Memory Optimized",
    "gpuNum": 0,
    "hideHardwareSpecs": false,
    "memoryGiB": 768,
    "name": "ml.r5.24xlarge",
    "vcpuNum": 96
   },
   {
    "_defaultOrder": 47,
    "_isFastLaunch": false,
    "category": "Accelerated computing",
    "gpuNum": 1,
    "hideHardwareSpecs": false,
    "memoryGiB": 16,
    "name": "ml.g5.xlarge",
    "vcpuNum": 4
   },
   {
    "_defaultOrder": 48,
    "_isFastLaunch": false,
    "category": "Accelerated computing",
    "gpuNum": 1,
    "hideHardwareSpecs": false,
    "memoryGiB": 32,
    "name": "ml.g5.2xlarge",
    "vcpuNum": 8
   },
   {
    "_defaultOrder": 49,
    "_isFastLaunch": false,
    "category": "Accelerated computing",
    "gpuNum": 1,
    "hideHardwareSpecs": false,
    "memoryGiB": 64,
    "name": "ml.g5.4xlarge",
    "vcpuNum": 16
   },
   {
    "_defaultOrder": 50,
    "_isFastLaunch": false,
    "category": "Accelerated computing",
    "gpuNum": 1,
    "hideHardwareSpecs": false,
    "memoryGiB": 128,
    "name": "ml.g5.8xlarge",
    "vcpuNum": 32
   },
   {
    "_defaultOrder": 51,
    "_isFastLaunch": false,
    "category": "Accelerated computing",
    "gpuNum": 1,
    "hideHardwareSpecs": false,
    "memoryGiB": 256,
    "name": "ml.g5.16xlarge",
    "vcpuNum": 64
   },
   {
    "_defaultOrder": 52,
    "_isFastLaunch": false,
    "category": "Accelerated computing",
    "gpuNum": 4,
    "hideHardwareSpecs": false,
    "memoryGiB": 192,
    "name": "ml.g5.12xlarge",
    "vcpuNum": 48
   },
   {
    "_defaultOrder": 53,
    "_isFastLaunch": false,
    "category": "Accelerated computing",
    "gpuNum": 4,
    "hideHardwareSpecs": false,
    "memoryGiB": 384,
    "name": "ml.g5.24xlarge",
    "vcpuNum": 96
   },
   {
    "_defaultOrder": 54,
    "_isFastLaunch": false,
    "category": "Accelerated computing",
    "gpuNum": 8,
    "hideHardwareSpecs": false,
    "memoryGiB": 768,
    "name": "ml.g5.48xlarge",
    "vcpuNum": 192
   },
   {
    "_defaultOrder": 55,
    "_isFastLaunch": false,
    "category": "Accelerated computing",
    "gpuNum": 8,
    "hideHardwareSpecs": false,
    "memoryGiB": 1152,
    "name": "ml.p4d.24xlarge",
    "vcpuNum": 96
   },
   {
    "_defaultOrder": 56,
    "_isFastLaunch": false,
    "category": "Accelerated computing",
    "gpuNum": 8,
    "hideHardwareSpecs": false,
    "memoryGiB": 1152,
    "name": "ml.p4de.24xlarge",
    "vcpuNum": 96
   }
  ],
  "instance_type": "ml.t3.xlarge",
  "kernelspec": {
   "display_name": "Python 3 (Data Science 3.0)",
   "language": "python",
   "name": "python3__SAGEMAKER_INTERNAL__arn:aws:sagemaker:us-west-2:236514542706:image/sagemaker-data-science-310-v1"
  },
  "language_info": {
   "codemirror_mode": {
    "name": "ipython",
    "version": 3
   },
   "file_extension": ".py",
   "mimetype": "text/x-python",
   "name": "python",
   "nbconvert_exporter": "python",
   "pygments_lexer": "ipython3",
   "version": "3.10.6"
  },
  "vscode": {
   "interpreter": {
    "hash": "741de909edea0d5644898c592544ed98bede62b404d20772e5c4abc3c2f12566"
   }
  }
 },
 "nbformat": 4,
 "nbformat_minor": 4
}
