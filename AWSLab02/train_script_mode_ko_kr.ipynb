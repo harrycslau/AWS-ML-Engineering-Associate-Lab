{
 "cells": [
  {
   "cell_type": "markdown",
   "id": "7dff30b0-d258-4a4c-8bd0-bda030d231dc",
   "metadata": {},
   "source": [
    "## 태스크 2: 모델 훈련\n",
    "\n",
    "이전 태스크에서는 기본 제공 SageMaker XGBoost 알고리즘을 사용했습니다. 이 XGBoost 기본 제공 알고리즘 모드는 사용자의 XGBoost 훈련 스크립트를 통합하지 않으며 입력 데이터세트에서 직접 실행됩니다. \n",
    "\n",
    "이 태스크에서는 프레임워크로 XGBoost를 사용합니다. SageMaker 내에서 XGBoost를 프레임워크로 실행하면 자신만의 훈련 스크립트를 사용자 지정할 수 있으므로 유연성이 향상되고 K-폴드 교차 검증과 같은 고급 시나리오에 액세스할 수 있습니다. \n",
    "\n",
    "훈련 스크립트를 사용하여 훈련 작업을 실행하는 것 외에도 하이퍼파라미터 튜닝 작업을 실행하여 훈련을 최적화합니다. 하이퍼파라미터는 모델 훈련 중 학습 프로세스에 영향을 주는 상위 파라미터입니다. 모델의 예측 정확도를 최대한 높이려는 경우 하이퍼파라미터 구성을 최적화하거나 하이퍼파라미터 범위를 설정할 수 있습니다. 최적 구성을 찾는 프로세스가 하이퍼파라미터 튜닝입니다. \n"
   ]
  },
  {
   "cell_type": "markdown",
   "id": "4af69f54-c1b6-4250-ac01-5aa133c9c3e0",
   "metadata": {
    "tags": []
   },
   "source": [
    "### 태스크 2.1: 환경 설정\n",
    "\n",
    "모델 훈련을 시작하기 전에 필요한 종속 항목을 모두 설치하십시오.\n"
   ]
  },
  {
   "cell_type": "code",
   "execution_count": null,
   "id": "2cc8e412-d9d2-4d56-890a-ae909e682365",
   "metadata": {},
   "outputs": [],
   "source": [
    "import pandas as pd\n",
    "import boto3\n",
    "import sagemaker\n",
    "import json\n",
    "import joblib\n",
    "from sagemaker.xgboost.estimator import XGBoost\n",
    "from sagemaker.tuner import (\n",
    "    IntegerParameter,\n",
    "    ContinuousParameter,\n",
    "    HyperparameterTuner\n",
    ")\n",
    "from sagemaker.inputs import TrainingInput\n",
    "from sagemaker.image_uris import retrieve\n",
    "from sagemaker.serializers import CSVSerializer\n",
    "from sagemaker.deserializers import CSVDeserializer\n",
    "\n",
    "# Setting SageMaker variables\n",
    "sess = sagemaker.Session()\n",
    "region = sess.boto_region_name\n",
    "s3_client = boto3.client(\"s3\", region_name=region)\n",
    "sagemaker_role = sagemaker.get_execution_role()\n",
    "sagemaker_client = boto3.client(\"sagemaker\")"
   ]
  },
  {
   "cell_type": "markdown",
   "id": "8c24b068-d52e-4a51-8ddb-7f5739b96e4f",
   "metadata": {},
   "source": [
    " 다음으로는 이전 태스크에서와 마찬가지로 훈련 작업에서 입력으로 사용하는 훈련 및 검증 경로를 구성합니다."
   ]
  },
  {
   "cell_type": "code",
   "execution_count": null,
   "id": "069fe5ec-7451-4eac-a628-ad676a3128d6",
   "metadata": {},
   "outputs": [],
   "source": [
    "# define the bucket and prefix\n",
    "#read_bucket = \"<LAB_BUCKET>\"\n",
    "s3 = boto3.resource('s3')\n",
    "for buckets in s3.buckets.all():\n",
    "    if 'labdatabucket' in buckets.name:\n",
    "        read_bucket = buckets.name\n",
    "#read_bucket = \"labdatabucket-us-west-2-110972467\"\n",
    "read_prefix = \"scripts/data\" \n",
    "\n",
    "# Setting S3 location for read and write operations\n",
    "train_data_key = f\"{read_prefix}/train/adult_data_processed_train_wheaders.csv\"\n",
    "test_data_key = f\"{read_prefix}/test/adult_data_processed_test_wheaders.csv\"\n",
    "validation_data_key = f\"{read_prefix}/validation/adult_data_processed_validation_wheaders.csv\"\n",
    "\n",
    "write_bucket = read_bucket\n",
    "write_prefix = \"script-mode/data\"\n",
    "\n",
    "model_key = f\"{write_prefix}/model\"\n",
    "output_key = f\"{write_prefix}/output\"\n",
    "\n",
    "train_data_uri = f\"s3://{read_bucket}/{train_data_key}\"\n",
    "validation_data_uri = f\"s3://{read_bucket}/{validation_data_key}\"\n",
    "test_data_uri = f\"s3://{read_bucket}/{test_data_key}\"\n",
    "model_uri = f\"s3://{write_bucket}/{model_key}\"\n",
    "output_uri = f\"s3://{write_bucket}/{output_key}\"\n",
    "estimator_output_uri = f\"s3://{write_bucket}/{write_prefix}/training_jobs\"\n",
    "bias_report_output_uri = f\"s3://{write_bucket}/{write_prefix}/clarify-output/bias\"\n",
    "explainability_report_output_uri = f\"s3://{write_bucket}/{write_prefix}/clarify-output/explainability\""
   ]
  },
  {
   "cell_type": "markdown",
   "id": "b9bc3182-02a1-4004-a22a-4d7b7d4a5f1b",
   "metadata": {},
   "source": [
    "### 태스크 2.2: 추정기 객체 구성"
   ]
  },
  {
   "cell_type": "markdown",
   "id": "2767df88-aeff-47a3-9417-29b123c442ea",
   "metadata": {},
   "source": [
    "튜닝 작업 구성 "
   ]
  },
  {
   "cell_type": "code",
   "execution_count": null,
   "id": "56bf2c15-121b-42d6-9ec0-5c26d8787f4e",
   "metadata": {},
   "outputs": [],
   "source": [
    "training_job_name_prefix = \"xgbtrain\"\n",
    "tuning_job_name_prefix = \"xgbtune\" \n",
    "xgb_model_name = \"xgb-script-mode-model\"\n",
    "train_instance_count = 1\n",
    "train_instance_type = \"ml.m5.xlarge\""
   ]
  },
  {
   "cell_type": "markdown",
   "id": "288e4dec-336d-4047-a342-b7a13de4c69c",
   "metadata": {},
   "source": [
    "정적 하이퍼파라미터, 하이퍼파라미터 범위 및 추정기 객체를 구성합니다. \n",
    "\n",
    "태스크 1에서와 달리 이 스크립트 모드 태스크에서는 훈련 작업용 사용자 지정 스크립트를 정의합니다. 아래에서 SageMaker 추정기를 정의할 때는 사용자 지정된 Python 스크립트를 진입점으로 사용합니다. 사용자 지정 xgboost_train.py 파일을 열어 보십시오.\n",
    "\n",
    "사용자 지정 xgboost_train.py 파일에는 교차 검증 기법 수행 섹션이 있습니다. 그런데 기본 제공 SageMaker XGBoost 훈련 알고리즘으로는 이 작업을 수행할 수 없습니다.\n",
    "\n",
    "그리고 다음 셀에서 정의한 하이퍼파라미터 범위는 첫 번째 태스크의 XGBoost 기본 제공 훈련에 사용했던 것과 같은 정적 하이퍼파라미터입니다. 단, 이번에는 튜너가 최적의 최종 목표 지표가 적용된 조합을 찾기 위해 이러한 하이퍼파라미터의 여러 값을 사용해 보도록 범위를 정의합니다. \n"
   ]
  },
  {
   "cell_type": "code",
   "execution_count": null,
   "id": "47e8f6f1-af75-4679-ade6-d9a7ba902b9b",
   "metadata": {},
   "outputs": [],
   "source": [
    "# Set static hyperparameters that will not be tuned\n",
    "static_hyperparams = {  \n",
    "                        \"eval_metric\" : \"auc\",\n",
    "                        \"objective\": \"binary:logistic\",\n",
    "                        \"num_round\": \"5\"\n",
    "                      }\n",
    "\n",
    "# hyperparameter ranges that will be tuned \n",
    "hyperparameter_ranges = {\n",
    "    \"max_depth\": IntegerParameter(6, 9),\n",
    "    \"eta\": ContinuousParameter(0.01, 0.03),\n",
    "    \"gamma\": ContinuousParameter(0.5, 0.9),\n",
    "    \"min_child_weight\": ContinuousParameter(0.5, 0.9),\n",
    "    \"subsample\": ContinuousParameter(0.2, 0.5)\n",
    "}\n",
    "\n",
    "# XGBoost Estimator \n",
    "xgb_estimator = XGBoost(\n",
    "                        entry_point=\"xgboost_train.py\",\n",
    "                        output_path=estimator_output_uri,\n",
    "                        code_location=estimator_output_uri,\n",
    "                        hyperparameters=static_hyperparams,\n",
    "                        role=sagemaker_role,\n",
    "                        instance_count=train_instance_count,\n",
    "                        instance_type=train_instance_type,\n",
    "                        framework_version=\"1.7-1\",\n",
    "                        base_job_name=training_job_name_prefix\n",
    "                    )"
   ]
  },
  {
   "cell_type": "markdown",
   "id": "47824fed-0c4a-4dd6-be70-d7144ee8ebbf",
   "metadata": {},
   "source": [
    "이제 앞서 정의한 하이퍼파라미터 범위와 XGBoost 추정기를 사용할 튜너 객체를 생성합니다. "
   ]
  },
  {
   "cell_type": "code",
   "execution_count": null,
   "id": "45e46cfc-1461-4783-a266-b9b081a38b13",
   "metadata": {},
   "outputs": [],
   "source": [
    "objective_metric_name = \"validation:auc\"\n",
    "\n",
    "# Setting up tuner object\n",
    "tuner_config_dict = {\n",
    "                     \"estimator\" : xgb_estimator,\n",
    "                     \"max_jobs\" : 6,\n",
    "                     \"max_parallel_jobs\" : 3,    \n",
    "                     \"objective_metric_name\" : objective_metric_name,\n",
    "                     \"hyperparameter_ranges\" : hyperparameter_ranges,\n",
    "                     \"base_tuning_job_name\" : tuning_job_name_prefix,\n",
    "                     \"strategy\" : \"Random\"\n",
    "                    }\n",
    "tuner = HyperparameterTuner(**tuner_config_dict)"
   ]
  },
  {
   "cell_type": "markdown",
   "id": "7dfcf635-d935-4d44-ac5a-b4aa37e01e72",
   "metadata": {},
   "source": [
    "튜닝 작업용 입력 채널 설정 및 튜너 작업 실행 "
   ]
  },
  {
   "cell_type": "code",
   "execution_count": null,
   "id": "dea1fc45-0a5e-4407-8d0e-82b4370b3bd3",
   "metadata": {},
   "outputs": [],
   "source": [
    "s3_input_train = TrainingInput(s3_data=\"s3://{}/{}\".format(read_bucket, train_data_key), content_type=\"csv\", s3_data_type=\"S3Prefix\")\n",
    "s3_input_validation = (TrainingInput(s3_data=\"s3://{}/{}\".format(read_bucket, validation_data_key), content_type=\"csv\", s3_data_type=\"S3Prefix\"))\n",
    "\n",
    "tuner.fit(inputs={\"train\": s3_input_train, \"validation\": s3_input_validation}, include_cls_metadata=False)\n",
    "tuner.wait()"
   ]
  },
  {
   "cell_type": "markdown",
   "id": "0960d6f7-c460-4778-881b-fec8915d7994",
   "metadata": {},
   "source": [
    "<i aria-hidden=\"true\" class=\"fas fa-clipboard-check\" style=\"color:#18ab4b\"></i> **Expected output:** 추정기 및 하이퍼파라미터 구성이 올바르고 하이퍼파라미터 튜닝 작업이 올바르게 완료된 경우 다음 출력이 표시됩니다.\n",
    "\n",
    "```plain\n",
    "************************\n",
    "**** 출력 예시 ****\n",
    "************************\n",
    "\n",
    "No finished training job found associated with this estimator. Please make sure this estimator is only used for building workflow config(이 추정기와 관련하여 완료된 훈련 작업이 없습니다. 이 추정기가 워크플로 구성 빌드에만 사용되는지 확인하십시오.)\n",
    "...................................!\n",
    "!\n",
    "```\n",
    "\n",
    "<i aria-hidden=\"true\" class=\"fas fa-sticky-note\" style=\"color:#ff6633\"></i> **Note:** 훈련을 실행하려면 약 3~4분이 소요됩니다.\n"
   ]
  },
  {
   "cell_type": "markdown",
   "id": "a5dac1da-3f2e-42dc-9a9e-a4020cb118bd",
   "metadata": {},
   "source": [
    "성능의 내림차순으로 튜닝 결과 요약을 실행합니다. 결과에서는 가장 높은 목표 값이 맨 위에 표시됩니다.  "
   ]
  },
  {
   "cell_type": "code",
   "execution_count": null,
   "id": "1bada1d1-17b6-4696-a321-9954df88cacb",
   "metadata": {},
   "outputs": [],
   "source": [
    "df_tuner = sagemaker.HyperparameterTuningJobAnalytics(tuner.latest_tuning_job.job_name).dataframe()\n",
    "df_tuner = df_tuner[df_tuner[\"FinalObjectiveValue\"]>-float('inf')].sort_values(\"FinalObjectiveValue\", ascending=False)\n",
    "df_tuner"
   ]
  },
  {
   "cell_type": "markdown",
   "id": "1a589fe8",
   "metadata": {},
   "source": [
    "### 정리\n",
    "\n",
    "이 노트북을 완료했습니다. 실습의 다음 부분으로 이동하려면 다음을 수행합니다.\n",
    "\n",
    "- 노트북 파일을 닫습니다.\n",
    "- 실습 세션으로 돌아가 실습을 마무리합니다."
   ]
  }
 ],
 "metadata": {
  "availableInstances": [
   {
    "_defaultOrder": 0,
    "_isFastLaunch": true,
    "category": "General purpose",
    "gpuNum": 0,
    "hideHardwareSpecs": false,
    "memoryGiB": 4,
    "name": "ml.t3.medium",
    "vcpuNum": 2
   },
   {
    "_defaultOrder": 1,
    "_isFastLaunch": false,
    "category": "General purpose",
    "gpuNum": 0,
    "hideHardwareSpecs": false,
    "memoryGiB": 8,
    "name": "ml.t3.large",
    "vcpuNum": 2
   },
   {
    "_defaultOrder": 2,
    "_isFastLaunch": false,
    "category": "General purpose",
    "gpuNum": 0,
    "hideHardwareSpecs": false,
    "memoryGiB": 16,
    "name": "ml.t3.xlarge",
    "vcpuNum": 4
   },
   {
    "_defaultOrder": 3,
    "_isFastLaunch": false,
    "category": "General purpose",
    "gpuNum": 0,
    "hideHardwareSpecs": false,
    "memoryGiB": 32,
    "name": "ml.t3.2xlarge",
    "vcpuNum": 8
   },
   {
    "_defaultOrder": 4,
    "_isFastLaunch": true,
    "category": "General purpose",
    "gpuNum": 0,
    "hideHardwareSpecs": false,
    "memoryGiB": 8,
    "name": "ml.m5.large",
    "vcpuNum": 2
   },
   {
    "_defaultOrder": 5,
    "_isFastLaunch": false,
    "category": "General purpose",
    "gpuNum": 0,
    "hideHardwareSpecs": false,
    "memoryGiB": 16,
    "name": "ml.m5.xlarge",
    "vcpuNum": 4
   },
   {
    "_defaultOrder": 6,
    "_isFastLaunch": false,
    "category": "General purpose",
    "gpuNum": 0,
    "hideHardwareSpecs": false,
    "memoryGiB": 32,
    "name": "ml.m5.2xlarge",
    "vcpuNum": 8
   },
   {
    "_defaultOrder": 7,
    "_isFastLaunch": false,
    "category": "General purpose",
    "gpuNum": 0,
    "hideHardwareSpecs": false,
    "memoryGiB": 64,
    "name": "ml.m5.4xlarge",
    "vcpuNum": 16
   },
   {
    "_defaultOrder": 8,
    "_isFastLaunch": false,
    "category": "General purpose",
    "gpuNum": 0,
    "hideHardwareSpecs": false,
    "memoryGiB": 128,
    "name": "ml.m5.8xlarge",
    "vcpuNum": 32
   },
   {
    "_defaultOrder": 9,
    "_isFastLaunch": false,
    "category": "General purpose",
    "gpuNum": 0,
    "hideHardwareSpecs": false,
    "memoryGiB": 192,
    "name": "ml.m5.12xlarge",
    "vcpuNum": 48
   },
   {
    "_defaultOrder": 10,
    "_isFastLaunch": false,
    "category": "General purpose",
    "gpuNum": 0,
    "hideHardwareSpecs": false,
    "memoryGiB": 256,
    "name": "ml.m5.16xlarge",
    "vcpuNum": 64
   },
   {
    "_defaultOrder": 11,
    "_isFastLaunch": false,
    "category": "General purpose",
    "gpuNum": 0,
    "hideHardwareSpecs": false,
    "memoryGiB": 384,
    "name": "ml.m5.24xlarge",
    "vcpuNum": 96
   },
   {
    "_defaultOrder": 12,
    "_isFastLaunch": false,
    "category": "General purpose",
    "gpuNum": 0,
    "hideHardwareSpecs": false,
    "memoryGiB": 8,
    "name": "ml.m5d.large",
    "vcpuNum": 2
   },
   {
    "_defaultOrder": 13,
    "_isFastLaunch": false,
    "category": "General purpose",
    "gpuNum": 0,
    "hideHardwareSpecs": false,
    "memoryGiB": 16,
    "name": "ml.m5d.xlarge",
    "vcpuNum": 4
   },
   {
    "_defaultOrder": 14,
    "_isFastLaunch": false,
    "category": "General purpose",
    "gpuNum": 0,
    "hideHardwareSpecs": false,
    "memoryGiB": 32,
    "name": "ml.m5d.2xlarge",
    "vcpuNum": 8
   },
   {
    "_defaultOrder": 15,
    "_isFastLaunch": false,
    "category": "General purpose",
    "gpuNum": 0,
    "hideHardwareSpecs": false,
    "memoryGiB": 64,
    "name": "ml.m5d.4xlarge",
    "vcpuNum": 16
   },
   {
    "_defaultOrder": 16,
    "_isFastLaunch": false,
    "category": "General purpose",
    "gpuNum": 0,
    "hideHardwareSpecs": false,
    "memoryGiB": 128,
    "name": "ml.m5d.8xlarge",
    "vcpuNum": 32
   },
   {
    "_defaultOrder": 17,
    "_isFastLaunch": false,
    "category": "General purpose",
    "gpuNum": 0,
    "hideHardwareSpecs": false,
    "memoryGiB": 192,
    "name": "ml.m5d.12xlarge",
    "vcpuNum": 48
   },
   {
    "_defaultOrder": 18,
    "_isFastLaunch": false,
    "category": "General purpose",
    "gpuNum": 0,
    "hideHardwareSpecs": false,
    "memoryGiB": 256,
    "name": "ml.m5d.16xlarge",
    "vcpuNum": 64
   },
   {
    "_defaultOrder": 19,
    "_isFastLaunch": false,
    "category": "General purpose",
    "gpuNum": 0,
    "hideHardwareSpecs": false,
    "memoryGiB": 384,
    "name": "ml.m5d.24xlarge",
    "vcpuNum": 96
   },
   {
    "_defaultOrder": 20,
    "_isFastLaunch": false,
    "category": "General purpose",
    "gpuNum": 0,
    "hideHardwareSpecs": true,
    "memoryGiB": 0,
    "name": "ml.geospatial.interactive",
    "supportedImageNames": [
     "sagemaker-geospatial-v1-0"
    ],
    "vcpuNum": 0
   },
   {
    "_defaultOrder": 21,
    "_isFastLaunch": true,
    "category": "Compute optimized",
    "gpuNum": 0,
    "hideHardwareSpecs": false,
    "memoryGiB": 4,
    "name": "ml.c5.large",
    "vcpuNum": 2
   },
   {
    "_defaultOrder": 22,
    "_isFastLaunch": false,
    "category": "Compute optimized",
    "gpuNum": 0,
    "hideHardwareSpecs": false,
    "memoryGiB": 8,
    "name": "ml.c5.xlarge",
    "vcpuNum": 4
   },
   {
    "_defaultOrder": 23,
    "_isFastLaunch": false,
    "category": "Compute optimized",
    "gpuNum": 0,
    "hideHardwareSpecs": false,
    "memoryGiB": 16,
    "name": "ml.c5.2xlarge",
    "vcpuNum": 8
   },
   {
    "_defaultOrder": 24,
    "_isFastLaunch": false,
    "category": "Compute optimized",
    "gpuNum": 0,
    "hideHardwareSpecs": false,
    "memoryGiB": 32,
    "name": "ml.c5.4xlarge",
    "vcpuNum": 16
   },
   {
    "_defaultOrder": 25,
    "_isFastLaunch": false,
    "category": "Compute optimized",
    "gpuNum": 0,
    "hideHardwareSpecs": false,
    "memoryGiB": 72,
    "name": "ml.c5.9xlarge",
    "vcpuNum": 36
   },
   {
    "_defaultOrder": 26,
    "_isFastLaunch": false,
    "category": "Compute optimized",
    "gpuNum": 0,
    "hideHardwareSpecs": false,
    "memoryGiB": 96,
    "name": "ml.c5.12xlarge",
    "vcpuNum": 48
   },
   {
    "_defaultOrder": 27,
    "_isFastLaunch": false,
    "category": "Compute optimized",
    "gpuNum": 0,
    "hideHardwareSpecs": false,
    "memoryGiB": 144,
    "name": "ml.c5.18xlarge",
    "vcpuNum": 72
   },
   {
    "_defaultOrder": 28,
    "_isFastLaunch": false,
    "category": "Compute optimized",
    "gpuNum": 0,
    "hideHardwareSpecs": false,
    "memoryGiB": 192,
    "name": "ml.c5.24xlarge",
    "vcpuNum": 96
   },
   {
    "_defaultOrder": 29,
    "_isFastLaunch": true,
    "category": "Accelerated computing",
    "gpuNum": 1,
    "hideHardwareSpecs": false,
    "memoryGiB": 16,
    "name": "ml.g4dn.xlarge",
    "vcpuNum": 4
   },
   {
    "_defaultOrder": 30,
    "_isFastLaunch": false,
    "category": "Accelerated computing",
    "gpuNum": 1,
    "hideHardwareSpecs": false,
    "memoryGiB": 32,
    "name": "ml.g4dn.2xlarge",
    "vcpuNum": 8
   },
   {
    "_defaultOrder": 31,
    "_isFastLaunch": false,
    "category": "Accelerated computing",
    "gpuNum": 1,
    "hideHardwareSpecs": false,
    "memoryGiB": 64,
    "name": "ml.g4dn.4xlarge",
    "vcpuNum": 16
   },
   {
    "_defaultOrder": 32,
    "_isFastLaunch": false,
    "category": "Accelerated computing",
    "gpuNum": 1,
    "hideHardwareSpecs": false,
    "memoryGiB": 128,
    "name": "ml.g4dn.8xlarge",
    "vcpuNum": 32
   },
   {
    "_defaultOrder": 33,
    "_isFastLaunch": false,
    "category": "Accelerated computing",
    "gpuNum": 4,
    "hideHardwareSpecs": false,
    "memoryGiB": 192,
    "name": "ml.g4dn.12xlarge",
    "vcpuNum": 48
   },
   {
    "_defaultOrder": 34,
    "_isFastLaunch": false,
    "category": "Accelerated computing",
    "gpuNum": 1,
    "hideHardwareSpecs": false,
    "memoryGiB": 256,
    "name": "ml.g4dn.16xlarge",
    "vcpuNum": 64
   },
   {
    "_defaultOrder": 35,
    "_isFastLaunch": false,
    "category": "Accelerated computing",
    "gpuNum": 1,
    "hideHardwareSpecs": false,
    "memoryGiB": 61,
    "name": "ml.p3.2xlarge",
    "vcpuNum": 8
   },
   {
    "_defaultOrder": 36,
    "_isFastLaunch": false,
    "category": "Accelerated computing",
    "gpuNum": 4,
    "hideHardwareSpecs": false,
    "memoryGiB": 244,
    "name": "ml.p3.8xlarge",
    "vcpuNum": 32
   },
   {
    "_defaultOrder": 37,
    "_isFastLaunch": false,
    "category": "Accelerated computing",
    "gpuNum": 8,
    "hideHardwareSpecs": false,
    "memoryGiB": 488,
    "name": "ml.p3.16xlarge",
    "vcpuNum": 64
   },
   {
    "_defaultOrder": 38,
    "_isFastLaunch": false,
    "category": "Accelerated computing",
    "gpuNum": 8,
    "hideHardwareSpecs": false,
    "memoryGiB": 768,
    "name": "ml.p3dn.24xlarge",
    "vcpuNum": 96
   },
   {
    "_defaultOrder": 39,
    "_isFastLaunch": false,
    "category": "Memory Optimized",
    "gpuNum": 0,
    "hideHardwareSpecs": false,
    "memoryGiB": 16,
    "name": "ml.r5.large",
    "vcpuNum": 2
   },
   {
    "_defaultOrder": 40,
    "_isFastLaunch": false,
    "category": "Memory Optimized",
    "gpuNum": 0,
    "hideHardwareSpecs": false,
    "memoryGiB": 32,
    "name": "ml.r5.xlarge",
    "vcpuNum": 4
   },
   {
    "_defaultOrder": 41,
    "_isFastLaunch": false,
    "category": "Memory Optimized",
    "gpuNum": 0,
    "hideHardwareSpecs": false,
    "memoryGiB": 64,
    "name": "ml.r5.2xlarge",
    "vcpuNum": 8
   },
   {
    "_defaultOrder": 42,
    "_isFastLaunch": false,
    "category": "Memory Optimized",
    "gpuNum": 0,
    "hideHardwareSpecs": false,
    "memoryGiB": 128,
    "name": "ml.r5.4xlarge",
    "vcpuNum": 16
   },
   {
    "_defaultOrder": 43,
    "_isFastLaunch": false,
    "category": "Memory Optimized",
    "gpuNum": 0,
    "hideHardwareSpecs": false,
    "memoryGiB": 256,
    "name": "ml.r5.8xlarge",
    "vcpuNum": 32
   },
   {
    "_defaultOrder": 44,
    "_isFastLaunch": false,
    "category": "Memory Optimized",
    "gpuNum": 0,
    "hideHardwareSpecs": false,
    "memoryGiB": 384,
    "name": "ml.r5.12xlarge",
    "vcpuNum": 48
   },
   {
    "_defaultOrder": 45,
    "_isFastLaunch": false,
    "category": "Memory Optimized",
    "gpuNum": 0,
    "hideHardwareSpecs": false,
    "memoryGiB": 512,
    "name": "ml.r5.16xlarge",
    "vcpuNum": 64
   },
   {
    "_defaultOrder": 46,
    "_isFastLaunch": false,
    "category": "Memory Optimized",
    "gpuNum": 0,
    "hideHardwareSpecs": false,
    "memoryGiB": 768,
    "name": "ml.r5.24xlarge",
    "vcpuNum": 96
   },
   {
    "_defaultOrder": 47,
    "_isFastLaunch": false,
    "category": "Accelerated computing",
    "gpuNum": 1,
    "hideHardwareSpecs": false,
    "memoryGiB": 16,
    "name": "ml.g5.xlarge",
    "vcpuNum": 4
   },
   {
    "_defaultOrder": 48,
    "_isFastLaunch": false,
    "category": "Accelerated computing",
    "gpuNum": 1,
    "hideHardwareSpecs": false,
    "memoryGiB": 32,
    "name": "ml.g5.2xlarge",
    "vcpuNum": 8
   },
   {
    "_defaultOrder": 49,
    "_isFastLaunch": false,
    "category": "Accelerated computing",
    "gpuNum": 1,
    "hideHardwareSpecs": false,
    "memoryGiB": 64,
    "name": "ml.g5.4xlarge",
    "vcpuNum": 16
   },
   {
    "_defaultOrder": 50,
    "_isFastLaunch": false,
    "category": "Accelerated computing",
    "gpuNum": 1,
    "hideHardwareSpecs": false,
    "memoryGiB": 128,
    "name": "ml.g5.8xlarge",
    "vcpuNum": 32
   },
   {
    "_defaultOrder": 51,
    "_isFastLaunch": false,
    "category": "Accelerated computing",
    "gpuNum": 1,
    "hideHardwareSpecs": false,
    "memoryGiB": 256,
    "name": "ml.g5.16xlarge",
    "vcpuNum": 64
   },
   {
    "_defaultOrder": 52,
    "_isFastLaunch": false,
    "category": "Accelerated computing",
    "gpuNum": 4,
    "hideHardwareSpecs": false,
    "memoryGiB": 192,
    "name": "ml.g5.12xlarge",
    "vcpuNum": 48
   },
   {
    "_defaultOrder": 53,
    "_isFastLaunch": false,
    "category": "Accelerated computing",
    "gpuNum": 4,
    "hideHardwareSpecs": false,
    "memoryGiB": 384,
    "name": "ml.g5.24xlarge",
    "vcpuNum": 96
   },
   {
    "_defaultOrder": 54,
    "_isFastLaunch": false,
    "category": "Accelerated computing",
    "gpuNum": 8,
    "hideHardwareSpecs": false,
    "memoryGiB": 768,
    "name": "ml.g5.48xlarge",
    "vcpuNum": 192
   },
   {
    "_defaultOrder": 55,
    "_isFastLaunch": false,
    "category": "Accelerated computing",
    "gpuNum": 8,
    "hideHardwareSpecs": false,
    "memoryGiB": 1152,
    "name": "ml.p4d.24xlarge",
    "vcpuNum": 96
   },
   {
    "_defaultOrder": 56,
    "_isFastLaunch": false,
    "category": "Accelerated computing",
    "gpuNum": 8,
    "hideHardwareSpecs": false,
    "memoryGiB": 1152,
    "name": "ml.p4de.24xlarge",
    "vcpuNum": 96
   },
   {
    "_defaultOrder": 57,
    "_isFastLaunch": false,
    "category": "Accelerated computing",
    "gpuNum": 0,
    "hideHardwareSpecs": false,
    "memoryGiB": 32,
    "name": "ml.trn1.2xlarge",
    "vcpuNum": 8
   },
   {
    "_defaultOrder": 58,
    "_isFastLaunch": false,
    "category": "Accelerated computing",
    "gpuNum": 0,
    "hideHardwareSpecs": false,
    "memoryGiB": 512,
    "name": "ml.trn1.32xlarge",
    "vcpuNum": 128
   },
   {
    "_defaultOrder": 59,
    "_isFastLaunch": false,
    "category": "Accelerated computing",
    "gpuNum": 0,
    "hideHardwareSpecs": false,
    "memoryGiB": 512,
    "name": "ml.trn1n.32xlarge",
    "vcpuNum": 128
   }
  ],
  "instance_type": "ml.t3.medium",
  "kernelspec": {
   "display_name": "Python 3 (Data Science 3.0)",
   "language": "python",
   "name": "python3__SAGEMAKER_INTERNAL__arn:aws:sagemaker:us-east-1:081325390199:image/sagemaker-data-science-310-v1"
  },
  "language_info": {
   "codemirror_mode": {
    "name": "ipython",
    "version": 3
   },
   "file_extension": ".py",
   "mimetype": "text/x-python",
   "name": "python",
   "nbconvert_exporter": "python",
   "pygments_lexer": "ipython3",
   "version": "3.10.6"
  }
 },
 "nbformat": 4,
 "nbformat_minor": 5
}
